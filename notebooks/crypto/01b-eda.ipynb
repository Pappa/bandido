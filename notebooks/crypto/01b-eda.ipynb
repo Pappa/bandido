{
 "cells": [
  {
   "cell_type": "markdown",
   "metadata": {},
   "source": [
    "## Explore training data"
   ]
  },
  {
   "cell_type": "code",
   "execution_count": 1,
   "metadata": {},
   "outputs": [],
   "source": [
    "import pandas as pd\n",
    "import numpy as np\n",
    "from IPython.display import display\n",
    "import matplotlib.pyplot as plt\n",
    "import seaborn as sns\n",
    "\n",
    "pd.set_option('display.float_format', lambda x: '%.4f' % x)"
   ]
  },
  {
   "cell_type": "code",
   "execution_count": 2,
   "metadata": {},
   "outputs": [
    {
     "name": "stdout",
     "output_type": "stream",
     "text": [
      "(111655, 7)\n"
     ]
    },
    {
     "data": {
      "text/html": [
       "<div>\n",
       "<style scoped>\n",
       "    .dataframe tbody tr th:only-of-type {\n",
       "        vertical-align: middle;\n",
       "    }\n",
       "\n",
       "    .dataframe tbody tr th {\n",
       "        vertical-align: top;\n",
       "    }\n",
       "\n",
       "    .dataframe thead th {\n",
       "        text-align: right;\n",
       "    }\n",
       "</style>\n",
       "<table border=\"1\" class=\"dataframe\">\n",
       "  <thead>\n",
       "    <tr style=\"text-align: right;\">\n",
       "      <th></th>\n",
       "      <th>timestamp</th>\n",
       "      <th>symbol</th>\n",
       "      <th>open</th>\n",
       "      <th>high</th>\n",
       "      <th>low</th>\n",
       "      <th>close</th>\n",
       "      <th>volume</th>\n",
       "    </tr>\n",
       "  </thead>\n",
       "  <tbody>\n",
       "    <tr>\n",
       "      <th>0</th>\n",
       "      <td>2023-01-01 00:00:00</td>\n",
       "      <td>BTC/USDT</td>\n",
       "      <td>16541.7700</td>\n",
       "      <td>16545.7000</td>\n",
       "      <td>16508.3900</td>\n",
       "      <td>16529.6700</td>\n",
       "      <td>4364.8357</td>\n",
       "    </tr>\n",
       "    <tr>\n",
       "      <th>1</th>\n",
       "      <td>2023-01-01 00:00:00</td>\n",
       "      <td>SOL/USDT</td>\n",
       "      <td>9.9700</td>\n",
       "      <td>10.0200</td>\n",
       "      <td>9.9300</td>\n",
       "      <td>9.9900</td>\n",
       "      <td>126479.6700</td>\n",
       "    </tr>\n",
       "    <tr>\n",
       "      <th>2</th>\n",
       "      <td>2023-01-01 00:00:00</td>\n",
       "      <td>ETH/USDT</td>\n",
       "      <td>1196.1300</td>\n",
       "      <td>1196.7000</td>\n",
       "      <td>1192.7200</td>\n",
       "      <td>1194.0900</td>\n",
       "      <td>5889.3840</td>\n",
       "    </tr>\n",
       "    <tr>\n",
       "      <th>3</th>\n",
       "      <td>2023-01-01 00:00:00</td>\n",
       "      <td>DOGE/USDT</td>\n",
       "      <td>0.0702</td>\n",
       "      <td>0.0703</td>\n",
       "      <td>0.0694</td>\n",
       "      <td>0.0698</td>\n",
       "      <td>40611931.0000</td>\n",
       "    </tr>\n",
       "    <tr>\n",
       "      <th>4</th>\n",
       "      <td>2023-01-01 00:00:00</td>\n",
       "      <td>XRP/USDT</td>\n",
       "      <td>0.3389</td>\n",
       "      <td>0.3390</td>\n",
       "      <td>0.3377</td>\n",
       "      <td>0.3385</td>\n",
       "      <td>11231966.0000</td>\n",
       "    </tr>\n",
       "  </tbody>\n",
       "</table>\n",
       "</div>"
      ],
      "text/plain": [
       "             timestamp     symbol       open       high        low      close  \\\n",
       "0  2023-01-01 00:00:00   BTC/USDT 16541.7700 16545.7000 16508.3900 16529.6700   \n",
       "1  2023-01-01 00:00:00   SOL/USDT     9.9700    10.0200     9.9300     9.9900   \n",
       "2  2023-01-01 00:00:00   ETH/USDT  1196.1300  1196.7000  1192.7200  1194.0900   \n",
       "3  2023-01-01 00:00:00  DOGE/USDT     0.0702     0.0703     0.0694     0.0698   \n",
       "4  2023-01-01 00:00:00   XRP/USDT     0.3389     0.3390     0.3377     0.3385   \n",
       "\n",
       "         volume  \n",
       "0     4364.8357  \n",
       "1   126479.6700  \n",
       "2     5889.3840  \n",
       "3 40611931.0000  \n",
       "4 11231966.0000  "
      ]
     },
     "execution_count": 2,
     "metadata": {},
     "output_type": "execute_result"
    }
   ],
   "source": [
    "df = pd.read_csv('data/ohlcv.csv.gz', compression='gzip')\n",
    "print(df.shape)\n",
    "\n",
    "df = df.head(500)\n",
    "df.head(5)"
   ]
  },
  {
   "cell_type": "code",
   "execution_count": 3,
   "metadata": {},
   "outputs": [
    {
     "data": {
      "text/plain": [
       "((81, 8), (81, 1))"
      ]
     },
     "execution_count": 3,
     "metadata": {},
     "output_type": "execute_result"
    }
   ],
   "source": [
    "from trading_utils import preprocess_data, create_wide_format_data, SYMBOLS\n",
    "TECHNICAL_FEATURES = ['price_change', 'volume_change', 'rsi', 'macd', 'macd_signal', 'macd_hist', 'bb_percent_b', 'bb_bandwidth']\n",
    "\n",
    "symbols = ['BTC'] #SYMBOLS\n",
    "all_data = preprocess_data(df)\n",
    "observations_df, prices_df = create_wide_format_data(\n",
    "    all_data, \n",
    "    symbols=symbols, \n",
    "    features=TECHNICAL_FEATURES\n",
    ")\n",
    "\n",
    "observations_df.shape, prices_df.shape"
   ]
  },
  {
   "cell_type": "code",
   "execution_count": 4,
   "metadata": {},
   "outputs": [
    {
     "data": {
      "text/html": [
       "<div>\n",
       "<style scoped>\n",
       "    .dataframe tbody tr th:only-of-type {\n",
       "        vertical-align: middle;\n",
       "    }\n",
       "\n",
       "    .dataframe tbody tr th {\n",
       "        vertical-align: top;\n",
       "    }\n",
       "\n",
       "    .dataframe thead th {\n",
       "        text-align: right;\n",
       "    }\n",
       "</style>\n",
       "<table border=\"1\" class=\"dataframe\">\n",
       "  <thead>\n",
       "    <tr style=\"text-align: right;\">\n",
       "      <th></th>\n",
       "      <th>BTC_price_change</th>\n",
       "      <th>BTC_volume_change</th>\n",
       "      <th>BTC_rsi</th>\n",
       "      <th>BTC_macd</th>\n",
       "      <th>BTC_macd_signal</th>\n",
       "      <th>BTC_macd_hist</th>\n",
       "      <th>BTC_bb_percent_b</th>\n",
       "      <th>BTC_bb_bandwidth</th>\n",
       "    </tr>\n",
       "    <tr>\n",
       "      <th>timestamp</th>\n",
       "      <th></th>\n",
       "      <th></th>\n",
       "      <th></th>\n",
       "      <th></th>\n",
       "      <th></th>\n",
       "      <th></th>\n",
       "      <th></th>\n",
       "      <th></th>\n",
       "    </tr>\n",
       "  </thead>\n",
       "  <tbody>\n",
       "    <tr>\n",
       "      <th>2023-01-01 19:00:00</th>\n",
       "      <td>0.0007</td>\n",
       "      <td>0.1359</td>\n",
       "      <td>54.6666</td>\n",
       "      <td>14.0088</td>\n",
       "      <td>7.8494</td>\n",
       "      <td>6.1595</td>\n",
       "      <td>1.0870</td>\n",
       "      <td>0.0055</td>\n",
       "    </tr>\n",
       "    <tr>\n",
       "      <th>2023-01-01 20:00:00</th>\n",
       "      <td>0.0001</td>\n",
       "      <td>-0.1106</td>\n",
       "      <td>54.9600</td>\n",
       "      <td>16.0869</td>\n",
       "      <td>9.4969</td>\n",
       "      <td>6.5900</td>\n",
       "      <td>1.0047</td>\n",
       "      <td>0.0062</td>\n",
       "    </tr>\n",
       "    <tr>\n",
       "      <th>2023-01-01 21:00:00</th>\n",
       "      <td>0.0001</td>\n",
       "      <td>-0.1271</td>\n",
       "      <td>55.6444</td>\n",
       "      <td>17.7048</td>\n",
       "      <td>11.1385</td>\n",
       "      <td>6.5663</td>\n",
       "      <td>0.9516</td>\n",
       "      <td>0.0068</td>\n",
       "    </tr>\n",
       "    <tr>\n",
       "      <th>2023-01-01 22:00:00</th>\n",
       "      <td>-0.0003</td>\n",
       "      <td>0.0091</td>\n",
       "      <td>53.6614</td>\n",
       "      <td>18.4069</td>\n",
       "      <td>12.5921</td>\n",
       "      <td>5.8147</td>\n",
       "      <td>0.8644</td>\n",
       "      <td>0.0072</td>\n",
       "    </tr>\n",
       "    <tr>\n",
       "      <th>2023-01-01 23:00:00</th>\n",
       "      <td>0.0009</td>\n",
       "      <td>0.0424</td>\n",
       "      <td>58.3463</td>\n",
       "      <td>19.9142</td>\n",
       "      <td>14.0566</td>\n",
       "      <td>5.8576</td>\n",
       "      <td>0.9230</td>\n",
       "      <td>0.0077</td>\n",
       "    </tr>\n",
       "  </tbody>\n",
       "</table>\n",
       "</div>"
      ],
      "text/plain": [
       "                     BTC_price_change  BTC_volume_change  BTC_rsi  BTC_macd  \\\n",
       "timestamp                                                                     \n",
       "2023-01-01 19:00:00            0.0007             0.1359  54.6666   14.0088   \n",
       "2023-01-01 20:00:00            0.0001            -0.1106  54.9600   16.0869   \n",
       "2023-01-01 21:00:00            0.0001            -0.1271  55.6444   17.7048   \n",
       "2023-01-01 22:00:00           -0.0003             0.0091  53.6614   18.4069   \n",
       "2023-01-01 23:00:00            0.0009             0.0424  58.3463   19.9142   \n",
       "\n",
       "                     BTC_macd_signal  BTC_macd_hist  BTC_bb_percent_b  \\\n",
       "timestamp                                                               \n",
       "2023-01-01 19:00:00           7.8494         6.1595            1.0870   \n",
       "2023-01-01 20:00:00           9.4969         6.5900            1.0047   \n",
       "2023-01-01 21:00:00          11.1385         6.5663            0.9516   \n",
       "2023-01-01 22:00:00          12.5921         5.8147            0.8644   \n",
       "2023-01-01 23:00:00          14.0566         5.8576            0.9230   \n",
       "\n",
       "                     BTC_bb_bandwidth  \n",
       "timestamp                              \n",
       "2023-01-01 19:00:00            0.0055  \n",
       "2023-01-01 20:00:00            0.0062  \n",
       "2023-01-01 21:00:00            0.0068  \n",
       "2023-01-01 22:00:00            0.0072  \n",
       "2023-01-01 23:00:00            0.0077  "
      ]
     },
     "execution_count": 4,
     "metadata": {},
     "output_type": "execute_result"
    }
   ],
   "source": [
    "# observation data\n",
    "observations_df.head(5)"
   ]
  },
  {
   "cell_type": "code",
   "execution_count": 5,
   "metadata": {},
   "outputs": [
    {
     "data": {
      "text/html": [
       "<div>\n",
       "<style scoped>\n",
       "    .dataframe tbody tr th:only-of-type {\n",
       "        vertical-align: middle;\n",
       "    }\n",
       "\n",
       "    .dataframe tbody tr th {\n",
       "        vertical-align: top;\n",
       "    }\n",
       "\n",
       "    .dataframe thead th {\n",
       "        text-align: right;\n",
       "    }\n",
       "</style>\n",
       "<table border=\"1\" class=\"dataframe\">\n",
       "  <thead>\n",
       "    <tr style=\"text-align: right;\">\n",
       "      <th>symbol</th>\n",
       "      <th>BTC</th>\n",
       "    </tr>\n",
       "    <tr>\n",
       "      <th>timestamp</th>\n",
       "      <th></th>\n",
       "    </tr>\n",
       "  </thead>\n",
       "  <tbody>\n",
       "    <tr>\n",
       "      <th>2023-01-01 19:00:00</th>\n",
       "      <td>16603.0800</td>\n",
       "    </tr>\n",
       "    <tr>\n",
       "      <th>2023-01-01 20:00:00</th>\n",
       "      <td>16604.5100</td>\n",
       "    </tr>\n",
       "    <tr>\n",
       "      <th>2023-01-01 21:00:00</th>\n",
       "      <td>16606.6800</td>\n",
       "    </tr>\n",
       "    <tr>\n",
       "      <th>2023-01-01 22:00:00</th>\n",
       "      <td>16602.1200</td>\n",
       "    </tr>\n",
       "    <tr>\n",
       "      <th>2023-01-01 23:00:00</th>\n",
       "      <td>16616.7500</td>\n",
       "    </tr>\n",
       "  </tbody>\n",
       "</table>\n",
       "</div>"
      ],
      "text/plain": [
       "symbol                     BTC\n",
       "timestamp                     \n",
       "2023-01-01 19:00:00 16603.0800\n",
       "2023-01-01 20:00:00 16604.5100\n",
       "2023-01-01 21:00:00 16606.6800\n",
       "2023-01-01 22:00:00 16602.1200\n",
       "2023-01-01 23:00:00 16616.7500"
      ]
     },
     "execution_count": 5,
     "metadata": {},
     "output_type": "execute_result"
    }
   ],
   "source": [
    "# prices data\n",
    "prices_df.head(5)"
   ]
  },
  {
   "cell_type": "code",
   "execution_count": 6,
   "metadata": {},
   "outputs": [
    {
     "data": {
      "image/png": "[encoded data removed]",
      "text/plain": [
       "<Figure size 1200x300 with 1 Axes>"
      ]
     },
     "metadata": {},
     "output_type": "display_data"
    }
   ],
   "source": [
    "fig, a = plt.subplots(len(symbols), 1, figsize=(12, len(symbols) * 3), tight_layout=True)\n",
    "prices_df.plot(ax=a, subplots=True, rot=25);"
   ]
  },
  {
   "cell_type": "code",
   "execution_count": 7,
   "metadata": {},
   "outputs": [
    {
     "data": {
      "image/png": "[encoded data removed]",
      "text/plain": [
       "<Figure size 1200x800 with 2 Axes>"
      ]
     },
     "metadata": {},
     "output_type": "display_data"
    }
   ],
   "source": [
    "for symbol in symbols:\n",
    "    columns = [f\"{symbol}_{feature}\" for feature in TECHNICAL_FEATURES]\n",
    "    features_df = observations_df[columns].rename(columns=dict(zip(columns, TECHNICAL_FEATURES)))\n",
    "\n",
    "    corr = features_df.corr()\n",
    "    plt.figure(figsize=(12, 8))\n",
    "    plt.title(f\"Correlation Matrix: {symbol}\")\n",
    "    hm = sns.heatmap(corr, vmax=1, square=True, annot=True, cmap=\"coolwarm\")\n",
    "    hm.set_xticklabels(hm.get_xticklabels(), rotation = 35)\n",
    "    plt.show()"
   ]
  },
  {
   "cell_type": "code",
   "execution_count": 8,
   "metadata": {},
   "outputs": [
    {
     "name": "stdout",
     "output_type": "stream",
     "text": [
      "Requirement already satisfied: plotly in /usr/local/lib/python3.11/dist-packages (6.2.0)\n",
      "Requirement already satisfied: narwhals>=1.15.1 in /usr/local/lib/python3.11/dist-packages (from plotly) (1.48.1)\n",
      "Requirement already satisfied: packaging in /usr/local/lib/python3.11/dist-packages (from plotly) (23.2)\n",
      "\u001b[33mWARNING: Running pip as the 'root' user can result in broken permissions and conflicting behaviour with the system package manager, possibly rendering your system unusable. It is recommended to use a virtual environment instead: https://pip.pypa.io/warnings/venv. Use the --root-user-action option if you know what you are doing and want to suppress this warning.\u001b[0m\u001b[33m\n",
      "\u001b[0mNote: you may need to restart the kernel to use updated packages.\n"
     ]
    },
    {
     "data": {
      "text/html": [
       "        <script type=\"text/javascript\">\n",
       "        window.PlotlyConfig = {MathJaxConfig: 'local'};\n",
       "        if (window.MathJax && window.MathJax.Hub && window.MathJax.Hub.Config) {window.MathJax.Hub.Config({SVG: {font: \"STIX-Web\"}});}\n",
       "        </script>\n",
       "        <script type=\"module\">import \"https://cdn.plot.ly/plotly-3.0.1.min\"</script>\n",
       "        "
      ]
     },
     "metadata": {},
     "output_type": "display_data"
    }
   ],
   "source": [
    "%pip install plotly\n",
    "from plotly.offline import init_notebook_mode, iplot\n",
    "from plotly.subplots import make_subplots\n",
    "import plotly.graph_objects as go\n",
    "\n",
    "init_notebook_mode(connected=True)         # initiate notebook for offline plot"
   ]
  },
  {
   "cell_type": "code",
   "execution_count": 10,
   "metadata": {},
   "outputs": [
    {
     "data": {
      "application/vnd.plotly.v1+json": {
       "config": {
        "plotlyServerURL": "https://plot.ly"
       },
       "data": [
        {
         "legendgroup": "1",
         "line": {
          "color": "rgb(0,100,200)",
          "width": 1
         },
         "name": "BTC",
         "type": "scatter",
         "x": [
          "2023-01-01 19:00:00",
          "2023-01-01 20:00:00",
          "2023-01-01 21:00:00",
          "2023-01-01 22:00:00",
          "2023-01-01 23:00:00",
          "2023-01-02 00:00:00",
          "2023-01-02 01:00:00",
          "2023-01-02 02:00:00",
          "2023-01-02 03:00:00",
          "2023-01-02 04:00:00",
          "2023-01-02 05:00:00",
          "2023-01-02 06:00:00",
          "2023-01-02 07:00:00",
          "2023-01-02 08:00:00",
          "2023-01-02 09:00:00",
          "2023-01-02 10:00:00",
          "2023-01-02 11:00:00",
          "2023-01-02 12:00:00",
          "2023-01-02 13:00:00",
          "2023-01-02 14:00:00",
          "2023-01-02 15:00:00",
          "2023-01-02 16:00:00",
          "2023-01-02 17:00:00",
          "2023-01-02 18:00:00",
          "2023-01-02 19:00:00",
          "2023-01-02 20:00:00",
          "2023-01-02 21:00:00",
          "2023-01-02 22:00:00",
          "2023-01-02 23:00:00",
          "2023-01-03 00:00:00",
          "2023-01-03 01:00:00",
          "2023-01-03 02:00:00",
          "2023-01-03 03:00:00",
          "2023-01-03 04:00:00",
          "2023-01-03 05:00:00",
          "2023-01-03 06:00:00",
          "2023-01-03 07:00:00",
          "2023-01-03 08:00:00",
          "2023-01-03 09:00:00",
          "2023-01-03 10:00:00",
          "2023-01-03 11:00:00",
          "2023-01-03 12:00:00",
          "2023-01-03 13:00:00",
          "2023-01-03 14:00:00",
          "2023-01-03 15:00:00",
          "2023-01-03 16:00:00",
          "2023-01-03 17:00:00",
          "2023-01-03 18:00:00",
          "2023-01-03 19:00:00",
          "2023-01-03 20:00:00",
          "2023-01-03 21:00:00",
          "2023-01-03 22:00:00",
          "2023-01-03 23:00:00",
          "2023-01-04 00:00:00",
          "2023-01-04 01:00:00",
          "2023-01-04 02:00:00",
          "2023-01-04 03:00:00",
          "2023-01-04 04:00:00",
          "2023-01-04 05:00:00",
          "2023-01-04 06:00:00",
          "2023-01-04 07:00:00",
          "2023-01-04 08:00:00",
          "2023-01-04 09:00:00",
          "2023-01-04 10:00:00",
          "2023-01-04 11:00:00",
          "2023-01-04 12:00:00",
          "2023-01-04 13:00:00",
          "2023-01-04 14:00:00",
          "2023-01-04 15:00:00",
          "2023-01-04 16:00:00",
          "2023-01-04 17:00:00",
          "2023-01-04 18:00:00",
          "2023-01-04 19:00:00",
          "2023-01-04 20:00:00",
          "2023-01-04 21:00:00",
          "2023-01-04 22:00:00",
          "2023-01-04 23:00:00",
          "2023-01-05 00:00:00",
          "2023-01-05 01:00:00",
          "2023-01-05 02:00:00",
          "2023-01-05 03:00:00"
         ],
         "xaxis": "x",
         "y": {
          "bdata": "7FG4HsU20EA9CtejIDfQQFK4HoWrN9BA4XoUroc20EAAAAAAMDrQQGZmZmYWM9BA9ihcj0It0EBmZmZm9jLQQI/C9Sh8RdBAj8L1KNw/0EDsUbge5UHQQGZmZmZGQNBAuB6F61FU0EAK16NwbVfQQAAAAABgU9BAzczMzPxV0ECkcD0Kx1fQQPYoXI9iVNBAuB6F67FN0ECPwvUorE7QQNejcD2qV9BAH4XrUbhR0EAUrkfh2lLQQHE9CtfzVNBAcT0K12NY0EB7FK5HIVbQQD0K16NwXdBAmpmZmZlO0EDhehSuN0jQQClcj8LlTdBAZmZmZmZJ0EC4HoXrgUjQQHE9CtfzTNBAXI/C9WhL0EAAAAAAYFXQQOxRuB7lVdBAw/UoXG9W0EBI4XoUzlLQQHE9CtdTWdBArkfhehRV0EC4HoXrQVTQQGZmZma2UdBAuB6F62FV0ECF61G4TkXQQI/C9Sg8SdBA7FG4HqU70ECamZmZaT7QQOxRuB5FQdBA4XoUrtdA0EDhehSuV0XQQB+F61EoRtBApHA9CkdJ0EBSuB6Fy0jQQLgeheshRdBASOF6FH5P0EB7FK5HIVjQQHsUrkeBd9BAAAAAACB30ECuR+F6ZHbQQFK4HoWLe9BAj8L1KFx50EDNzMzMPHjQQNejcD06c9BAFK5H4Tpz0EBmZmZm1nDQQI/C9SgMa9BAzczMzAxv0EDhehSuh2/QQDMzMzODddBAZmZmZrZ20EDD9ShcT3/QQPYoXI8CjdBApHA9Cpdy0EDD9Shcn2nQQHE9CtezbtBAUrgehatu0ECkcD0Kl3TQQM3MzMwcb9BAmpmZmTlw0EAzMzMzM3HQQArXo3DtbtBA",
          "dtype": "f8"
         },
         "yaxis": "y"
        },
        {
         "legendgroup": "2",
         "line": {
          "color": "rgb(0,0,0)",
          "width": 1
         },
         "name": "macd",
         "type": "scatter",
         "x": [
          "2023-01-01 19:00:00",
          "2023-01-01 20:00:00",
          "2023-01-01 21:00:00",
          "2023-01-01 22:00:00",
          "2023-01-01 23:00:00",
          "2023-01-02 00:00:00",
          "2023-01-02 01:00:00",
          "2023-01-02 02:00:00",
          "2023-01-02 03:00:00",
          "2023-01-02 04:00:00",
          "2023-01-02 05:00:00",
          "2023-01-02 06:00:00",
          "2023-01-02 07:00:00",
          "2023-01-02 08:00:00",
          "2023-01-02 09:00:00",
          "2023-01-02 10:00:00",
          "2023-01-02 11:00:00",
          "2023-01-02 12:00:00",
          "2023-01-02 13:00:00",
          "2023-01-02 14:00:00",
          "2023-01-02 15:00:00",
          "2023-01-02 16:00:00",
          "2023-01-02 17:00:00",
          "2023-01-02 18:00:00",
          "2023-01-02 19:00:00",
          "2023-01-02 20:00:00",
          "2023-01-02 21:00:00",
          "2023-01-02 22:00:00",
          "2023-01-02 23:00:00",
          "2023-01-03 00:00:00",
          "2023-01-03 01:00:00",
          "2023-01-03 02:00:00",
          "2023-01-03 03:00:00",
          "2023-01-03 04:00:00",
          "2023-01-03 05:00:00",
          "2023-01-03 06:00:00",
          "2023-01-03 07:00:00",
          "2023-01-03 08:00:00",
          "2023-01-03 09:00:00",
          "2023-01-03 10:00:00",
          "2023-01-03 11:00:00",
          "2023-01-03 12:00:00",
          "2023-01-03 13:00:00",
          "2023-01-03 14:00:00",
          "2023-01-03 15:00:00",
          "2023-01-03 16:00:00",
          "2023-01-03 17:00:00",
          "2023-01-03 18:00:00",
          "2023-01-03 19:00:00",
          "2023-01-03 20:00:00",
          "2023-01-03 21:00:00",
          "2023-01-03 22:00:00",
          "2023-01-03 23:00:00",
          "2023-01-04 00:00:00",
          "2023-01-04 01:00:00",
          "2023-01-04 02:00:00",
          "2023-01-04 03:00:00",
          "2023-01-04 04:00:00",
          "2023-01-04 05:00:00",
          "2023-01-04 06:00:00",
          "2023-01-04 07:00:00",
          "2023-01-04 08:00:00",
          "2023-01-04 09:00:00",
          "2023-01-04 10:00:00",
          "2023-01-04 11:00:00",
          "2023-01-04 12:00:00",
          "2023-01-04 13:00:00",
          "2023-01-04 14:00:00",
          "2023-01-04 15:00:00",
          "2023-01-04 16:00:00",
          "2023-01-04 17:00:00",
          "2023-01-04 18:00:00",
          "2023-01-04 19:00:00",
          "2023-01-04 20:00:00",
          "2023-01-04 21:00:00",
          "2023-01-04 22:00:00",
          "2023-01-04 23:00:00",
          "2023-01-05 00:00:00",
          "2023-01-05 01:00:00",
          "2023-01-05 02:00:00",
          "2023-01-05 03:00:00"
         ],
         "xaxis": "x2",
         "y": {
          "bdata": "ABA674QELEAAiJr9PhYwQADgho1ttDFAAMxjsydoMkAAYLAzCeozQACg9sNKmjJAADDh1eMBL0AAeN7W7W8tQACE1gaa2DNAAKgoo6LXNUAAUMEWh843QADQZv++jjhAADB42htDP0AAzF3OPJNCQACaZZIFBkRAALDKJc9YRUAA5nHJEm1GQADA05CIeUZAANS8kHwwRUAAMHkLyxhEQABkRztQckRAADwGk/yJQ0AAeNeTUclCQADm7dE6UUJAAL5VdhpKQkAACJlZ27JBQADc9ilKM0JAALTyp7MEQEAAEMaWSzc6QACg/FZUKzdAABT5HkQVM0AAeILyPsIuQACI+KwCcStAAKhlQpiLJ0AAmB2id5UqQABQEH5P/ixAAJizoTrlLkAAIOcYirctQAAwXiIKTzBAAKgvd8HOL0AAgBhGJ0kuQACYegLFHytAAOCD2hWuKkAAcNuh6YkfQADQLjyAGBNAAAApZMVuAMAAkM9GHv0ZwACIdwUd/CHAAJDDcGv2JcAACHNC/PQlwADIddmnLiXAAMAff79XIsAA0LxcjDcgwABgVWs5tCDAAFC7wECRFMAAAJ5YvA7IPwBo7iX2vixAAOw+cZgzOUAAJJqoD5VAQADCMJ+yVURAAK5MNMSxRkAABPsd/BpIQAA+BogKI0hAACoX6wnjR0AAvNpgfQlHQADIWNRaL0VAAFD0YI0hREAAtuYYCydDQADQsOA+H0NAAKw2qlwSQ0AA/hhgxy9EQAA0t6QOBEdAALinJEnBREAACDgJBVFBQADsUbWieD5AAGxm2F3aOkAANOvQ5pk5QAB4A8eylDZAAJjRaOlPNEAAAOcFRJ0yQACYyhDLWDBA",
          "dtype": "f8"
         },
         "yaxis": "y2"
        },
        {
         "legendgroup": "2",
         "line": {
          "color": "rgb(0,181,226)",
          "width": 1
         },
         "name": "macd_signal",
         "type": "scatter",
         "x": [
          "2023-01-01 19:00:00",
          "2023-01-01 20:00:00",
          "2023-01-01 21:00:00",
          "2023-01-01 22:00:00",
          "2023-01-01 23:00:00",
          "2023-01-02 00:00:00",
          "2023-01-02 01:00:00",
          "2023-01-02 02:00:00",
          "2023-01-02 03:00:00",
          "2023-01-02 04:00:00",
          "2023-01-02 05:00:00",
          "2023-01-02 06:00:00",
          "2023-01-02 07:00:00",
          "2023-01-02 08:00:00",
          "2023-01-02 09:00:00",
          "2023-01-02 10:00:00",
          "2023-01-02 11:00:00",
          "2023-01-02 12:00:00",
          "2023-01-02 13:00:00",
          "2023-01-02 14:00:00",
          "2023-01-02 15:00:00",
          "2023-01-02 16:00:00",
          "2023-01-02 17:00:00",
          "2023-01-02 18:00:00",
          "2023-01-02 19:00:00",
          "2023-01-02 20:00:00",
          "2023-01-02 21:00:00",
          "2023-01-02 22:00:00",
          "2023-01-02 23:00:00",
          "2023-01-03 00:00:00",
          "2023-01-03 01:00:00",
          "2023-01-03 02:00:00",
          "2023-01-03 03:00:00",
          "2023-01-03 04:00:00",
          "2023-01-03 05:00:00",
          "2023-01-03 06:00:00",
          "2023-01-03 07:00:00",
          "2023-01-03 08:00:00",
          "2023-01-03 09:00:00",
          "2023-01-03 10:00:00",
          "2023-01-03 11:00:00",
          "2023-01-03 12:00:00",
          "2023-01-03 13:00:00",
          "2023-01-03 14:00:00",
          "2023-01-03 15:00:00",
          "2023-01-03 16:00:00",
          "2023-01-03 17:00:00",
          "2023-01-03 18:00:00",
          "2023-01-03 19:00:00",
          "2023-01-03 20:00:00",
          "2023-01-03 21:00:00",
          "2023-01-03 22:00:00",
          "2023-01-03 23:00:00",
          "2023-01-04 00:00:00",
          "2023-01-04 01:00:00",
          "2023-01-04 02:00:00",
          "2023-01-04 03:00:00",
          "2023-01-04 04:00:00",
          "2023-01-04 05:00:00",
          "2023-01-04 06:00:00",
          "2023-01-04 07:00:00",
          "2023-01-04 08:00:00",
          "2023-01-04 09:00:00",
          "2023-01-04 10:00:00",
          "2023-01-04 11:00:00",
          "2023-01-04 12:00:00",
          "2023-01-04 13:00:00",
          "2023-01-04 14:00:00",
          "2023-01-04 15:00:00",
          "2023-01-04 16:00:00",
          "2023-01-04 17:00:00",
          "2023-01-04 18:00:00",
          "2023-01-04 19:00:00",
          "2023-01-04 20:00:00",
          "2023-01-04 21:00:00",
          "2023-01-04 22:00:00",
          "2023-01-04 23:00:00",
          "2023-01-05 00:00:00",
          "2023-01-05 01:00:00",
          "2023-01-05 02:00:00",
          "2023-01-05 03:00:00"
         ],
         "xaxis": "x2",
         "y": {
          "bdata": "TagOxsJlH0C5eRAbZ/4iQMiHqbTkRiZABouvPi0vKUBsYjmt9BwsQIpbXT977i1ACIZEKpAlLkCh6fx/PAEuQE6Jhs868S9AH/I9DTglMUCz0fHbR3oyQMM3CeOSsTNANjbseuEBNkBe40gbMwk5QOVZybbECTxAHlslbiP4PkAM7FhUeN9AQNd8cWBI/kFA4CcaauyhQkDmj5O95exCQB+Ht9bHOkNAsxGUL59KQ0ApJjvdwjBDQO6yKw4OBENAixs0Vt3eQkAJfnvw3KJCQDr3YGKMjEJA/Bx+o/oKQkDKGN8RUA5BQN56l8dd7D9Assx3P/JaPUD14myxYY86QCvDPJ8B/jdAImDUUl2MNUCCQhNso+UzQGhwd0kk0TJAVByL5KIkMkBDACCGdnwxQGmjX6UtQDFA7nkE3Tf7MECMoZ8EF50wQAoqv1DZADBAd9blrPnwLkBg0E3nK+grQLTuQvIvPChA934z4wKRIkAle8LDMYIYQNbxPZtr0whA+D4PQzRT0j8CzYH2VXf/v2hYxUNCiA3AxAnCGmcmE8Bqweagis4VwCLB2t6FIBjAT3fU2ERqF8BA/OhM7JQSwMw02HKh7+q/U4Tpm7Z3EUC7UXL4u0AkQH6hpzwsPDBAmJNxRdgQNkBGEYxDeEs7QDjApZ+XfT9AFyJ6CKVfQUCsDScanYFCQL3/MAzDCkNAl9wkHYVCQ0Dg1H5PBj1DQBoHvJ8RN0NAFShuO7ovQ0DeUpAP8GJDQBizMfrCHERArU1JnKo9REBX2UXl76dDQEYSwPycxUJAaxnXX+2zQUCJmcOU7rhAQEKnOXyhRT9Azj2Lq3wUPUClZGqKpPw6QLg7F3Lf2zhA",
          "dtype": "f8"
         },
         "yaxis": "y2"
        },
        {
         "marker": {
          "color": [
           "rgb(0,177,64)",
           "rgb(0,177,64)",
           "rgb(0,177,64)",
           "rgb(0,177,64)",
           "rgb(0,177,64)",
           "rgb(0,177,64)",
           "rgb(0,177,64)",
           "rgb(255,0,0)",
           "rgb(0,177,64)",
           "rgb(0,177,64)",
           "rgb(0,177,64)",
           "rgb(0,177,64)",
           "rgb(0,177,64)",
           "rgb(0,177,64)",
           "rgb(0,177,64)",
           "rgb(0,177,64)",
           "rgb(0,177,64)",
           "rgb(0,177,64)",
           "rgb(0,177,64)",
           "rgb(0,177,64)",
           "rgb(0,177,64)",
           "rgb(0,177,64)",
           "rgb(255,0,0)",
           "rgb(255,0,0)",
           "rgb(255,0,0)",
           "rgb(255,0,0)",
           "rgb(255,0,0)",
           "rgb(255,0,0)",
           "rgb(255,0,0)",
           "rgb(255,0,0)",
           "rgb(255,0,0)",
           "rgb(255,0,0)",
           "rgb(255,0,0)",
           "rgb(255,0,0)",
           "rgb(255,0,0)",
           "rgb(255,0,0)",
           "rgb(255,0,0)",
           "rgb(255,0,0)",
           "rgb(255,0,0)",
           "rgb(255,0,0)",
           "rgb(255,0,0)",
           "rgb(255,0,0)",
           "rgb(255,0,0)",
           "rgb(255,0,0)",
           "rgb(255,0,0)",
           "rgb(255,0,0)",
           "rgb(255,0,0)",
           "rgb(255,0,0)",
           "rgb(255,0,0)",
           "rgb(255,0,0)",
           "rgb(255,0,0)",
           "rgb(255,0,0)",
           "rgb(255,0,0)",
           "rgb(255,0,0)",
           "rgb(0,177,64)",
           "rgb(0,177,64)",
           "rgb(0,177,64)",
           "rgb(0,177,64)",
           "rgb(0,177,64)",
           "rgb(0,177,64)",
           "rgb(0,177,64)",
           "rgb(0,177,64)",
           "rgb(0,177,64)",
           "rgb(0,177,64)",
           "rgb(0,177,64)",
           "rgb(0,177,64)",
           "rgb(0,177,64)",
           "rgb(255,0,0)",
           "rgb(255,0,0)",
           "rgb(255,0,0)",
           "rgb(0,177,64)",
           "rgb(0,177,64)",
           "rgb(0,177,64)",
           "rgb(255,0,0)",
           "rgb(255,0,0)",
           "rgb(255,0,0)",
           "rgb(255,0,0)",
           "rgb(255,0,0)",
           "rgb(255,0,0)",
           "rgb(255,0,0)",
           "rgb(255,0,0)"
          ]
         },
         "name": "macd_hist",
         "type": "bar",
         "x": [
          "2023-01-01 19:00:00",
          "2023-01-01 20:00:00",
          "2023-01-01 21:00:00",
          "2023-01-01 22:00:00",
          "2023-01-01 23:00:00",
          "2023-01-02 00:00:00",
          "2023-01-02 01:00:00",
          "2023-01-02 02:00:00",
          "2023-01-02 03:00:00",
          "2023-01-02 04:00:00",
          "2023-01-02 05:00:00",
          "2023-01-02 06:00:00",
          "2023-01-02 07:00:00",
          "2023-01-02 08:00:00",
          "2023-01-02 09:00:00",
          "2023-01-02 10:00:00",
          "2023-01-02 11:00:00",
          "2023-01-02 12:00:00",
          "2023-01-02 13:00:00",
          "2023-01-02 14:00:00",
          "2023-01-02 15:00:00",
          "2023-01-02 16:00:00",
          "2023-01-02 17:00:00",
          "2023-01-02 18:00:00",
          "2023-01-02 19:00:00",
          "2023-01-02 20:00:00",
          "2023-01-02 21:00:00",
          "2023-01-02 22:00:00",
          "2023-01-02 23:00:00",
          "2023-01-03 00:00:00",
          "2023-01-03 01:00:00",
          "2023-01-03 02:00:00",
          "2023-01-03 03:00:00",
          "2023-01-03 04:00:00",
          "2023-01-03 05:00:00",
          "2023-01-03 06:00:00",
          "2023-01-03 07:00:00",
          "2023-01-03 08:00:00",
          "2023-01-03 09:00:00",
          "2023-01-03 10:00:00",
          "2023-01-03 11:00:00",
          "2023-01-03 12:00:00",
          "2023-01-03 13:00:00",
          "2023-01-03 14:00:00",
          "2023-01-03 15:00:00",
          "2023-01-03 16:00:00",
          "2023-01-03 17:00:00",
          "2023-01-03 18:00:00",
          "2023-01-03 19:00:00",
          "2023-01-03 20:00:00",
          "2023-01-03 21:00:00",
          "2023-01-03 22:00:00",
          "2023-01-03 23:00:00",
          "2023-01-04 00:00:00",
          "2023-01-04 01:00:00",
          "2023-01-04 02:00:00",
          "2023-01-04 03:00:00",
          "2023-01-04 04:00:00",
          "2023-01-04 05:00:00",
          "2023-01-04 06:00:00",
          "2023-01-04 07:00:00",
          "2023-01-04 08:00:00",
          "2023-01-04 09:00:00",
          "2023-01-04 10:00:00",
          "2023-01-04 11:00:00",
          "2023-01-04 12:00:00",
          "2023-01-04 13:00:00",
          "2023-01-04 14:00:00",
          "2023-01-04 15:00:00",
          "2023-01-04 16:00:00",
          "2023-01-04 17:00:00",
          "2023-01-04 18:00:00",
          "2023-01-04 19:00:00",
          "2023-01-04 20:00:00",
          "2023-01-04 21:00:00",
          "2023-01-04 22:00:00",
          "2023-01-04 23:00:00",
          "2023-01-05 00:00:00",
          "2023-01-05 01:00:00",
          "2023-01-05 02:00:00",
          "2023-01-05 03:00:00"
         ],
         "xaxis": "x2",
         "y": {
          "bdata": "s3dlGEejGECOLEnALVwaQHBwyMzsQxpA9BkwUERCF0Aou050O24XQNiRPyJpGA1AAD+Vc3WK2z8gNM4j1SnSv8j6mfjk/w5AhNeqV6rJEkA0+T3r/FAVQPRgdnGwdBNAlPMXv3SCIkBEaeUCjTooQDa0A9yMBChAxAnguvVyJ0DQ52PUaTYmQKQMicEA7SFAAGEVNYF0FECgAVreVL4CQBDO/UiGeANAgCYVubGu3z9AiutYUtzpv8CduYdnWva/YLHL+1uY8r8gwU7cMgD+v4DOhhqOUOa/4Edb3DcyEMBQhuAzUpUfwLy1NeESgiHAZHH9QFyLJMDqTVdwhFwmwFb+gJEAiyTARBhDYyKNI8AI2hFsnmsawKAhvSnyRxHAoIKKnSyQBcAYgmPNiwUFwCBtLmBwJO6/4F7KFnI98b/AGDYZNoj3v1DwDny2hwPA3NmHSY8LAcDAMMAsbkYYwGgNV6jfXx3A9749PLSsJsCSBUkFqD8pwHYER+z3MCjA+AncEgWJJsBgzqKDEQYiwMzjCJEumRvAPHZ94xeJEcAsvSUxHEEFwLz9n+/ZjwLAeDrJwCDI5j9A7K0vYlUTQE3rGz3wbS5A64pEyqrVNEAiH/tUwQk3QILiuQE5bzhAaMgnI7BSN0C69mn4f+o0QMi7ZnB9yDBApB90ipMNKkBQuc4agR8iQBhCPkG+JBFAIG3ueQjh+z8A4B6YNvvFvwAaNwu/0se/ABV8N5Fdzb9AZBUR6pr5P0AHLFRdOhdAYErNC9Fz8D+4im7gVrcSwDDiuBBdShzArI2PzvkaIcBI/G9i2V8fwIRebGrdYSHAnEtzhSaJIcBKyQYJwb4gwHBHmcIoBiHA",
          "dtype": "f8"
         },
         "yaxis": "y2"
        }
       ],
       "layout": {
        "font": {
         "color": "rgb(82,82,82)",
         "family": "Arial",
         "size": 12
        },
        "plot_bgcolor": "rgb(255,255,255)",
        "template": {
         "data": {
          "bar": [
           {
            "error_x": {
             "color": "#2a3f5f"
            },
            "error_y": {
             "color": "#2a3f5f"
            },
            "marker": {
             "line": {
              "color": "#E5ECF6",
              "width": 0.5
             },
             "pattern": {
              "fillmode": "overlay",
              "size": 10,
              "solidity": 0.2
             }
            },
            "type": "bar"
           }
          ],
          "barpolar": [
           {
            "marker": {
             "line": {
              "color": "#E5ECF6",
              "width": 0.5
             },
             "pattern": {
              "fillmode": "overlay",
              "size": 10,
              "solidity": 0.2
             }
            },
            "type": "barpolar"
           }
          ],
          "carpet": [
           {
            "aaxis": {
             "endlinecolor": "#2a3f5f",
             "gridcolor": "white",
             "linecolor": "white",
             "minorgridcolor": "white",
             "startlinecolor": "#2a3f5f"
            },
            "baxis": {
             "endlinecolor": "#2a3f5f",
             "gridcolor": "white",
             "linecolor": "white",
             "minorgridcolor": "white",
             "startlinecolor": "#2a3f5f"
            },
            "type": "carpet"
           }
          ],
          "choropleth": [
           {
            "colorbar": {
             "outlinewidth": 0,
             "ticks": ""
            },
            "type": "choropleth"
           }
          ],
          "contour": [
           {
            "colorbar": {
             "outlinewidth": 0,
             "ticks": ""
            },
            "colorscale": [
             [
              0,
              "#0d0887"
             ],
             [
              0.1111111111111111,
              "#46039f"
             ],
             [
              0.2222222222222222,
              "#7201a8"
             ],
             [
              0.3333333333333333,
              "#9c179e"
             ],
             [
              0.4444444444444444,
              "#bd3786"
             ],
             [
              0.5555555555555556,
              "#d8576b"
             ],
             [
              0.6666666666666666,
              "#ed7953"
             ],
             [
              0.7777777777777778,
              "#fb9f3a"
             ],
             [
              0.8888888888888888,
              "#fdca26"
             ],
             [
              1,
              "#f0f921"
             ]
            ],
            "type": "contour"
           }
          ],
          "contourcarpet": [
           {
            "colorbar": {
             "outlinewidth": 0,
             "ticks": ""
            },
            "type": "contourcarpet"
           }
          ],
          "heatmap": [
           {
            "colorbar": {
             "outlinewidth": 0,
             "ticks": ""
            },
            "colorscale": [
             [
              0,
              "#0d0887"
             ],
             [
              0.1111111111111111,
              "#46039f"
             ],
             [
              0.2222222222222222,
              "#7201a8"
             ],
             [
              0.3333333333333333,
              "#9c179e"
             ],
             [
              0.4444444444444444,
              "#bd3786"
             ],
             [
              0.5555555555555556,
              "#d8576b"
             ],
             [
              0.6666666666666666,
              "#ed7953"
             ],
             [
              0.7777777777777778,
              "#fb9f3a"
             ],
             [
              0.8888888888888888,
              "#fdca26"
             ],
             [
              1,
              "#f0f921"
             ]
            ],
            "type": "heatmap"
           }
          ],
          "histogram": [
           {
            "marker": {
             "pattern": {
              "fillmode": "overlay",
              "size": 10,
              "solidity": 0.2
             }
            },
            "type": "histogram"
           }
          ],
          "histogram2d": [
           {
            "colorbar": {
             "outlinewidth": 0,
             "ticks": ""
            },
            "colorscale": [
             [
              0,
              "#0d0887"
             ],
             [
              0.1111111111111111,
              "#46039f"
             ],
             [
              0.2222222222222222,
              "#7201a8"
             ],
             [
              0.3333333333333333,
              "#9c179e"
             ],
             [
              0.4444444444444444,
              "#bd3786"
             ],
             [
              0.5555555555555556,
              "#d8576b"
             ],
             [
              0.6666666666666666,
              "#ed7953"
             ],
             [
              0.7777777777777778,
              "#fb9f3a"
             ],
             [
              0.8888888888888888,
              "#fdca26"
             ],
             [
              1,
              "#f0f921"
             ]
            ],
            "type": "histogram2d"
           }
          ],
          "histogram2dcontour": [
           {
            "colorbar": {
             "outlinewidth": 0,
             "ticks": ""
            },
            "colorscale": [
             [
              0,
              "#0d0887"
             ],
             [
              0.1111111111111111,
              "#46039f"
             ],
             [
              0.2222222222222222,
              "#7201a8"
             ],
             [
              0.3333333333333333,
              "#9c179e"
             ],
             [
              0.4444444444444444,
              "#bd3786"
             ],
             [
              0.5555555555555556,
              "#d8576b"
             ],
             [
              0.6666666666666666,
              "#ed7953"
             ],
             [
              0.7777777777777778,
              "#fb9f3a"
             ],
             [
              0.8888888888888888,
              "#fdca26"
             ],
             [
              1,
              "#f0f921"
             ]
            ],
            "type": "histogram2dcontour"
           }
          ],
          "mesh3d": [
           {
            "colorbar": {
             "outlinewidth": 0,
             "ticks": ""
            },
            "type": "mesh3d"
           }
          ],
          "parcoords": [
           {
            "line": {
             "colorbar": {
              "outlinewidth": 0,
              "ticks": ""
             }
            },
            "type": "parcoords"
           }
          ],
          "pie": [
           {
            "automargin": true,
            "type": "pie"
           }
          ],
          "scatter": [
           {
            "fillpattern": {
             "fillmode": "overlay",
             "size": 10,
             "solidity": 0.2
            },
            "type": "scatter"
           }
          ],
          "scatter3d": [
           {
            "line": {
             "colorbar": {
              "outlinewidth": 0,
              "ticks": ""
             }
            },
            "marker": {
             "colorbar": {
              "outlinewidth": 0,
              "ticks": ""
             }
            },
            "type": "scatter3d"
           }
          ],
          "scattercarpet": [
           {
            "marker": {
             "colorbar": {
              "outlinewidth": 0,
              "ticks": ""
             }
            },
            "type": "scattercarpet"
           }
          ],
          "scattergeo": [
           {
            "marker": {
             "colorbar": {
              "outlinewidth": 0,
              "ticks": ""
             }
            },
            "type": "scattergeo"
           }
          ],
          "scattergl": [
           {
            "marker": {
             "colorbar": {
              "outlinewidth": 0,
              "ticks": ""
             }
            },
            "type": "scattergl"
           }
          ],
          "scattermap": [
           {
            "marker": {
             "colorbar": {
              "outlinewidth": 0,
              "ticks": ""
             }
            },
            "type": "scattermap"
           }
          ],
          "scattermapbox": [
           {
            "marker": {
             "colorbar": {
              "outlinewidth": 0,
              "ticks": ""
             }
            },
            "type": "scattermapbox"
           }
          ],
          "scatterpolar": [
           {
            "marker": {
             "colorbar": {
              "outlinewidth": 0,
              "ticks": ""
             }
            },
            "type": "scatterpolar"
           }
          ],
          "scatterpolargl": [
           {
            "marker": {
             "colorbar": {
              "outlinewidth": 0,
              "ticks": ""
             }
            },
            "type": "scatterpolargl"
           }
          ],
          "scatterternary": [
           {
            "marker": {
             "colorbar": {
              "outlinewidth": 0,
              "ticks": ""
             }
            },
            "type": "scatterternary"
           }
          ],
          "surface": [
           {
            "colorbar": {
             "outlinewidth": 0,
             "ticks": ""
            },
            "colorscale": [
             [
              0,
              "#0d0887"
             ],
             [
              0.1111111111111111,
              "#46039f"
             ],
             [
              0.2222222222222222,
              "#7201a8"
             ],
             [
              0.3333333333333333,
              "#9c179e"
             ],
             [
              0.4444444444444444,
              "#bd3786"
             ],
             [
              0.5555555555555556,
              "#d8576b"
             ],
             [
              0.6666666666666666,
              "#ed7953"
             ],
             [
              0.7777777777777778,
              "#fb9f3a"
             ],
             [
              0.8888888888888888,
              "#fdca26"
             ],
             [
              1,
              "#f0f921"
             ]
            ],
            "type": "surface"
           }
          ],
          "table": [
           {
            "cells": {
             "fill": {
              "color": "#EBF0F8"
             },
             "line": {
              "color": "white"
             }
            },
            "header": {
             "fill": {
              "color": "#C8D4E3"
             },
             "line": {
              "color": "white"
             }
            },
            "type": "table"
           }
          ]
         },
         "layout": {
          "annotationdefaults": {
           "arrowcolor": "#2a3f5f",
           "arrowhead": 0,
           "arrowwidth": 1
          },
          "autotypenumbers": "strict",
          "coloraxis": {
           "colorbar": {
            "outlinewidth": 0,
            "ticks": ""
           }
          },
          "colorscale": {
           "diverging": [
            [
             0,
             "#8e0152"
            ],
            [
             0.1,
             "#c51b7d"
            ],
            [
             0.2,
             "#de77ae"
            ],
            [
             0.3,
             "#f1b6da"
            ],
            [
             0.4,
             "#fde0ef"
            ],
            [
             0.5,
             "#f7f7f7"
            ],
            [
             0.6,
             "#e6f5d0"
            ],
            [
             0.7,
             "#b8e186"
            ],
            [
             0.8,
             "#7fbc41"
            ],
            [
             0.9,
             "#4d9221"
            ],
            [
             1,
             "#276419"
            ]
           ],
           "sequential": [
            [
             0,
             "#0d0887"
            ],
            [
             0.1111111111111111,
             "#46039f"
            ],
            [
             0.2222222222222222,
             "#7201a8"
            ],
            [
             0.3333333333333333,
             "#9c179e"
            ],
            [
             0.4444444444444444,
             "#bd3786"
            ],
            [
             0.5555555555555556,
             "#d8576b"
            ],
            [
             0.6666666666666666,
             "#ed7953"
            ],
            [
             0.7777777777777778,
             "#fb9f3a"
            ],
            [
             0.8888888888888888,
             "#fdca26"
            ],
            [
             1,
             "#f0f921"
            ]
           ],
           "sequentialminus": [
            [
             0,
             "#0d0887"
            ],
            [
             0.1111111111111111,
             "#46039f"
            ],
            [
             0.2222222222222222,
             "#7201a8"
            ],
            [
             0.3333333333333333,
             "#9c179e"
            ],
            [
             0.4444444444444444,
             "#bd3786"
            ],
            [
             0.5555555555555556,
             "#d8576b"
            ],
            [
             0.6666666666666666,
             "#ed7953"
            ],
            [
             0.7777777777777778,
             "#fb9f3a"
            ],
            [
             0.8888888888888888,
             "#fdca26"
            ],
            [
             1,
             "#f0f921"
            ]
           ]
          },
          "colorway": [
           "#636efa",
           "#EF553B",
           "#00cc96",
           "#ab63fa",
           "#FFA15A",
           "#19d3f3",
           "#FF6692",
           "#B6E880",
           "#FF97FF",
           "#FECB52"
          ],
          "font": {
           "color": "#2a3f5f"
          },
          "geo": {
           "bgcolor": "white",
           "lakecolor": "white",
           "landcolor": "#E5ECF6",
           "showlakes": true,
           "showland": true,
           "subunitcolor": "white"
          },
          "hoverlabel": {
           "align": "left"
          },
          "hovermode": "closest",
          "mapbox": {
           "style": "light"
          },
          "paper_bgcolor": "white",
          "plot_bgcolor": "#E5ECF6",
          "polar": {
           "angularaxis": {
            "gridcolor": "white",
            "linecolor": "white",
            "ticks": ""
           },
           "bgcolor": "#E5ECF6",
           "radialaxis": {
            "gridcolor": "white",
            "linecolor": "white",
            "ticks": ""
           }
          },
          "scene": {
           "xaxis": {
            "backgroundcolor": "#E5ECF6",
            "gridcolor": "white",
            "gridwidth": 2,
            "linecolor": "white",
            "showbackground": true,
            "ticks": "",
            "zerolinecolor": "white"
           },
           "yaxis": {
            "backgroundcolor": "#E5ECF6",
            "gridcolor": "white",
            "gridwidth": 2,
            "linecolor": "white",
            "showbackground": true,
            "ticks": "",
            "zerolinecolor": "white"
           },
           "zaxis": {
            "backgroundcolor": "#E5ECF6",
            "gridcolor": "white",
            "gridwidth": 2,
            "linecolor": "white",
            "showbackground": true,
            "ticks": "",
            "zerolinecolor": "white"
           }
          },
          "shapedefaults": {
           "line": {
            "color": "#2a3f5f"
           }
          },
          "ternary": {
           "aaxis": {
            "gridcolor": "white",
            "linecolor": "white",
            "ticks": ""
           },
           "baxis": {
            "gridcolor": "white",
            "linecolor": "white",
            "ticks": ""
           },
           "bgcolor": "#E5ECF6",
           "caxis": {
            "gridcolor": "white",
            "linecolor": "white",
            "ticks": ""
           }
          },
          "title": {
           "x": 0.05
          },
          "xaxis": {
           "automargin": true,
           "gridcolor": "white",
           "linecolor": "white",
           "ticks": "",
           "title": {
            "standoff": 15
           },
           "zerolinecolor": "white",
           "zerolinewidth": 2
          },
          "yaxis": {
           "automargin": true,
           "gridcolor": "white",
           "linecolor": "white",
           "ticks": "",
           "title": {
            "standoff": 15
           },
           "zerolinecolor": "white",
           "zerolinewidth": 2
          }
         }
        },
        "xaxis": {
         "anchor": "y",
         "domain": [
          0,
          1
         ],
         "rangeslider": {
          "visible": false
         }
        },
        "xaxis2": {
         "anchor": "y2",
         "domain": [
          0,
          1
         ]
        },
        "yaxis": {
         "anchor": "x",
         "domain": [
          0.575,
          1
         ]
        },
        "yaxis2": {
         "anchor": "x2",
         "domain": [
          0,
          0.425
         ]
        }
       }
      },
      "text/html": [
       "<div>            <script src=\"https://cdnjs.cloudflare.com/ajax/libs/mathjax/2.7.5/MathJax.js?config=TeX-AMS-MML_SVG\"></script><script type=\"text/javascript\">if (window.MathJax && window.MathJax.Hub && window.MathJax.Hub.Config) {window.MathJax.Hub.Config({SVG: {font: \"STIX-Web\"}});}</script>                <script type=\"text/javascript\">window.PlotlyConfig = {MathJaxConfig: 'local'};</script>\n",
       "        <script charset=\"utf-8\" src=\"https://cdn.plot.ly/plotly-3.0.1.min.js\" integrity=\"sha256-oy6Be7Eh6eiQFs5M7oXuPxxm9qbJXEtTpfSI93dW16Q=\" crossorigin=\"anonymous\"></script>                <div id=\"ffa35a92-da2f-4e5b-b5fc-9553d234fad6\" class=\"plotly-graph-div\" style=\"height:525px; width:100%;\"></div>            <script type=\"text/javascript\">                window.PLOTLYENV=window.PLOTLYENV || {};                                if (document.getElementById(\"ffa35a92-da2f-4e5b-b5fc-9553d234fad6\")) {                    Plotly.newPlot(                        \"ffa35a92-da2f-4e5b-b5fc-9553d234fad6\",                        [{\"legendgroup\":\"1\",\"line\":{\"color\":\"rgb(0,100,200)\",\"width\":1},\"name\":\"BTC\",\"x\":[\"2023-01-01 19:00:00\",\"2023-01-01 20:00:00\",\"2023-01-01 21:00:00\",\"2023-01-01 22:00:00\",\"2023-01-01 23:00:00\",\"2023-01-02 00:00:00\",\"2023-01-02 01:00:00\",\"2023-01-02 02:00:00\",\"2023-01-02 03:00:00\",\"2023-01-02 04:00:00\",\"2023-01-02 05:00:00\",\"2023-01-02 06:00:00\",\"2023-01-02 07:00:00\",\"2023-01-02 08:00:00\",\"2023-01-02 09:00:00\",\"2023-01-02 10:00:00\",\"2023-01-02 11:00:00\",\"2023-01-02 12:00:00\",\"2023-01-02 13:00:00\",\"2023-01-02 14:00:00\",\"2023-01-02 15:00:00\",\"2023-01-02 16:00:00\",\"2023-01-02 17:00:00\",\"2023-01-02 18:00:00\",\"2023-01-02 19:00:00\",\"2023-01-02 20:00:00\",\"2023-01-02 21:00:00\",\"2023-01-02 22:00:00\",\"2023-01-02 23:00:00\",\"2023-01-03 00:00:00\",\"2023-01-03 01:00:00\",\"2023-01-03 02:00:00\",\"2023-01-03 03:00:00\",\"2023-01-03 04:00:00\",\"2023-01-03 05:00:00\",\"2023-01-03 06:00:00\",\"2023-01-03 07:00:00\",\"2023-01-03 08:00:00\",\"2023-01-03 09:00:00\",\"2023-01-03 10:00:00\",\"2023-01-03 11:00:00\",\"2023-01-03 12:00:00\",\"2023-01-03 13:00:00\",\"2023-01-03 14:00:00\",\"2023-01-03 15:00:00\",\"2023-01-03 16:00:00\",\"2023-01-03 17:00:00\",\"2023-01-03 18:00:00\",\"2023-01-03 19:00:00\",\"2023-01-03 20:00:00\",\"2023-01-03 21:00:00\",\"2023-01-03 22:00:00\",\"2023-01-03 23:00:00\",\"2023-01-04 00:00:00\",\"2023-01-04 01:00:00\",\"2023-01-04 02:00:00\",\"2023-01-04 03:00:00\",\"2023-01-04 04:00:00\",\"2023-01-04 05:00:00\",\"2023-01-04 06:00:00\",\"2023-01-04 07:00:00\",\"2023-01-04 08:00:00\",\"2023-01-04 09:00:00\",\"2023-01-04 10:00:00\",\"2023-01-04 11:00:00\",\"2023-01-04 12:00:00\",\"2023-01-04 13:00:00\",\"2023-01-04 14:00:00\",\"2023-01-04 15:00:00\",\"2023-01-04 16:00:00\",\"2023-01-04 17:00:00\",\"2023-01-04 18:00:00\",\"2023-01-04 19:00:00\",\"2023-01-04 20:00:00\",\"2023-01-04 21:00:00\",\"2023-01-04 22:00:00\",\"2023-01-04 23:00:00\",\"2023-01-05 00:00:00\",\"2023-01-05 01:00:00\",\"2023-01-05 02:00:00\",\"2023-01-05 03:00:00\"],\"y\":{\"dtype\":\"f8\",\"bdata\":\"7FG4HsU20EA9CtejIDfQQFK4HoWrN9BA4XoUroc20EAAAAAAMDrQQGZmZmYWM9BA9ihcj0It0EBmZmZm9jLQQI\\u002fC9Sh8RdBAj8L1KNw\\u002f0EDsUbge5UHQQGZmZmZGQNBAuB6F61FU0EAK16NwbVfQQAAAAABgU9BAzczMzPxV0ECkcD0Kx1fQQPYoXI9iVNBAuB6F67FN0ECPwvUorE7QQNejcD2qV9BAH4XrUbhR0EAUrkfh2lLQQHE9CtfzVNBAcT0K12NY0EB7FK5HIVbQQD0K16NwXdBAmpmZmZlO0EDhehSuN0jQQClcj8LlTdBAZmZmZmZJ0EC4HoXrgUjQQHE9CtfzTNBAXI\\u002fC9WhL0EAAAAAAYFXQQOxRuB7lVdBAw\\u002fUoXG9W0EBI4XoUzlLQQHE9CtdTWdBArkfhehRV0EC4HoXrQVTQQGZmZma2UdBAuB6F62FV0ECF61G4TkXQQI\\u002fC9Sg8SdBA7FG4HqU70ECamZmZaT7QQOxRuB5FQdBA4XoUrtdA0EDhehSuV0XQQB+F61EoRtBApHA9CkdJ0EBSuB6Fy0jQQLgeheshRdBASOF6FH5P0EB7FK5HIVjQQHsUrkeBd9BAAAAAACB30ECuR+F6ZHbQQFK4HoWLe9BAj8L1KFx50EDNzMzMPHjQQNejcD06c9BAFK5H4Tpz0EBmZmZm1nDQQI\\u002fC9SgMa9BAzczMzAxv0EDhehSuh2\\u002fQQDMzMzODddBAZmZmZrZ20EDD9ShcT3\\u002fQQPYoXI8CjdBApHA9Cpdy0EDD9Shcn2nQQHE9CtezbtBAUrgehatu0ECkcD0Kl3TQQM3MzMwcb9BAmpmZmTlw0EAzMzMzM3HQQArXo3DtbtBA\"},\"type\":\"scatter\",\"xaxis\":\"x\",\"yaxis\":\"y\"},{\"legendgroup\":\"2\",\"line\":{\"color\":\"rgb(0,0,0)\",\"width\":1},\"name\":\"macd\",\"x\":[\"2023-01-01 19:00:00\",\"2023-01-01 20:00:00\",\"2023-01-01 21:00:00\",\"2023-01-01 22:00:00\",\"2023-01-01 23:00:00\",\"2023-01-02 00:00:00\",\"2023-01-02 01:00:00\",\"2023-01-02 02:00:00\",\"2023-01-02 03:00:00\",\"2023-01-02 04:00:00\",\"2023-01-02 05:00:00\",\"2023-01-02 06:00:00\",\"2023-01-02 07:00:00\",\"2023-01-02 08:00:00\",\"2023-01-02 09:00:00\",\"2023-01-02 10:00:00\",\"2023-01-02 11:00:00\",\"2023-01-02 12:00:00\",\"2023-01-02 13:00:00\",\"2023-01-02 14:00:00\",\"2023-01-02 15:00:00\",\"2023-01-02 16:00:00\",\"2023-01-02 17:00:00\",\"2023-01-02 18:00:00\",\"2023-01-02 19:00:00\",\"2023-01-02 20:00:00\",\"2023-01-02 21:00:00\",\"2023-01-02 22:00:00\",\"2023-01-02 23:00:00\",\"2023-01-03 00:00:00\",\"2023-01-03 01:00:00\",\"2023-01-03 02:00:00\",\"2023-01-03 03:00:00\",\"2023-01-03 04:00:00\",\"2023-01-03 05:00:00\",\"2023-01-03 06:00:00\",\"2023-01-03 07:00:00\",\"2023-01-03 08:00:00\",\"2023-01-03 09:00:00\",\"2023-01-03 10:00:00\",\"2023-01-03 11:00:00\",\"2023-01-03 12:00:00\",\"2023-01-03 13:00:00\",\"2023-01-03 14:00:00\",\"2023-01-03 15:00:00\",\"2023-01-03 16:00:00\",\"2023-01-03 17:00:00\",\"2023-01-03 18:00:00\",\"2023-01-03 19:00:00\",\"2023-01-03 20:00:00\",\"2023-01-03 21:00:00\",\"2023-01-03 22:00:00\",\"2023-01-03 23:00:00\",\"2023-01-04 00:00:00\",\"2023-01-04 01:00:00\",\"2023-01-04 02:00:00\",\"2023-01-04 03:00:00\",\"2023-01-04 04:00:00\",\"2023-01-04 05:00:00\",\"2023-01-04 06:00:00\",\"2023-01-04 07:00:00\",\"2023-01-04 08:00:00\",\"2023-01-04 09:00:00\",\"2023-01-04 10:00:00\",\"2023-01-04 11:00:00\",\"2023-01-04 12:00:00\",\"2023-01-04 13:00:00\",\"2023-01-04 14:00:00\",\"2023-01-04 15:00:00\",\"2023-01-04 16:00:00\",\"2023-01-04 17:00:00\",\"2023-01-04 18:00:00\",\"2023-01-04 19:00:00\",\"2023-01-04 20:00:00\",\"2023-01-04 21:00:00\",\"2023-01-04 22:00:00\",\"2023-01-04 23:00:00\",\"2023-01-05 00:00:00\",\"2023-01-05 01:00:00\",\"2023-01-05 02:00:00\",\"2023-01-05 03:00:00\"],\"y\":{\"dtype\":\"f8\",\"bdata\":\"ABA674QELEAAiJr9PhYwQADgho1ttDFAAMxjsydoMkAAYLAzCeozQACg9sNKmjJAADDh1eMBL0AAeN7W7W8tQACE1gaa2DNAAKgoo6LXNUAAUMEWh843QADQZv++jjhAADB42htDP0AAzF3OPJNCQACaZZIFBkRAALDKJc9YRUAA5nHJEm1GQADA05CIeUZAANS8kHwwRUAAMHkLyxhEQABkRztQckRAADwGk\\u002fyJQ0AAeNeTUclCQADm7dE6UUJAAL5VdhpKQkAACJlZ27JBQADc9ilKM0JAALTyp7MEQEAAEMaWSzc6QACg\\u002fFZUKzdAABT5HkQVM0AAeILyPsIuQACI+KwCcStAAKhlQpiLJ0AAmB2id5UqQABQEH5P\\u002fixAAJizoTrlLkAAIOcYirctQAAwXiIKTzBAAKgvd8HOL0AAgBhGJ0kuQACYegLFHytAAOCD2hWuKkAAcNuh6YkfQADQLjyAGBNAAAApZMVuAMAAkM9GHv0ZwACIdwUd\\u002fCHAAJDDcGv2JcAACHNC\\u002fPQlwADIddmnLiXAAMAff79XIsAA0LxcjDcgwABgVWs5tCDAAFC7wECRFMAAAJ5YvA7IPwBo7iX2vixAAOw+cZgzOUAAJJqoD5VAQADCMJ+yVURAAK5MNMSxRkAABPsd\\u002fBpIQAA+BogKI0hAACoX6wnjR0AAvNpgfQlHQADIWNRaL0VAAFD0YI0hREAAtuYYCydDQADQsOA+H0NAAKw2qlwSQ0AA\\u002fhhgxy9EQAA0t6QOBEdAALinJEnBREAACDgJBVFBQADsUbWieD5AAGxm2F3aOkAANOvQ5pk5QAB4A8eylDZAAJjRaOlPNEAAAOcFRJ0yQACYyhDLWDBA\"},\"type\":\"scatter\",\"xaxis\":\"x2\",\"yaxis\":\"y2\"},{\"legendgroup\":\"2\",\"line\":{\"color\":\"rgb(0,181,226)\",\"width\":1},\"name\":\"macd_signal\",\"x\":[\"2023-01-01 19:00:00\",\"2023-01-01 20:00:00\",\"2023-01-01 21:00:00\",\"2023-01-01 22:00:00\",\"2023-01-01 23:00:00\",\"2023-01-02 00:00:00\",\"2023-01-02 01:00:00\",\"2023-01-02 02:00:00\",\"2023-01-02 03:00:00\",\"2023-01-02 04:00:00\",\"2023-01-02 05:00:00\",\"2023-01-02 06:00:00\",\"2023-01-02 07:00:00\",\"2023-01-02 08:00:00\",\"2023-01-02 09:00:00\",\"2023-01-02 10:00:00\",\"2023-01-02 11:00:00\",\"2023-01-02 12:00:00\",\"2023-01-02 13:00:00\",\"2023-01-02 14:00:00\",\"2023-01-02 15:00:00\",\"2023-01-02 16:00:00\",\"2023-01-02 17:00:00\",\"2023-01-02 18:00:00\",\"2023-01-02 19:00:00\",\"2023-01-02 20:00:00\",\"2023-01-02 21:00:00\",\"2023-01-02 22:00:00\",\"2023-01-02 23:00:00\",\"2023-01-03 00:00:00\",\"2023-01-03 01:00:00\",\"2023-01-03 02:00:00\",\"2023-01-03 03:00:00\",\"2023-01-03 04:00:00\",\"2023-01-03 05:00:00\",\"2023-01-03 06:00:00\",\"2023-01-03 07:00:00\",\"2023-01-03 08:00:00\",\"2023-01-03 09:00:00\",\"2023-01-03 10:00:00\",\"2023-01-03 11:00:00\",\"2023-01-03 12:00:00\",\"2023-01-03 13:00:00\",\"2023-01-03 14:00:00\",\"2023-01-03 15:00:00\",\"2023-01-03 16:00:00\",\"2023-01-03 17:00:00\",\"2023-01-03 18:00:00\",\"2023-01-03 19:00:00\",\"2023-01-03 20:00:00\",\"2023-01-03 21:00:00\",\"2023-01-03 22:00:00\",\"2023-01-03 23:00:00\",\"2023-01-04 00:00:00\",\"2023-01-04 01:00:00\",\"2023-01-04 02:00:00\",\"2023-01-04 03:00:00\",\"2023-01-04 04:00:00\",\"2023-01-04 05:00:00\",\"2023-01-04 06:00:00\",\"2023-01-04 07:00:00\",\"2023-01-04 08:00:00\",\"2023-01-04 09:00:00\",\"2023-01-04 10:00:00\",\"2023-01-04 11:00:00\",\"2023-01-04 12:00:00\",\"2023-01-04 13:00:00\",\"2023-01-04 14:00:00\",\"2023-01-04 15:00:00\",\"2023-01-04 16:00:00\",\"2023-01-04 17:00:00\",\"2023-01-04 18:00:00\",\"2023-01-04 19:00:00\",\"2023-01-04 20:00:00\",\"2023-01-04 21:00:00\",\"2023-01-04 22:00:00\",\"2023-01-04 23:00:00\",\"2023-01-05 00:00:00\",\"2023-01-05 01:00:00\",\"2023-01-05 02:00:00\",\"2023-01-05 03:00:00\"],\"y\":{\"dtype\":\"f8\",\"bdata\":\"TagOxsJlH0C5eRAbZ\\u002f4iQMiHqbTkRiZABouvPi0vKUBsYjmt9BwsQIpbXT977i1ACIZEKpAlLkCh6fx\\u002fPAEuQE6Jhs868S9AH\\u002fI9DTglMUCz0fHbR3oyQMM3CeOSsTNANjbseuEBNkBe40gbMwk5QOVZybbECTxAHlslbiP4PkAM7FhUeN9AQNd8cWBI\\u002fkFA4CcaauyhQkDmj5O95exCQB+Ht9bHOkNAsxGUL59KQ0ApJjvdwjBDQO6yKw4OBENAixs0Vt3eQkAJfnvw3KJCQDr3YGKMjEJA\\u002fBx+o\\u002foKQkDKGN8RUA5BQN56l8dd7D9Assx3P\\u002fJaPUD14myxYY86QCvDPJ8B\\u002fjdAImDUUl2MNUCCQhNso+UzQGhwd0kk0TJAVByL5KIkMkBDACCGdnwxQGmjX6UtQDFA7nkE3Tf7MECMoZ8EF50wQAoqv1DZADBAd9blrPnwLkBg0E3nK+grQLTuQvIvPChA934z4wKRIkAle8LDMYIYQNbxPZtr0whA+D4PQzRT0j8CzYH2VXf\\u002fv2hYxUNCiA3AxAnCGmcmE8Bqweagis4VwCLB2t6FIBjAT3fU2ERqF8BA\\u002fOhM7JQSwMw02HKh7+q\\u002fU4Tpm7Z3EUC7UXL4u0AkQH6hpzwsPDBAmJNxRdgQNkBGEYxDeEs7QDjApZ+XfT9AFyJ6CKVfQUCsDScanYFCQL3\\u002fMAzDCkNAl9wkHYVCQ0Dg1H5PBj1DQBoHvJ8RN0NAFShuO7ovQ0DeUpAP8GJDQBizMfrCHERArU1JnKo9REBX2UXl76dDQEYSwPycxUJAaxnXX+2zQUCJmcOU7rhAQEKnOXyhRT9Azj2Lq3wUPUClZGqKpPw6QLg7F3Lf2zhA\"},\"type\":\"scatter\",\"xaxis\":\"x2\",\"yaxis\":\"y2\"},{\"marker\":{\"color\":[\"rgb(0,177,64)\",\"rgb(0,177,64)\",\"rgb(0,177,64)\",\"rgb(0,177,64)\",\"rgb(0,177,64)\",\"rgb(0,177,64)\",\"rgb(0,177,64)\",\"rgb(255,0,0)\",\"rgb(0,177,64)\",\"rgb(0,177,64)\",\"rgb(0,177,64)\",\"rgb(0,177,64)\",\"rgb(0,177,64)\",\"rgb(0,177,64)\",\"rgb(0,177,64)\",\"rgb(0,177,64)\",\"rgb(0,177,64)\",\"rgb(0,177,64)\",\"rgb(0,177,64)\",\"rgb(0,177,64)\",\"rgb(0,177,64)\",\"rgb(0,177,64)\",\"rgb(255,0,0)\",\"rgb(255,0,0)\",\"rgb(255,0,0)\",\"rgb(255,0,0)\",\"rgb(255,0,0)\",\"rgb(255,0,0)\",\"rgb(255,0,0)\",\"rgb(255,0,0)\",\"rgb(255,0,0)\",\"rgb(255,0,0)\",\"rgb(255,0,0)\",\"rgb(255,0,0)\",\"rgb(255,0,0)\",\"rgb(255,0,0)\",\"rgb(255,0,0)\",\"rgb(255,0,0)\",\"rgb(255,0,0)\",\"rgb(255,0,0)\",\"rgb(255,0,0)\",\"rgb(255,0,0)\",\"rgb(255,0,0)\",\"rgb(255,0,0)\",\"rgb(255,0,0)\",\"rgb(255,0,0)\",\"rgb(255,0,0)\",\"rgb(255,0,0)\",\"rgb(255,0,0)\",\"rgb(255,0,0)\",\"rgb(255,0,0)\",\"rgb(255,0,0)\",\"rgb(255,0,0)\",\"rgb(255,0,0)\",\"rgb(0,177,64)\",\"rgb(0,177,64)\",\"rgb(0,177,64)\",\"rgb(0,177,64)\",\"rgb(0,177,64)\",\"rgb(0,177,64)\",\"rgb(0,177,64)\",\"rgb(0,177,64)\",\"rgb(0,177,64)\",\"rgb(0,177,64)\",\"rgb(0,177,64)\",\"rgb(0,177,64)\",\"rgb(0,177,64)\",\"rgb(255,0,0)\",\"rgb(255,0,0)\",\"rgb(255,0,0)\",\"rgb(0,177,64)\",\"rgb(0,177,64)\",\"rgb(0,177,64)\",\"rgb(255,0,0)\",\"rgb(255,0,0)\",\"rgb(255,0,0)\",\"rgb(255,0,0)\",\"rgb(255,0,0)\",\"rgb(255,0,0)\",\"rgb(255,0,0)\",\"rgb(255,0,0)\"]},\"name\":\"macd_hist\",\"x\":[\"2023-01-01 19:00:00\",\"2023-01-01 20:00:00\",\"2023-01-01 21:00:00\",\"2023-01-01 22:00:00\",\"2023-01-01 23:00:00\",\"2023-01-02 00:00:00\",\"2023-01-02 01:00:00\",\"2023-01-02 02:00:00\",\"2023-01-02 03:00:00\",\"2023-01-02 04:00:00\",\"2023-01-02 05:00:00\",\"2023-01-02 06:00:00\",\"2023-01-02 07:00:00\",\"2023-01-02 08:00:00\",\"2023-01-02 09:00:00\",\"2023-01-02 10:00:00\",\"2023-01-02 11:00:00\",\"2023-01-02 12:00:00\",\"2023-01-02 13:00:00\",\"2023-01-02 14:00:00\",\"2023-01-02 15:00:00\",\"2023-01-02 16:00:00\",\"2023-01-02 17:00:00\",\"2023-01-02 18:00:00\",\"2023-01-02 19:00:00\",\"2023-01-02 20:00:00\",\"2023-01-02 21:00:00\",\"2023-01-02 22:00:00\",\"2023-01-02 23:00:00\",\"2023-01-03 00:00:00\",\"2023-01-03 01:00:00\",\"2023-01-03 02:00:00\",\"2023-01-03 03:00:00\",\"2023-01-03 04:00:00\",\"2023-01-03 05:00:00\",\"2023-01-03 06:00:00\",\"2023-01-03 07:00:00\",\"2023-01-03 08:00:00\",\"2023-01-03 09:00:00\",\"2023-01-03 10:00:00\",\"2023-01-03 11:00:00\",\"2023-01-03 12:00:00\",\"2023-01-03 13:00:00\",\"2023-01-03 14:00:00\",\"2023-01-03 15:00:00\",\"2023-01-03 16:00:00\",\"2023-01-03 17:00:00\",\"2023-01-03 18:00:00\",\"2023-01-03 19:00:00\",\"2023-01-03 20:00:00\",\"2023-01-03 21:00:00\",\"2023-01-03 22:00:00\",\"2023-01-03 23:00:00\",\"2023-01-04 00:00:00\",\"2023-01-04 01:00:00\",\"2023-01-04 02:00:00\",\"2023-01-04 03:00:00\",\"2023-01-04 04:00:00\",\"2023-01-04 05:00:00\",\"2023-01-04 06:00:00\",\"2023-01-04 07:00:00\",\"2023-01-04 08:00:00\",\"2023-01-04 09:00:00\",\"2023-01-04 10:00:00\",\"2023-01-04 11:00:00\",\"2023-01-04 12:00:00\",\"2023-01-04 13:00:00\",\"2023-01-04 14:00:00\",\"2023-01-04 15:00:00\",\"2023-01-04 16:00:00\",\"2023-01-04 17:00:00\",\"2023-01-04 18:00:00\",\"2023-01-04 19:00:00\",\"2023-01-04 20:00:00\",\"2023-01-04 21:00:00\",\"2023-01-04 22:00:00\",\"2023-01-04 23:00:00\",\"2023-01-05 00:00:00\",\"2023-01-05 01:00:00\",\"2023-01-05 02:00:00\",\"2023-01-05 03:00:00\"],\"y\":{\"dtype\":\"f8\",\"bdata\":\"s3dlGEejGECOLEnALVwaQHBwyMzsQxpA9BkwUERCF0Aou050O24XQNiRPyJpGA1AAD+Vc3WK2z8gNM4j1SnSv8j6mfjk\\u002fw5AhNeqV6rJEkA0+T3r\\u002fFAVQPRgdnGwdBNAlPMXv3SCIkBEaeUCjTooQDa0A9yMBChAxAnguvVyJ0DQ52PUaTYmQKQMicEA7SFAAGEVNYF0FECgAVreVL4CQBDO\\u002fUiGeANAgCYVubGu3z9AiutYUtzpv8CduYdnWva\\u002fYLHL+1uY8r8gwU7cMgD+v4DOhhqOUOa\\u002f4Edb3DcyEMBQhuAzUpUfwLy1NeESgiHAZHH9QFyLJMDqTVdwhFwmwFb+gJEAiyTARBhDYyKNI8AI2hFsnmsawKAhvSnyRxHAoIKKnSyQBcAYgmPNiwUFwCBtLmBwJO6\\u002f4F7KFnI98b\\u002fAGDYZNoj3v1DwDny2hwPA3NmHSY8LAcDAMMAsbkYYwGgNV6jfXx3A9749PLSsJsCSBUkFqD8pwHYER+z3MCjA+AncEgWJJsBgzqKDEQYiwMzjCJEumRvAPHZ94xeJEcAsvSUxHEEFwLz9n+\\u002fZjwLAeDrJwCDI5j9A7K0vYlUTQE3rGz3wbS5A64pEyqrVNEAiH\\u002ftUwQk3QILiuQE5bzhAaMgnI7BSN0C69mn4f+o0QMi7ZnB9yDBApB90ipMNKkBQuc4agR8iQBhCPkG+JBFAIG3ueQjh+z8A4B6YNvvFvwAaNwu\\u002f0se\\u002fABV8N5Fdzb9AZBUR6pr5P0AHLFRdOhdAYErNC9Fz8D+4im7gVrcSwDDiuBBdShzArI2PzvkaIcBI\\u002fG9i2V8fwIRebGrdYSHAnEtzhSaJIcBKyQYJwb4gwHBHmcIoBiHA\"},\"type\":\"bar\",\"xaxis\":\"x2\",\"yaxis\":\"y2\"}],                        {\"template\":{\"data\":{\"histogram2dcontour\":[{\"type\":\"histogram2dcontour\",\"colorbar\":{\"outlinewidth\":0,\"ticks\":\"\"},\"colorscale\":[[0.0,\"#0d0887\"],[0.1111111111111111,\"#46039f\"],[0.2222222222222222,\"#7201a8\"],[0.3333333333333333,\"#9c179e\"],[0.4444444444444444,\"#bd3786\"],[0.5555555555555556,\"#d8576b\"],[0.6666666666666666,\"#ed7953\"],[0.7777777777777778,\"#fb9f3a\"],[0.8888888888888888,\"#fdca26\"],[1.0,\"#f0f921\"]]}],\"choropleth\":[{\"type\":\"choropleth\",\"colorbar\":{\"outlinewidth\":0,\"ticks\":\"\"}}],\"histogram2d\":[{\"type\":\"histogram2d\",\"colorbar\":{\"outlinewidth\":0,\"ticks\":\"\"},\"colorscale\":[[0.0,\"#0d0887\"],[0.1111111111111111,\"#46039f\"],[0.2222222222222222,\"#7201a8\"],[0.3333333333333333,\"#9c179e\"],[0.4444444444444444,\"#bd3786\"],[0.5555555555555556,\"#d8576b\"],[0.6666666666666666,\"#ed7953\"],[0.7777777777777778,\"#fb9f3a\"],[0.8888888888888888,\"#fdca26\"],[1.0,\"#f0f921\"]]}],\"heatmap\":[{\"type\":\"heatmap\",\"colorbar\":{\"outlinewidth\":0,\"ticks\":\"\"},\"colorscale\":[[0.0,\"#0d0887\"],[0.1111111111111111,\"#46039f\"],[0.2222222222222222,\"#7201a8\"],[0.3333333333333333,\"#9c179e\"],[0.4444444444444444,\"#bd3786\"],[0.5555555555555556,\"#d8576b\"],[0.6666666666666666,\"#ed7953\"],[0.7777777777777778,\"#fb9f3a\"],[0.8888888888888888,\"#fdca26\"],[1.0,\"#f0f921\"]]}],\"contourcarpet\":[{\"type\":\"contourcarpet\",\"colorbar\":{\"outlinewidth\":0,\"ticks\":\"\"}}],\"contour\":[{\"type\":\"contour\",\"colorbar\":{\"outlinewidth\":0,\"ticks\":\"\"},\"colorscale\":[[0.0,\"#0d0887\"],[0.1111111111111111,\"#46039f\"],[0.2222222222222222,\"#7201a8\"],[0.3333333333333333,\"#9c179e\"],[0.4444444444444444,\"#bd3786\"],[0.5555555555555556,\"#d8576b\"],[0.6666666666666666,\"#ed7953\"],[0.7777777777777778,\"#fb9f3a\"],[0.8888888888888888,\"#fdca26\"],[1.0,\"#f0f921\"]]}],\"surface\":[{\"type\":\"surface\",\"colorbar\":{\"outlinewidth\":0,\"ticks\":\"\"},\"colorscale\":[[0.0,\"#0d0887\"],[0.1111111111111111,\"#46039f\"],[0.2222222222222222,\"#7201a8\"],[0.3333333333333333,\"#9c179e\"],[0.4444444444444444,\"#bd3786\"],[0.5555555555555556,\"#d8576b\"],[0.6666666666666666,\"#ed7953\"],[0.7777777777777778,\"#fb9f3a\"],[0.8888888888888888,\"#fdca26\"],[1.0,\"#f0f921\"]]}],\"mesh3d\":[{\"type\":\"mesh3d\",\"colorbar\":{\"outlinewidth\":0,\"ticks\":\"\"}}],\"scatter\":[{\"fillpattern\":{\"fillmode\":\"overlay\",\"size\":10,\"solidity\":0.2},\"type\":\"scatter\"}],\"parcoords\":[{\"type\":\"parcoords\",\"line\":{\"colorbar\":{\"outlinewidth\":0,\"ticks\":\"\"}}}],\"scatterpolargl\":[{\"type\":\"scatterpolargl\",\"marker\":{\"colorbar\":{\"outlinewidth\":0,\"ticks\":\"\"}}}],\"bar\":[{\"error_x\":{\"color\":\"#2a3f5f\"},\"error_y\":{\"color\":\"#2a3f5f\"},\"marker\":{\"line\":{\"color\":\"#E5ECF6\",\"width\":0.5},\"pattern\":{\"fillmode\":\"overlay\",\"size\":10,\"solidity\":0.2}},\"type\":\"bar\"}],\"scattergeo\":[{\"type\":\"scattergeo\",\"marker\":{\"colorbar\":{\"outlinewidth\":0,\"ticks\":\"\"}}}],\"scatterpolar\":[{\"type\":\"scatterpolar\",\"marker\":{\"colorbar\":{\"outlinewidth\":0,\"ticks\":\"\"}}}],\"histogram\":[{\"marker\":{\"pattern\":{\"fillmode\":\"overlay\",\"size\":10,\"solidity\":0.2}},\"type\":\"histogram\"}],\"scattergl\":[{\"type\":\"scattergl\",\"marker\":{\"colorbar\":{\"outlinewidth\":0,\"ticks\":\"\"}}}],\"scatter3d\":[{\"type\":\"scatter3d\",\"line\":{\"colorbar\":{\"outlinewidth\":0,\"ticks\":\"\"}},\"marker\":{\"colorbar\":{\"outlinewidth\":0,\"ticks\":\"\"}}}],\"scattermap\":[{\"type\":\"scattermap\",\"marker\":{\"colorbar\":{\"outlinewidth\":0,\"ticks\":\"\"}}}],\"scattermapbox\":[{\"type\":\"scattermapbox\",\"marker\":{\"colorbar\":{\"outlinewidth\":0,\"ticks\":\"\"}}}],\"scatterternary\":[{\"type\":\"scatterternary\",\"marker\":{\"colorbar\":{\"outlinewidth\":0,\"ticks\":\"\"}}}],\"scattercarpet\":[{\"type\":\"scattercarpet\",\"marker\":{\"colorbar\":{\"outlinewidth\":0,\"ticks\":\"\"}}}],\"carpet\":[{\"aaxis\":{\"endlinecolor\":\"#2a3f5f\",\"gridcolor\":\"white\",\"linecolor\":\"white\",\"minorgridcolor\":\"white\",\"startlinecolor\":\"#2a3f5f\"},\"baxis\":{\"endlinecolor\":\"#2a3f5f\",\"gridcolor\":\"white\",\"linecolor\":\"white\",\"minorgridcolor\":\"white\",\"startlinecolor\":\"#2a3f5f\"},\"type\":\"carpet\"}],\"table\":[{\"cells\":{\"fill\":{\"color\":\"#EBF0F8\"},\"line\":{\"color\":\"white\"}},\"header\":{\"fill\":{\"color\":\"#C8D4E3\"},\"line\":{\"color\":\"white\"}},\"type\":\"table\"}],\"barpolar\":[{\"marker\":{\"line\":{\"color\":\"#E5ECF6\",\"width\":0.5},\"pattern\":{\"fillmode\":\"overlay\",\"size\":10,\"solidity\":0.2}},\"type\":\"barpolar\"}],\"pie\":[{\"automargin\":true,\"type\":\"pie\"}]},\"layout\":{\"autotypenumbers\":\"strict\",\"colorway\":[\"#636efa\",\"#EF553B\",\"#00cc96\",\"#ab63fa\",\"#FFA15A\",\"#19d3f3\",\"#FF6692\",\"#B6E880\",\"#FF97FF\",\"#FECB52\"],\"font\":{\"color\":\"#2a3f5f\"},\"hovermode\":\"closest\",\"hoverlabel\":{\"align\":\"left\"},\"paper_bgcolor\":\"white\",\"plot_bgcolor\":\"#E5ECF6\",\"polar\":{\"bgcolor\":\"#E5ECF6\",\"angularaxis\":{\"gridcolor\":\"white\",\"linecolor\":\"white\",\"ticks\":\"\"},\"radialaxis\":{\"gridcolor\":\"white\",\"linecolor\":\"white\",\"ticks\":\"\"}},\"ternary\":{\"bgcolor\":\"#E5ECF6\",\"aaxis\":{\"gridcolor\":\"white\",\"linecolor\":\"white\",\"ticks\":\"\"},\"baxis\":{\"gridcolor\":\"white\",\"linecolor\":\"white\",\"ticks\":\"\"},\"caxis\":{\"gridcolor\":\"white\",\"linecolor\":\"white\",\"ticks\":\"\"}},\"coloraxis\":{\"colorbar\":{\"outlinewidth\":0,\"ticks\":\"\"}},\"colorscale\":{\"sequential\":[[0.0,\"#0d0887\"],[0.1111111111111111,\"#46039f\"],[0.2222222222222222,\"#7201a8\"],[0.3333333333333333,\"#9c179e\"],[0.4444444444444444,\"#bd3786\"],[0.5555555555555556,\"#d8576b\"],[0.6666666666666666,\"#ed7953\"],[0.7777777777777778,\"#fb9f3a\"],[0.8888888888888888,\"#fdca26\"],[1.0,\"#f0f921\"]],\"sequentialminus\":[[0.0,\"#0d0887\"],[0.1111111111111111,\"#46039f\"],[0.2222222222222222,\"#7201a8\"],[0.3333333333333333,\"#9c179e\"],[0.4444444444444444,\"#bd3786\"],[0.5555555555555556,\"#d8576b\"],[0.6666666666666666,\"#ed7953\"],[0.7777777777777778,\"#fb9f3a\"],[0.8888888888888888,\"#fdca26\"],[1.0,\"#f0f921\"]],\"diverging\":[[0,\"#8e0152\"],[0.1,\"#c51b7d\"],[0.2,\"#de77ae\"],[0.3,\"#f1b6da\"],[0.4,\"#fde0ef\"],[0.5,\"#f7f7f7\"],[0.6,\"#e6f5d0\"],[0.7,\"#b8e186\"],[0.8,\"#7fbc41\"],[0.9,\"#4d9221\"],[1,\"#276419\"]]},\"xaxis\":{\"gridcolor\":\"white\",\"linecolor\":\"white\",\"ticks\":\"\",\"title\":{\"standoff\":15},\"zerolinecolor\":\"white\",\"automargin\":true,\"zerolinewidth\":2},\"yaxis\":{\"gridcolor\":\"white\",\"linecolor\":\"white\",\"ticks\":\"\",\"title\":{\"standoff\":15},\"zerolinecolor\":\"white\",\"automargin\":true,\"zerolinewidth\":2},\"scene\":{\"xaxis\":{\"backgroundcolor\":\"#E5ECF6\",\"gridcolor\":\"white\",\"linecolor\":\"white\",\"showbackground\":true,\"ticks\":\"\",\"zerolinecolor\":\"white\",\"gridwidth\":2},\"yaxis\":{\"backgroundcolor\":\"#E5ECF6\",\"gridcolor\":\"white\",\"linecolor\":\"white\",\"showbackground\":true,\"ticks\":\"\",\"zerolinecolor\":\"white\",\"gridwidth\":2},\"zaxis\":{\"backgroundcolor\":\"#E5ECF6\",\"gridcolor\":\"white\",\"linecolor\":\"white\",\"showbackground\":true,\"ticks\":\"\",\"zerolinecolor\":\"white\",\"gridwidth\":2}},\"shapedefaults\":{\"line\":{\"color\":\"#2a3f5f\"}},\"annotationdefaults\":{\"arrowcolor\":\"#2a3f5f\",\"arrowhead\":0,\"arrowwidth\":1},\"geo\":{\"bgcolor\":\"white\",\"landcolor\":\"#E5ECF6\",\"subunitcolor\":\"white\",\"showland\":true,\"showlakes\":true,\"lakecolor\":\"white\"},\"title\":{\"x\":0.05},\"mapbox\":{\"style\":\"light\"}}},\"xaxis\":{\"anchor\":\"y\",\"domain\":[0.0,1.0],\"rangeslider\":{\"visible\":false}},\"yaxis\":{\"anchor\":\"x\",\"domain\":[0.575,1.0]},\"xaxis2\":{\"anchor\":\"y2\",\"domain\":[0.0,1.0]},\"yaxis2\":{\"anchor\":\"x2\",\"domain\":[0.0,0.425]},\"font\":{\"family\":\"Arial\",\"color\":\"rgb(82,82,82)\",\"size\":12},\"plot_bgcolor\":\"rgb(255,255,255)\"},                        {\"responsive\": true}                    ).then(function(){\n",
       "                            \n",
       "var gd = document.getElementById('ffa35a92-da2f-4e5b-b5fc-9553d234fad6');\n",
       "var x = new MutationObserver(function (mutations, observer) {{\n",
       "        var display = window.getComputedStyle(gd).display;\n",
       "        if (!display || display === 'none') {{\n",
       "            console.log([gd, 'removed!']);\n",
       "            Plotly.purge(gd);\n",
       "            observer.disconnect();\n",
       "        }}\n",
       "}});\n",
       "\n",
       "// Listen for the removal of the full notebook cells\n",
       "var notebookContainer = gd.closest('#notebook-container');\n",
       "if (notebookContainer) {{\n",
       "    x.observe(notebookContainer, {childList: true});\n",
       "}}\n",
       "\n",
       "// Listen for the clearing of the current output cell\n",
       "var outputEl = gd.closest('.output');\n",
       "if (outputEl) {{\n",
       "    x.observe(outputEl, {childList: true});\n",
       "}}\n",
       "\n",
       "                        })                };            </script>        </div>"
      ]
     },
     "metadata": {},
     "output_type": "display_data"
    }
   ],
   "source": [
    "macd_columns = ['macd', 'macd_signal', 'macd_hist']\n",
    "\n",
    "columns = [f\"BTC_{feature}\" for feature in macd_columns]\n",
    "features_df = observations_df[columns].rename(columns=dict(zip(columns, macd_columns)))\n",
    "\n",
    "fig = make_subplots(rows=2, cols=1)\n",
    "\n",
    "# price Line\n",
    "fig.append_trace(\n",
    "    go.Scatter(\n",
    "        x=prices_df.index,\n",
    "        y=prices_df['BTC'],\n",
    "        line=dict(color='rgb(0,100,200)', width=1),\n",
    "        name='BTC',\n",
    "        # showlegend=False,\n",
    "        legendgroup='1',\n",
    "    ), row=1, col=1\n",
    ")\n",
    "\n",
    "fig.append_trace(\n",
    "    go.Scatter(\n",
    "        x=features_df.index,\n",
    "        y=features_df['macd'],\n",
    "        line=dict(color='rgb(0,0,0)', width=1),\n",
    "        name='macd',\n",
    "        # showlegend=False,\n",
    "        legendgroup='2',\n",
    "    ), row=2, col=1\n",
    ")\n",
    "\n",
    "\n",
    "# Slow signal (%d)\n",
    "fig.append_trace(\n",
    "    go.Scatter(\n",
    "        x=features_df.index,\n",
    "        y=features_df['macd_signal'],\n",
    "        line=dict(color='rgb(0,181,226)', width=1),\n",
    "        # showlegend=False,\n",
    "        legendgroup='2',\n",
    "        name='macd_signal'\n",
    "    ), row=2, col=1\n",
    ")\n",
    "\n",
    "\n",
    "# Colorize the histogram values\n",
    "colors = np.where(features_df['macd_hist'] > 0, 'rgb(0,177,64)', 'rgb(255,0,0)')\n",
    "\n",
    "\n",
    "# Plot the histogram\n",
    "fig.append_trace(\n",
    "    go.Bar(\n",
    "        x=features_df.index,\n",
    "        y=features_df['macd_hist'],\n",
    "        name='macd_hist',\n",
    "        marker_color=colors,\n",
    "    ), row=2, col=1\n",
    ")\n",
    "\n",
    "\n",
    "# Make it pretty\n",
    "layout = go.Layout(\n",
    "    plot_bgcolor='rgb(255,255,255)',\n",
    "    # Font Families\n",
    "    font_family='Arial',\n",
    "    font_color='rgb(82,82,82)',\n",
    "    font_size=12,\n",
    "    xaxis=dict(\n",
    "        rangeslider=dict(\n",
    "            visible=False\n",
    "        )\n",
    "    )\n",
    ")\n",
    "\n",
    "\n",
    "# Update options and show plot\n",
    "fig.update_layout(layout)\n",
    "\n",
    "\n",
    "fig.show()\n",
    "\n",
    "#iplot(fig)\n",
    "\n",
    "\n",
    "# plt.figure(figsize=(12, 8))\n",
    "# plt.title(f\"MACD: {symbol}\")\n",
    "# plt.plot(features_df)\n",
    "# plt.show()\n",
    "\n",
    "# corr = features_df.corr()\n",
    "# plt.figure(figsize=(12, 8))\n",
    "# plt.title(f\"Correlation Matrix: {symbol}\")\n",
    "# hm = sns.heatmap(corr, vmax=1, square=True, annot=True, cmap=\"coolwarm\")\n",
    "# hm.set_xticklabels(hm.get_xticklabels(), rotation = 35)\n",
    "# plt.show()"
   ]
  }
 ],
 "metadata": {
  "kernelspec": {
   "display_name": "Python 3 (ipykernel)",
   "language": "python",
   "name": "python3"
  },
  "language_info": {
   "codemirror_mode": {
    "name": "ipython",
    "version": 3
   },
   "file_extension": ".py",
   "mimetype": "text/x-python",
   "name": "python",
   "nbconvert_exporter": "python",
   "pygments_lexer": "ipython3",
   "version": "3.11.0rc1"
  }
 },
 "nbformat": 4,
 "nbformat_minor": 4
}
