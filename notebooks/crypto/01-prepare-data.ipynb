{
 "cells": [
  {
   "cell_type": "code",
   "execution_count": 15,
   "metadata": {},
   "outputs": [],
   "source": [
    "import ccxt\n",
    "import pandas as pd\n",
    "import numpy as np\n",
    "\n",
    "pd.set_option('display.float_format', lambda x: '%.4f' % x)"
   ]
  },
  {
   "cell_type": "code",
   "execution_count": 16,
   "metadata": {},
   "outputs": [
    {
     "name": "stdout",
     "output_type": "stream",
     "text": [
      "Fetched 13555 candles for BTC/USDT\n",
      "Fetched 13555 candles for ETH/USDT\n",
      "Fetched 13555 candles for XRP/USDT\n",
      "Fetched 13555 candles for DOGE/USDT\n",
      "Fetched 13555 candles for SOL/USDT\n"
     ]
    }
   ],
   "source": [
    "# Initialize the exchange\n",
    "binance = ccxt.binance()\n",
    "\n",
    "# Define the symbols and timeframe\n",
    "symbols = ['BTC/USDT', 'ETH/USDT', 'XRP/USDT', 'DOGE/USDT', 'SOL/USDT']\n",
    "timeframe = '1h'  # 1-hour candles\n",
    "limit = 1000 # Number of candles to fetch per request\n",
    "start_date = '2024-01-01T00:00:00Z'\n",
    "\n",
    "def fetch_data(symbol, timeframe, start_date, limit):\n",
    "    since = binance.parse8601(start_date)\n",
    "    symbol_ohlcv = []\n",
    "    while True:\n",
    "        ohlcv = binance.fetch_ohlcv(symbol, timeframe, since, limit)\n",
    "        if len(ohlcv) == 0:\n",
    "            break\n",
    "        symbol_ohlcv.extend(ohlcv)\n",
    "        since = ohlcv[-1][0] + 1\n",
    "    data = np.array(symbol_ohlcv, dtype=object)\n",
    "    return np.insert(data, 1, symbol, axis=1)\n",
    "    \n",
    "# Fetch the data\n",
    "all_ohlcv = []\n",
    "for symbol in symbols:\n",
    "    data = fetch_data(symbol, timeframe, start_date, limit)\n",
    "    all_ohlcv.append(data)\n",
    "    print(f\"Fetched {len(data)} candles for {symbol}\")\n",
    "\n",
    "df = pd.DataFrame(np.concatenate(all_ohlcv), columns=['timestamp', 'symbol', 'open', 'high', 'low', 'close', 'volume'])"
   ]
  },
  {
   "cell_type": "code",
   "execution_count": 17,
   "metadata": {},
   "outputs": [
    {
     "name": "stdout",
     "output_type": "stream",
     "text": [
      "Fetched 67775 candles\n"
     ]
    }
   ],
   "source": [
    "df['timestamp'] = pd.to_datetime(df['timestamp'], unit='ms')\n",
    "df.set_index('timestamp', inplace=True)\n",
    "df.sort_index(inplace=True)\n",
    "\n",
    "print(f\"Fetched {len(df)} candles\")"
   ]
  },
  {
   "cell_type": "code",
   "execution_count": 18,
   "metadata": {},
   "outputs": [
    {
     "data": {
      "text/html": [
       "<div>\n",
       "<style scoped>\n",
       "    .dataframe tbody tr th:only-of-type {\n",
       "        vertical-align: middle;\n",
       "    }\n",
       "\n",
       "    .dataframe tbody tr th {\n",
       "        vertical-align: top;\n",
       "    }\n",
       "\n",
       "    .dataframe thead th {\n",
       "        text-align: right;\n",
       "    }\n",
       "</style>\n",
       "<table border=\"1\" class=\"dataframe\">\n",
       "  <thead>\n",
       "    <tr style=\"text-align: right;\">\n",
       "      <th></th>\n",
       "      <th>symbol</th>\n",
       "      <th>open</th>\n",
       "      <th>high</th>\n",
       "      <th>low</th>\n",
       "      <th>close</th>\n",
       "      <th>volume</th>\n",
       "    </tr>\n",
       "    <tr>\n",
       "      <th>timestamp</th>\n",
       "      <th></th>\n",
       "      <th></th>\n",
       "      <th></th>\n",
       "      <th></th>\n",
       "      <th></th>\n",
       "      <th></th>\n",
       "    </tr>\n",
       "  </thead>\n",
       "  <tbody>\n",
       "    <tr>\n",
       "      <th>2024-01-01</th>\n",
       "      <td>BTC/USDT</td>\n",
       "      <td>42283.5800</td>\n",
       "      <td>42554.5700</td>\n",
       "      <td>42261.0200</td>\n",
       "      <td>42475.2300</td>\n",
       "      <td>1271.6811</td>\n",
       "    </tr>\n",
       "    <tr>\n",
       "      <th>2024-01-01</th>\n",
       "      <td>XRP/USDT</td>\n",
       "      <td>0.6155</td>\n",
       "      <td>0.6172</td>\n",
       "      <td>0.6146</td>\n",
       "      <td>0.6162</td>\n",
       "      <td>14498728.0000</td>\n",
       "    </tr>\n",
       "    <tr>\n",
       "      <th>2024-01-01</th>\n",
       "      <td>DOGE/USDT</td>\n",
       "      <td>0.0896</td>\n",
       "      <td>0.0900</td>\n",
       "      <td>0.0895</td>\n",
       "      <td>0.0898</td>\n",
       "      <td>17799677.0000</td>\n",
       "    </tr>\n",
       "    <tr>\n",
       "      <th>2024-01-01</th>\n",
       "      <td>SOL/USDT</td>\n",
       "      <td>101.7200</td>\n",
       "      <td>102.7900</td>\n",
       "      <td>101.5600</td>\n",
       "      <td>101.9600</td>\n",
       "      <td>196680.9300</td>\n",
       "    </tr>\n",
       "    <tr>\n",
       "      <th>2024-01-01</th>\n",
       "      <td>ETH/USDT</td>\n",
       "      <td>2281.8700</td>\n",
       "      <td>2297.1800</td>\n",
       "      <td>2281.2700</td>\n",
       "      <td>2295.5100</td>\n",
       "      <td>10771.9183</td>\n",
       "    </tr>\n",
       "  </tbody>\n",
       "</table>\n",
       "</div>"
      ],
      "text/plain": [
       "               symbol       open       high        low      close  \\\n",
       "timestamp                                                           \n",
       "2024-01-01   BTC/USDT 42283.5800 42554.5700 42261.0200 42475.2300   \n",
       "2024-01-01   XRP/USDT     0.6155     0.6172     0.6146     0.6162   \n",
       "2024-01-01  DOGE/USDT     0.0896     0.0900     0.0895     0.0898   \n",
       "2024-01-01   SOL/USDT   101.7200   102.7900   101.5600   101.9600   \n",
       "2024-01-01   ETH/USDT  2281.8700  2297.1800  2281.2700  2295.5100   \n",
       "\n",
       "                  volume  \n",
       "timestamp                 \n",
       "2024-01-01     1271.6811  \n",
       "2024-01-01 14498728.0000  \n",
       "2024-01-01 17799677.0000  \n",
       "2024-01-01   196680.9300  \n",
       "2024-01-01    10771.9183  "
      ]
     },
     "execution_count": 18,
     "metadata": {},
     "output_type": "execute_result"
    }
   ],
   "source": [
    "df.head(5)"
   ]
  },
  {
   "cell_type": "code",
   "execution_count": 19,
   "metadata": {},
   "outputs": [],
   "source": [
    "df.to_csv('data/ohlcv.csv.gz', compression='gzip')"
   ]
  }
 ],
 "metadata": {
  "kernelspec": {
   "display_name": ".venv",
   "language": "python",
   "name": "python3"
  },
  "language_info": {
   "codemirror_mode": {
    "name": "ipython",
    "version": 3
   },
   "file_extension": ".py",
   "mimetype": "text/x-python",
   "name": "python",
   "nbconvert_exporter": "python",
   "pygments_lexer": "ipython3",
   "version": "3.11.12"
  }
 },
 "nbformat": 4,
 "nbformat_minor": 2
}
