{
 "cells": [
  {
   "cell_type": "code",
   "execution_count": 37,
   "metadata": {},
   "outputs": [],
   "source": [
    "import ccxt\n",
    "import pandas as pd\n",
    "\n",
    "pd.set_option('display.float_format', lambda x: '%.4f' % x)"
   ]
  },
  {
   "cell_type": "code",
   "execution_count": 38,
   "metadata": {},
   "outputs": [
    {
     "name": "stderr",
     "output_type": "stream",
     "text": [
      "/tmp/ipykernel_25422/410943163.py:28: FutureWarning: The behavior of DataFrame concatenation with empty or all-NA entries is deprecated. In a future version, this will no longer exclude empty or all-NA columns when determining the result dtypes. To retain the old behavior, exclude the relevant entries before the concat operation.\n",
      "  all_ohlcv = pd.concat([all_ohlcv, df])\n"
     ]
    },
    {
     "name": "stdout",
     "output_type": "stream",
     "text": [
      "Fetched 13094 candles for BTC/USDT\n",
      "Fetched 13094 candles for ETH/USDT\n",
      "Fetched 13094 candles for XRP/USDT\n",
      "Fetched 13094 candles for DOGE/USDT\n",
      "Fetched 13094 candles for SOL/USDT\n"
     ]
    }
   ],
   "source": [
    "# Initialize the exchange\n",
    "binance = ccxt.binance()\n",
    "\n",
    "# Define the symbols and timeframe\n",
    "symbols = ['BTC/USDT', 'ETH/USDT', 'XRP/USDT', 'DOGE/USDT', 'SOL/USDT']\n",
    "timeframe = '1h'  # 1-hour candles\n",
    "limit = 1000 # Number of candles to fetch per request\n",
    "start_date = '2024-01-01T00:00:00Z'\n",
    "\n",
    "def fetch_data(symbol, timeframe, start_date, limit):\n",
    "    since = binance.parse8601(start_date)\n",
    "    symbol_ohlcv = []\n",
    "    while True:\n",
    "        ohlcv = binance.fetch_ohlcv(symbol, timeframe, since, limit)\n",
    "        if len(ohlcv) == 0:\n",
    "            break\n",
    "        symbol_ohlcv.extend(ohlcv)\n",
    "        since = ohlcv[-1][0] + 1\n",
    "    return symbol_ohlcv\n",
    "\n",
    "# Fetch the data\n",
    "all_ohlcv = pd.DataFrame([], columns=['timestamp', 'symbol', 'open', 'high', 'low', 'close', 'volume'])\n",
    "\n",
    "for symbol in symbols:\n",
    "    symbol_ohlcv = fetch_data(symbol, timeframe, start_date, limit)\n",
    "    df = pd.DataFrame(symbol_ohlcv, columns=['timestamp', 'open', 'high', 'low', 'close', 'volume'])\n",
    "    df['symbol'] = symbol\n",
    "    all_ohlcv = pd.concat([all_ohlcv, df])\n",
    "    print(f\"Fetched {len(symbol_ohlcv)} candles for {symbol}\")"
   ]
  },
  {
   "cell_type": "code",
   "execution_count": 39,
   "metadata": {},
   "outputs": [
    {
     "name": "stdout",
     "output_type": "stream",
     "text": [
      "Fetched 65470 candles\n"
     ]
    }
   ],
   "source": [
    "all_ohlcv['timestamp'] = pd.to_datetime(all_ohlcv['timestamp'], unit='ms')\n",
    "all_ohlcv.set_index('timestamp', inplace=True)\n",
    "all_ohlcv.sort_index(inplace=True)\n",
    "\n",
    "print(f\"Fetched {len(all_ohlcv)} candles\")"
   ]
  },
  {
   "cell_type": "code",
   "execution_count": 40,
   "metadata": {},
   "outputs": [
    {
     "data": {
      "text/html": [
       "<div>\n",
       "<style scoped>\n",
       "    .dataframe tbody tr th:only-of-type {\n",
       "        vertical-align: middle;\n",
       "    }\n",
       "\n",
       "    .dataframe tbody tr th {\n",
       "        vertical-align: top;\n",
       "    }\n",
       "\n",
       "    .dataframe thead th {\n",
       "        text-align: right;\n",
       "    }\n",
       "</style>\n",
       "<table border=\"1\" class=\"dataframe\">\n",
       "  <thead>\n",
       "    <tr style=\"text-align: right;\">\n",
       "      <th></th>\n",
       "      <th>symbol</th>\n",
       "      <th>open</th>\n",
       "      <th>high</th>\n",
       "      <th>low</th>\n",
       "      <th>close</th>\n",
       "      <th>volume</th>\n",
       "    </tr>\n",
       "    <tr>\n",
       "      <th>timestamp</th>\n",
       "      <th></th>\n",
       "      <th></th>\n",
       "      <th></th>\n",
       "      <th></th>\n",
       "      <th></th>\n",
       "      <th></th>\n",
       "    </tr>\n",
       "  </thead>\n",
       "  <tbody>\n",
       "    <tr>\n",
       "      <th>2024-01-01</th>\n",
       "      <td>BTC/USDT</td>\n",
       "      <td>42283.5800</td>\n",
       "      <td>42554.5700</td>\n",
       "      <td>42261.0200</td>\n",
       "      <td>42475.2300</td>\n",
       "      <td>1271.6811</td>\n",
       "    </tr>\n",
       "    <tr>\n",
       "      <th>2024-01-01</th>\n",
       "      <td>DOGE/USDT</td>\n",
       "      <td>0.0896</td>\n",
       "      <td>0.0900</td>\n",
       "      <td>0.0895</td>\n",
       "      <td>0.0898</td>\n",
       "      <td>17799677.0000</td>\n",
       "    </tr>\n",
       "    <tr>\n",
       "      <th>2024-01-01</th>\n",
       "      <td>XRP/USDT</td>\n",
       "      <td>0.6155</td>\n",
       "      <td>0.6172</td>\n",
       "      <td>0.6146</td>\n",
       "      <td>0.6162</td>\n",
       "      <td>14498728.0000</td>\n",
       "    </tr>\n",
       "    <tr>\n",
       "      <th>2024-01-01</th>\n",
       "      <td>ETH/USDT</td>\n",
       "      <td>2281.8700</td>\n",
       "      <td>2297.1800</td>\n",
       "      <td>2281.2700</td>\n",
       "      <td>2295.5100</td>\n",
       "      <td>10771.9183</td>\n",
       "    </tr>\n",
       "    <tr>\n",
       "      <th>2024-01-01</th>\n",
       "      <td>SOL/USDT</td>\n",
       "      <td>101.7200</td>\n",
       "      <td>102.7900</td>\n",
       "      <td>101.5600</td>\n",
       "      <td>101.9600</td>\n",
       "      <td>196680.9300</td>\n",
       "    </tr>\n",
       "  </tbody>\n",
       "</table>\n",
       "</div>"
      ],
      "text/plain": [
       "               symbol       open       high        low      close  \\\n",
       "timestamp                                                           \n",
       "2024-01-01   BTC/USDT 42283.5800 42554.5700 42261.0200 42475.2300   \n",
       "2024-01-01  DOGE/USDT     0.0896     0.0900     0.0895     0.0898   \n",
       "2024-01-01   XRP/USDT     0.6155     0.6172     0.6146     0.6162   \n",
       "2024-01-01   ETH/USDT  2281.8700  2297.1800  2281.2700  2295.5100   \n",
       "2024-01-01   SOL/USDT   101.7200   102.7900   101.5600   101.9600   \n",
       "\n",
       "                  volume  \n",
       "timestamp                 \n",
       "2024-01-01     1271.6811  \n",
       "2024-01-01 17799677.0000  \n",
       "2024-01-01 14498728.0000  \n",
       "2024-01-01    10771.9183  \n",
       "2024-01-01   196680.9300  "
      ]
     },
     "execution_count": 40,
     "metadata": {},
     "output_type": "execute_result"
    }
   ],
   "source": [
    "all_ohlcv.head(5)"
   ]
  },
  {
   "cell_type": "code",
   "execution_count": 41,
   "metadata": {},
   "outputs": [],
   "source": [
    "all_ohlcv.to_csv('data/ohlcv.csv.gz', compression='gzip')"
   ]
  }
 ],
 "metadata": {
  "kernelspec": {
   "display_name": ".venv",
   "language": "python",
   "name": "python3"
  },
  "language_info": {
   "codemirror_mode": {
    "name": "ipython",
    "version": 3
   },
   "file_extension": ".py",
   "mimetype": "text/x-python",
   "name": "python",
   "nbconvert_exporter": "python",
   "pygments_lexer": "ipython3",
   "version": "3.9.22"
  }
 },
 "nbformat": 4,
 "nbformat_minor": 2
}
