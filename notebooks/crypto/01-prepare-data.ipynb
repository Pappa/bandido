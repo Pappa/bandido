{
 "cells": [
  {
   "cell_type": "markdown",
   "metadata": {},
   "source": [
    "## Download OHLCV data"
   ]
  },
  {
   "cell_type": "code",
   "execution_count": 1,
   "metadata": {},
   "outputs": [],
   "source": [
    "import ccxt\n",
    "import pandas as pd\n",
    "import numpy as np\n",
    "\n",
    "pd.set_option('display.float_format', lambda x: '%.4f' % x)"
   ]
  },
  {
   "cell_type": "code",
   "execution_count": 2,
   "metadata": {},
   "outputs": [],
   "source": [
    "# Initialize the exchange\n",
    "binance = ccxt.binance()"
   ]
  },
  {
   "cell_type": "code",
   "execution_count": 3,
   "metadata": {},
   "outputs": [],
   "source": [
    "# Define the symbols and timeframe\n",
    "symbols = ['BTC/USDT', 'ETH/USDT', 'XRP/USDT', 'DOGE/USDT', 'SOL/USDT']\n",
    "timeframe = '1h'  # 1-hour candles\n",
    "limit = 1000 # Number of candles to fetch per request\n",
    "start_date = '2023-01-01T00:00:00Z'"
   ]
  },
  {
   "cell_type": "code",
   "execution_count": 4,
   "metadata": {},
   "outputs": [],
   "source": [
    "def fetch_data(symbol, timeframe, start_date, limit):\n",
    "    since = binance.parse8601(start_date)\n",
    "    symbol_ohlcv = []\n",
    "    while True:\n",
    "        ohlcv = binance.fetch_ohlcv(symbol, timeframe, since, limit)\n",
    "        if len(ohlcv) == 0:\n",
    "            break\n",
    "        symbol_ohlcv.extend(ohlcv)\n",
    "        since = ohlcv[-1][0] + 1\n",
    "    data = np.array(symbol_ohlcv, dtype=object)\n",
    "    return np.insert(data, 1, symbol, axis=1)"
   ]
  },
  {
   "cell_type": "code",
   "execution_count": null,
   "metadata": {},
   "outputs": [],
   "source": [
    " # Fetch the data\n",
    "all_ohlcv = []\n",
    "for symbol in symbols:\n",
    "    data = fetch_data(symbol, timeframe, start_date, limit)\n",
    "    all_ohlcv.append(data)\n",
    "    print(f\"Fetched {len(data)} candles for {symbol}\")\n",
    "\n",
    "df = pd.DataFrame(np.concatenate(all_ohlcv), columns=['timestamp', 'symbol', 'open', 'high', 'low', 'close', 'volume'])"
   ]
  },
  {
   "cell_type": "code",
   "execution_count": null,
   "metadata": {},
   "outputs": [],
   "source": [
    "df['timestamp'] = pd.to_datetime(df['timestamp'], unit='ms')\n",
    "df.set_index('timestamp', inplace=True)\n",
    "df.sort_index(inplace=True)\n",
    "\n",
    "print(f\"Fetched {len(df)} candles\")"
   ]
  },
  {
   "cell_type": "code",
   "execution_count": null,
   "metadata": {},
   "outputs": [],
   "source": [
    "df.head(5)"
   ]
  },
  {
   "cell_type": "code",
   "execution_count": null,
   "metadata": {},
   "outputs": [],
   "source": [
    "df.to_csv('data/ohlcv.csv.gz', compression='gzip')"
   ]
  },
  {
   "cell_type": "code",
   "execution_count": 7,
   "metadata": {},
   "outputs": [
    {
     "name": "stdout",
     "output_type": "stream",
     "text": [
      "Fetched 475 candles for BTC/USDT\n",
      "Fetched 475 candles for ETH/USDT\n",
      "Fetched 475 candles for XRP/USDT\n",
      "Fetched 475 candles for DOGE/USDT\n",
      "Fetched 475 candles for SOL/USDT\n"
     ]
    },
    {
     "data": {
      "text/html": [
       "<div>\n",
       "<style scoped>\n",
       "    .dataframe tbody tr th:only-of-type {\n",
       "        vertical-align: middle;\n",
       "    }\n",
       "\n",
       "    .dataframe tbody tr th {\n",
       "        vertical-align: top;\n",
       "    }\n",
       "\n",
       "    .dataframe thead th {\n",
       "        text-align: right;\n",
       "    }\n",
       "</style>\n",
       "<table border=\"1\" class=\"dataframe\">\n",
       "  <thead>\n",
       "    <tr style=\"text-align: right;\">\n",
       "      <th></th>\n",
       "      <th>symbol</th>\n",
       "      <th>open</th>\n",
       "      <th>high</th>\n",
       "      <th>low</th>\n",
       "      <th>close</th>\n",
       "      <th>volume</th>\n",
       "    </tr>\n",
       "    <tr>\n",
       "      <th>timestamp</th>\n",
       "      <th></th>\n",
       "      <th></th>\n",
       "      <th></th>\n",
       "      <th></th>\n",
       "      <th></th>\n",
       "      <th></th>\n",
       "    </tr>\n",
       "  </thead>\n",
       "  <tbody>\n",
       "    <tr>\n",
       "      <th>2025-07-01 01:00:00</th>\n",
       "      <td>BTC/USDT</td>\n",
       "      <td>107377.0300</td>\n",
       "      <td>107540.0000</td>\n",
       "      <td>107171.4200</td>\n",
       "      <td>107220.0000</td>\n",
       "      <td>219.6465</td>\n",
       "    </tr>\n",
       "    <tr>\n",
       "      <th>2025-07-01 01:00:00</th>\n",
       "      <td>ETH/USDT</td>\n",
       "      <td>2493.3500</td>\n",
       "      <td>2500.8000</td>\n",
       "      <td>2486.8300</td>\n",
       "      <td>2488.7800</td>\n",
       "      <td>7841.1991</td>\n",
       "    </tr>\n",
       "    <tr>\n",
       "      <th>2025-07-01 01:00:00</th>\n",
       "      <td>SOL/USDT</td>\n",
       "      <td>154.7600</td>\n",
       "      <td>155.2200</td>\n",
       "      <td>154.3000</td>\n",
       "      <td>154.3900</td>\n",
       "      <td>81261.5330</td>\n",
       "    </tr>\n",
       "    <tr>\n",
       "      <th>2025-07-01 01:00:00</th>\n",
       "      <td>DOGE/USDT</td>\n",
       "      <td>0.1654</td>\n",
       "      <td>0.1663</td>\n",
       "      <td>0.1650</td>\n",
       "      <td>0.1651</td>\n",
       "      <td>19300250.0000</td>\n",
       "    </tr>\n",
       "    <tr>\n",
       "      <th>2025-07-01 01:00:00</th>\n",
       "      <td>XRP/USDT</td>\n",
       "      <td>2.2384</td>\n",
       "      <td>2.2537</td>\n",
       "      <td>2.2277</td>\n",
       "      <td>2.2305</td>\n",
       "      <td>4630010.9000</td>\n",
       "    </tr>\n",
       "  </tbody>\n",
       "</table>\n",
       "</div>"
      ],
      "text/plain": [
       "                        symbol        open        high         low  \\\n",
       "timestamp                                                            \n",
       "2025-07-01 01:00:00   BTC/USDT 107377.0300 107540.0000 107171.4200   \n",
       "2025-07-01 01:00:00   ETH/USDT   2493.3500   2500.8000   2486.8300   \n",
       "2025-07-01 01:00:00   SOL/USDT    154.7600    155.2200    154.3000   \n",
       "2025-07-01 01:00:00  DOGE/USDT      0.1654      0.1663      0.1650   \n",
       "2025-07-01 01:00:00   XRP/USDT      2.2384      2.2537      2.2277   \n",
       "\n",
       "                          close        volume  \n",
       "timestamp                                      \n",
       "2025-07-01 01:00:00 107220.0000      219.6465  \n",
       "2025-07-01 01:00:00   2488.7800     7841.1991  \n",
       "2025-07-01 01:00:00    154.3900    81261.5330  \n",
       "2025-07-01 01:00:00      0.1651 19300250.0000  \n",
       "2025-07-01 01:00:00      2.2305  4630010.9000  "
      ]
     },
     "execution_count": 7,
     "metadata": {},
     "output_type": "execute_result"
    }
   ],
   "source": [
    "# slippage data - just a small ammount for now\n",
    "slippage_start_date = '2025-07-01T00:01:00Z'\n",
    "\n",
    " # Fetch the data\n",
    "all_slippage = []\n",
    "for symbol in symbols:\n",
    "    data = fetch_data(symbol, timeframe, slippage_start_date, limit)\n",
    "    all_slippage.append(data)\n",
    "    print(f\"Fetched {len(data)} candles for {symbol}\")\n",
    "\n",
    "slippage_df = pd.DataFrame(np.concatenate(all_slippage), columns=['timestamp', 'symbol', 'open', 'high', 'low', 'close', 'volume'])\n",
    "slippage_df['timestamp'] = pd.to_datetime(slippage_df['timestamp'], unit='ms')\n",
    "slippage_df.set_index('timestamp', inplace=True)\n",
    "slippage_df.sort_index(inplace=True)\n",
    "slippage_df.head(5)"
   ]
  },
  {
   "cell_type": "code",
   "execution_count": 8,
   "metadata": {},
   "outputs": [],
   "source": [
    "slippage_df.to_csv('data/ohlcv_slippage.csv.gz', compression='gzip')"
   ]
  }
 ],
 "metadata": {
  "kernelspec": {
   "display_name": ".venv",
   "language": "python",
   "name": "python3"
  },
  "language_info": {
   "codemirror_mode": {
    "name": "ipython",
    "version": 3
   },
   "file_extension": ".py",
   "mimetype": "text/x-python",
   "name": "python",
   "nbconvert_exporter": "python",
   "pygments_lexer": "ipython3",
   "version": "3.11.12"
  }
 },
 "nbformat": 4,
 "nbformat_minor": 4
}
