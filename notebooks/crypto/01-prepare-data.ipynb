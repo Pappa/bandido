{
 "cells": [
  {
   "cell_type": "markdown",
   "metadata": {},
   "source": [
    "## Download OHLCV data"
   ]
  },
  {
   "cell_type": "code",
   "execution_count": 1,
   "metadata": {},
   "outputs": [],
   "source": [
    "import ccxt\n",
    "import pandas as pd\n",
    "import numpy as np\n",
    "\n",
    "pd.set_option('display.float_format', lambda x: '%.4f' % x)"
   ]
  },
  {
   "cell_type": "code",
   "execution_count": 2,
   "metadata": {},
   "outputs": [
    {
     "name": "stdout",
     "output_type": "stream",
     "text": [
      "Fetched 22331 candles for BTC/USDT\n",
      "Fetched 22331 candles for ETH/USDT\n",
      "Fetched 22331 candles for XRP/USDT\n",
      "Fetched 22331 candles for DOGE/USDT\n",
      "Fetched 22331 candles for SOL/USDT\n"
     ]
    }
   ],
   "source": [
    "# Initialize the exchange\n",
    "binance = ccxt.binance()\n",
    "\n",
    "# Define the symbols and timeframe\n",
    "symbols = ['BTC/USDT', 'ETH/USDT', 'XRP/USDT', 'DOGE/USDT', 'SOL/USDT']\n",
    "timeframe = '1h'  # 1-hour candles\n",
    "limit = 1000 # Number of candles to fetch per request\n",
    "start_date = '2023-01-01T00:00:00Z'\n",
    "\n",
    "def fetch_data(symbol, timeframe, start_date, limit):\n",
    "    since = binance.parse8601(start_date)\n",
    "    symbol_ohlcv = []\n",
    "    while True:\n",
    "        ohlcv = binance.fetch_ohlcv(symbol, timeframe, since, limit)\n",
    "        if len(ohlcv) == 0:\n",
    "            break\n",
    "        symbol_ohlcv.extend(ohlcv)\n",
    "        since = ohlcv[-1][0] + 1\n",
    "    data = np.array(symbol_ohlcv, dtype=object)\n",
    "    return np.insert(data, 1, symbol, axis=1)\n",
    "    \n",
    "# Fetch the data\n",
    "all_ohlcv = []\n",
    "for symbol in symbols:\n",
    "    data = fetch_data(symbol, timeframe, start_date, limit)\n",
    "    all_ohlcv.append(data)\n",
    "    print(f\"Fetched {len(data)} candles for {symbol}\")\n",
    "\n",
    "df = pd.DataFrame(np.concatenate(all_ohlcv), columns=['timestamp', 'symbol', 'open', 'high', 'low', 'close', 'volume'])"
   ]
  },
  {
   "cell_type": "code",
   "execution_count": 3,
   "metadata": {},
   "outputs": [
    {
     "name": "stdout",
     "output_type": "stream",
     "text": [
      "Fetched 111655 candles\n"
     ]
    }
   ],
   "source": [
    "df['timestamp'] = pd.to_datetime(df['timestamp'], unit='ms')\n",
    "df.set_index('timestamp', inplace=True)\n",
    "df.sort_index(inplace=True)\n",
    "\n",
    "print(f\"Fetched {len(df)} candles\")"
   ]
  },
  {
   "cell_type": "code",
   "execution_count": 4,
   "metadata": {},
   "outputs": [
    {
     "data": {
      "text/html": [
       "<div>\n",
       "<style scoped>\n",
       "    .dataframe tbody tr th:only-of-type {\n",
       "        vertical-align: middle;\n",
       "    }\n",
       "\n",
       "    .dataframe tbody tr th {\n",
       "        vertical-align: top;\n",
       "    }\n",
       "\n",
       "    .dataframe thead th {\n",
       "        text-align: right;\n",
       "    }\n",
       "</style>\n",
       "<table border=\"1\" class=\"dataframe\">\n",
       "  <thead>\n",
       "    <tr style=\"text-align: right;\">\n",
       "      <th></th>\n",
       "      <th>symbol</th>\n",
       "      <th>open</th>\n",
       "      <th>high</th>\n",
       "      <th>low</th>\n",
       "      <th>close</th>\n",
       "      <th>volume</th>\n",
       "    </tr>\n",
       "    <tr>\n",
       "      <th>timestamp</th>\n",
       "      <th></th>\n",
       "      <th></th>\n",
       "      <th></th>\n",
       "      <th></th>\n",
       "      <th></th>\n",
       "      <th></th>\n",
       "    </tr>\n",
       "  </thead>\n",
       "  <tbody>\n",
       "    <tr>\n",
       "      <th>2023-01-01</th>\n",
       "      <td>BTC/USDT</td>\n",
       "      <td>16541.7700</td>\n",
       "      <td>16545.7000</td>\n",
       "      <td>16508.3900</td>\n",
       "      <td>16529.6700</td>\n",
       "      <td>4364.8357</td>\n",
       "    </tr>\n",
       "    <tr>\n",
       "      <th>2023-01-01</th>\n",
       "      <td>SOL/USDT</td>\n",
       "      <td>9.9700</td>\n",
       "      <td>10.0200</td>\n",
       "      <td>9.9300</td>\n",
       "      <td>9.9900</td>\n",
       "      <td>126479.6700</td>\n",
       "    </tr>\n",
       "    <tr>\n",
       "      <th>2023-01-01</th>\n",
       "      <td>ETH/USDT</td>\n",
       "      <td>1196.1300</td>\n",
       "      <td>1196.7000</td>\n",
       "      <td>1192.7200</td>\n",
       "      <td>1194.0900</td>\n",
       "      <td>5889.3840</td>\n",
       "    </tr>\n",
       "    <tr>\n",
       "      <th>2023-01-01</th>\n",
       "      <td>DOGE/USDT</td>\n",
       "      <td>0.0702</td>\n",
       "      <td>0.0703</td>\n",
       "      <td>0.0694</td>\n",
       "      <td>0.0698</td>\n",
       "      <td>40611931.0000</td>\n",
       "    </tr>\n",
       "    <tr>\n",
       "      <th>2023-01-01</th>\n",
       "      <td>XRP/USDT</td>\n",
       "      <td>0.3389</td>\n",
       "      <td>0.3390</td>\n",
       "      <td>0.3377</td>\n",
       "      <td>0.3385</td>\n",
       "      <td>11231966.0000</td>\n",
       "    </tr>\n",
       "  </tbody>\n",
       "</table>\n",
       "</div>"
      ],
      "text/plain": [
       "               symbol       open       high        low      close  \\\n",
       "timestamp                                                           \n",
       "2023-01-01   BTC/USDT 16541.7700 16545.7000 16508.3900 16529.6700   \n",
       "2023-01-01   SOL/USDT     9.9700    10.0200     9.9300     9.9900   \n",
       "2023-01-01   ETH/USDT  1196.1300  1196.7000  1192.7200  1194.0900   \n",
       "2023-01-01  DOGE/USDT     0.0702     0.0703     0.0694     0.0698   \n",
       "2023-01-01   XRP/USDT     0.3389     0.3390     0.3377     0.3385   \n",
       "\n",
       "                  volume  \n",
       "timestamp                 \n",
       "2023-01-01     4364.8357  \n",
       "2023-01-01   126479.6700  \n",
       "2023-01-01     5889.3840  \n",
       "2023-01-01 40611931.0000  \n",
       "2023-01-01 11231966.0000  "
      ]
     },
     "execution_count": 4,
     "metadata": {},
     "output_type": "execute_result"
    }
   ],
   "source": [
    "df.head(5)"
   ]
  },
  {
   "cell_type": "code",
   "execution_count": 5,
   "metadata": {},
   "outputs": [],
   "source": [
    "df.to_csv('data/ohlcv.csv.gz', compression='gzip')"
   ]
  }
 ],
 "metadata": {
  "kernelspec": {
   "display_name": "Python 3 (ipykernel)",
   "language": "python",
   "name": "python3"
  },
  "language_info": {
   "codemirror_mode": {
    "name": "ipython",
    "version": 3
   },
   "file_extension": ".py",
   "mimetype": "text/x-python",
   "name": "python",
   "nbconvert_exporter": "python",
   "pygments_lexer": "ipython3",
   "version": "3.11.0rc1"
  }
 },
 "nbformat": 4,
 "nbformat_minor": 4
}
