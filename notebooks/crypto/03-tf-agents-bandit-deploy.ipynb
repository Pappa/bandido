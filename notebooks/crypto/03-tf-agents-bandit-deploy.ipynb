{
 "cells": [
  {
   "cell_type": "markdown",
   "id": "2f7772b3",
   "metadata": {},
   "source": [
    "## Explore training data\n",
    "\n",
    "<a target=\"_blank\" href=\"https://colab.research.google.com/github/Pappa/bandido/blob/main/notebooks/crypto/03-tf-agents-bandit-deploy.ipynb\">\n",
    "  <img src=\"https://colab.research.google.com/assets/colab-badge.svg\" alt=\"Open In Colab\"/>\n",
    "</a>"
   ]
  },
  {
   "cell_type": "code",
   "execution_count": null,
   "id": "04b4d3c0",
   "metadata": {},
   "outputs": [],
   "source": [
    "try:\n",
    "  import tf_agents\n",
    "except ImportError:\n",
    "  %pip install tf-agents\n",
    "  %pip install tf-keras"
   ]
  },
  {
   "cell_type": "code",
   "execution_count": null,
   "id": "5524cf5f",
   "metadata": {},
   "outputs": [],
   "source": [
    "import os\n",
    "os.environ['TF_USE_LEGACY_KERAS'] = '1'\n",
    "\n",
    "import tensorflow as tf\n",
    "import time\n",
    "import pandas as pd\n",
    "from IPython.display import display\n",
    "from trading_utils import preprocess_data, SYMBOLS\n",
    "from trading_env import CryptoTradingEnvironment\n",
    "\n",
    "# Data and Model Paths\n",
    "DATA_FILEPATH = 'data/ohlcv.csv.gz'\n",
    "POLICY_SAVE_PATH = 'policy'\n",
    "\n",
    "# Model Hyperparameters\n",
    "CONTEXT_LENGTH = 10\n",
    "NUM_TRAINING_STEPS = 1000  # Increased for more meaningful training\n",
    "ALPHA = 1.0 # LinUCB exploration parameter\n",
    "\n",
    "# --- Main Deployment Logic ---\n",
    "print(\"--- Starting Bandit Deployment Simulation ---\")\n",
    "\n",
    "# 1. Load the trained policy\n",
    "print(f\"Loading trained policy from {POLICY_SAVE_PATH}...\")\n",
    "loaded_policy = tf.saved_model.load(POLICY_SAVE_PATH)\n",
    "\n",
    "# 2. Load data and create a hold-out set for \"live\" simulation\n",
    "df = pd.read_csv(DATA_FILEPATH, compression='gzip', parse_dates=['timestamp']).set_index('timestamp')\n",
    "all_data = preprocess_data(df)\n",
    "live_data_stream = all_data.iloc[NUM_TRAINING_STEPS:]\n",
    "\n",
    "# 3. Instantiate the *actual* environment with the live data\n",
    "# This handles all state, buffering, and observation logic for us.\n",
    "live_env = CryptoTradingEnvironment(data=live_data_stream, symbols=SYMBOLS, context_len=CONTEXT_LENGTH)\n",
    "\n",
    "# 4. Define helper for action names\n",
    "def get_action_name(action):\n",
    "    crypto_index = action // 2\n",
    "    action_type = \"BUY\" if action % 2 == 0 else \"SELL\"\n",
    "    return f\"{SYMBOLS[crypto_index]}\"\n",
    "\n",
    "# 5. Run the live simulation loop\n",
    "print(f\"\\n--- Starting Live Inference Simulation ({len(live_data_stream) - CONTEXT_LENGTH - 5} steps) ---\")\n",
    "\n",
    "time_step = live_env.reset()\n",
    "steps = 0\n",
    "while not time_step.is_last():\n",
    "    # Get an action from the loaded policy\n",
    "    action_step = loaded_policy.action(time_step)\n",
    "    action = action_step.action.numpy()[0]\n",
    "    \n",
    "    # In a real bot, you would execute the trade here\n",
    "    print(f\"Step {steps+1}: Policy chose action: {get_action_name(action)}\")\n",
    "    \n",
    "    # Step the environment to get the next state\n",
    "    time_step = live_env.step(action)\n",
    "    steps += 1\n",
    "    \n",
    "    # time.sleep(0.1) # Simulate waiting for the next data candle\n",
    "\n",
    "print(\"\\nLive simulation finished.\")"
   ]
  }
 ],
 "metadata": {
  "kernelspec": {
   "display_name": "Python 3 (ipykernel)",
   "language": "python",
   "name": "python3"
  },
  "language_info": {
   "codemirror_mode": {
    "name": "ipython",
    "version": 3
   },
   "file_extension": ".py",
   "mimetype": "text/x-python",
   "name": "python",
   "nbconvert_exporter": "python",
   "pygments_lexer": "ipython3",
   "version": "3.11.0rc1"
  }
 },
 "nbformat": 4,
 "nbformat_minor": 5
}
