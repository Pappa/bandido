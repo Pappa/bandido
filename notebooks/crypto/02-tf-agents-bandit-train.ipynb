{
 "cells": [
  {
   "cell_type": "code",
   "execution_count": 1,
   "metadata": {},
   "outputs": [
    {
     "name": "stderr",
     "output_type": "stream",
     "text": [
      "2025-07-16 18:51:18.434459: I tensorflow/core/util/port.cc:113] oneDNN custom operations are on. You may see slightly different numerical results due to floating-point round-off errors from different computation orders. To turn them off, set the environment variable `TF_ENABLE_ONEDNN_OPTS=0`.\n",
      "2025-07-16 18:51:18.461072: E external/local_xla/xla/stream_executor/cuda/cuda_dnn.cc:9261] Unable to register cuDNN factory: Attempting to register factory for plugin cuDNN when one has already been registered\n",
      "2025-07-16 18:51:18.461091: E external/local_xla/xla/stream_executor/cuda/cuda_fft.cc:607] Unable to register cuFFT factory: Attempting to register factory for plugin cuFFT when one has already been registered\n",
      "2025-07-16 18:51:18.461820: E external/local_xla/xla/stream_executor/cuda/cuda_blas.cc:1515] Unable to register cuBLAS factory: Attempting to register factory for plugin cuBLAS when one has already been registered\n",
      "2025-07-16 18:51:18.466240: I tensorflow/core/platform/cpu_feature_guard.cc:182] This TensorFlow binary is optimized to use available CPU instructions in performance-critical operations.\n",
      "To enable the following instructions: AVX2 AVX512F AVX512_VNNI FMA, in other operations, rebuild TensorFlow with the appropriate compiler flags.\n"
     ]
    },
    {
     "name": "stdout",
     "output_type": "stream",
     "text": [
      "Converting data to wide format for observations and prices...\n",
      "Wide format conversion complete.\n"
     ]
    },
    {
     "name": "stderr",
     "output_type": "stream",
     "text": [
      "2025-07-16 18:51:20.108549: I external/local_xla/xla/stream_executor/cuda/cuda_executor.cc:901] successful NUMA node read from SysFS had negative value (-1), but there must be at least one NUMA node, so returning NUMA node zero. See more at https://github.com/torvalds/linux/blob/v6.0/Documentation/ABI/testing/sysfs-bus-pci#L344-L355\n",
      "2025-07-16 18:51:20.114047: I external/local_xla/xla/stream_executor/cuda/cuda_executor.cc:901] successful NUMA node read from SysFS had negative value (-1), but there must be at least one NUMA node, so returning NUMA node zero. See more at https://github.com/torvalds/linux/blob/v6.0/Documentation/ABI/testing/sysfs-bus-pci#L344-L355\n",
      "2025-07-16 18:51:20.115579: I external/local_xla/xla/stream_executor/cuda/cuda_executor.cc:901] successful NUMA node read from SysFS had negative value (-1), but there must be at least one NUMA node, so returning NUMA node zero. See more at https://github.com/torvalds/linux/blob/v6.0/Documentation/ABI/testing/sysfs-bus-pci#L344-L355\n",
      "2025-07-16 18:51:20.118036: I external/local_xla/xla/stream_executor/cuda/cuda_executor.cc:901] successful NUMA node read from SysFS had negative value (-1), but there must be at least one NUMA node, so returning NUMA node zero. See more at https://github.com/torvalds/linux/blob/v6.0/Documentation/ABI/testing/sysfs-bus-pci#L344-L355\n",
      "2025-07-16 18:51:20.119231: I external/local_xla/xla/stream_executor/cuda/cuda_executor.cc:901] successful NUMA node read from SysFS had negative value (-1), but there must be at least one NUMA node, so returning NUMA node zero. See more at https://github.com/torvalds/linux/blob/v6.0/Documentation/ABI/testing/sysfs-bus-pci#L344-L355\n",
      "2025-07-16 18:51:20.120542: I external/local_xla/xla/stream_executor/cuda/cuda_executor.cc:901] successful NUMA node read from SysFS had negative value (-1), but there must be at least one NUMA node, so returning NUMA node zero. See more at https://github.com/torvalds/linux/blob/v6.0/Documentation/ABI/testing/sysfs-bus-pci#L344-L355\n",
      "2025-07-16 18:51:20.220863: I external/local_xla/xla/stream_executor/cuda/cuda_executor.cc:901] successful NUMA node read from SysFS had negative value (-1), but there must be at least one NUMA node, so returning NUMA node zero. See more at https://github.com/torvalds/linux/blob/v6.0/Documentation/ABI/testing/sysfs-bus-pci#L344-L355\n",
      "2025-07-16 18:51:20.222276: I external/local_xla/xla/stream_executor/cuda/cuda_executor.cc:901] successful NUMA node read from SysFS had negative value (-1), but there must be at least one NUMA node, so returning NUMA node zero. See more at https://github.com/torvalds/linux/blob/v6.0/Documentation/ABI/testing/sysfs-bus-pci#L344-L355\n",
      "2025-07-16 18:51:20.223388: I external/local_xla/xla/stream_executor/cuda/cuda_executor.cc:901] successful NUMA node read from SysFS had negative value (-1), but there must be at least one NUMA node, so returning NUMA node zero. See more at https://github.com/torvalds/linux/blob/v6.0/Documentation/ABI/testing/sysfs-bus-pci#L344-L355\n",
      "2025-07-16 18:51:20.224532: I tensorflow/core/common_runtime/gpu/gpu_device.cc:1929] Created device /job:localhost/replica:0/task:0/device:GPU:0 with 5725 MB memory:  -> device: 0, name: NVIDIA GeForce RTX 3080 Laptop GPU, pci bus id: 0000:01:00.0, compute capability: 8.6\n"
     ]
    },
    {
     "name": "stdout",
     "output_type": "stream",
     "text": [
      "\n",
      "Starting training for 9985 steps...\n",
      "9950/9985 Reward: 0.00051400001393631161\n",
      "Training finished.\n",
      "\n",
      "Saving the trained policy to: policy\n"
     ]
    },
    {
     "name": "stderr",
     "output_type": "stream",
     "text": [
      "WARNING:absl:`0/step_type` is not a valid tf.function parameter name. Sanitizing to `arg_0_step_type`.\n",
      "WARNING:absl:`0/reward` is not a valid tf.function parameter name. Sanitizing to `arg_0_reward`.\n",
      "WARNING:absl:`0/discount` is not a valid tf.function parameter name. Sanitizing to `arg_0_discount`.\n",
      "WARNING:absl:`0/observation` is not a valid tf.function parameter name. Sanitizing to `arg_0_observation`.\n",
      "WARNING:absl:`0/step_type` is not a valid tf.function parameter name. Sanitizing to `arg_0_step_type`.\n"
     ]
    },
    {
     "name": "stdout",
     "output_type": "stream",
     "text": [
      "INFO:tensorflow:Assets written to: policy/assets\n"
     ]
    },
    {
     "name": "stderr",
     "output_type": "stream",
     "text": [
      "/usr/local/lib/python3.11/dist-packages/tensorflow/python/saved_model/nested_structure_coder.py:458: UserWarning: Encoding a StructuredValue with type tfp.distributions.Deterministic_ACTTypeSpec; loading this StructuredValue will require that this type be imported and registered.\n",
      "  warnings.warn(\"Encoding a StructuredValue with type %s; loading this \"\n",
      "INFO:tensorflow:Assets written to: policy/assets\n"
     ]
    },
    {
     "name": "stdout",
     "output_type": "stream",
     "text": [
      "Policy saved successfully.\n",
      "\n",
      "Cumulative Regret vs. Perfect Foresight Oracle: 0.0152\n"
     ]
    }
   ],
   "source": [
    "import os\n",
    "# Keep using keras-2 (tf-keras) rather than keras-3 (keras).\n",
    "os.environ['TF_USE_LEGACY_KERAS'] = '1'\n",
    "\n",
    "import numpy as np\n",
    "import pandas as pd\n",
    "import tensorflow as tf\n",
    "import matplotlib.pyplot as plt\n",
    "from IPython.display import display\n",
    "\n",
    "from tf_agents.bandits.agents import lin_ucb_agent\n",
    "from tf_agents.drivers import dynamic_step_driver\n",
    "from tf_agents.environments import tf_py_environment\n",
    "from tf_agents.bandits.metrics import tf_metrics as tf_bandit_metrics\n",
    "from tf_agents.policies import policy_saver\n",
    "from utils import preprocess_data, create_wide_format_data, SYMBOLS\n",
    "from environment import CryptoTradingEnvironment\n",
    "\n",
    "\n",
    "# Data and Model Paths\n",
    "DATA_FILEPATH = 'data/ohlcv.csv.gz'\n",
    "POLICY_SAVE_PATH = 'policy'\n",
    "\n",
    "# Model Hyperparameters\n",
    "CONTEXT_LENGTH = 10\n",
    "NUM_TRAINING_STEPS = 10000  # Increased for more meaningful training\n",
    "ALPHA = 1.0 # LinUCB exploration parameter\n",
    "\n",
    "# 1. Load Data\n",
    "df = pd.read_csv(DATA_FILEPATH, compression='gzip', parse_dates=['timestamp']) #.set_index('timestamp')\n",
    "all_data = preprocess_data(df)\n",
    "observation_df, prices_df = create_wide_format_data(\n",
    "    all_data, \n",
    "    symbols=SYMBOLS, \n",
    "    features=['rsi']\n",
    ")\n",
    "\n",
    "# 2. Setup Environment\n",
    "crypto_env = CryptoTradingEnvironment(\n",
    "    observation_df=observation_df,\n",
    "    prices_df=prices_df,\n",
    "    symbols=SYMBOLS\n",
    ")\n",
    "\n",
    "tf_env = tf_py_environment.TFPyEnvironment(crypto_env)\n",
    "\n",
    "# 3. Setup Agent\n",
    "agent = lin_ucb_agent.LinearUCBAgent(\n",
    "    time_step_spec=tf_env.time_step_spec(),\n",
    "    action_spec=tf_env.action_spec(),\n",
    "    alpha=ALPHA,\n",
    "    dtype=tf.float32\n",
    ")\n",
    "\n",
    "# 4. Setup Metrics and Oracle\n",
    "def optimal_reward_oracle(observation: np.ndarray) -> np.float32:\n",
    "    \"\"\"\n",
    "    Calculates the best possible reward for the current step by looking ahead.\n",
    "    This \"perfect foresight\" oracle is used for calculating regret.\n",
    "\n",
    "    NOTE: The 'observation' argument is unused but required by the metric's API.\n",
    "    \"\"\"\n",
    "    \n",
    "    # 2. Get the current step index from the environment's state.\n",
    "    current_step = crypto_env.current_step\n",
    "    price_data = crypto_env.price_data\n",
    "    \n",
    "    # 3. Handle the edge case where we are at the end of the data.\n",
    "    # We can't look one step into the future.\n",
    "    if current_step >= len(price_data) - 1:\n",
    "        return 0.0\n",
    "\n",
    "    # 4. Calculate the reward for every possible action to find the maximum.\n",
    "    all_possible_rewards = []\n",
    "    num_actions = crypto_env.action_spec().maximum + 1\n",
    "    \n",
    "    for action in range(num_actions):\n",
    "        # Decode the action into a symbol and a trade type\n",
    "        crypto_index = action // 3\n",
    "        trade_type_idx = action % 3  # 0: BUY, 1: HOLD, 2: SELL\n",
    "        \n",
    "        # The reward for a HOLD action is always 0.\n",
    "        if trade_type_idx == 1:\n",
    "            all_possible_rewards.append(0.0)\n",
    "            continue\n",
    "            \n",
    "        symbol_to_trade = crypto_env.symbols[crypto_index]\n",
    "        \n",
    "        current_price = price_data.iloc[current_step][symbol_to_trade]\n",
    "        next_price = price_data.iloc[current_step + 1][symbol_to_trade]\n",
    "        \n",
    "        # Calculate the reward for this specific BUY or SELL action\n",
    "        if trade_type_idx == 0:  # BUY\n",
    "            reward = (next_price - current_price) / current_price\n",
    "        else:  # SELL (trade_type_idx == 2)\n",
    "            reward = (current_price - next_price) / current_price\n",
    "        \n",
    "        all_possible_rewards.append(reward)\n",
    "        \n",
    "    # 5. Return the maximum possible reward from all actions.\n",
    "    return np.max(all_possible_rewards).astype(np.float32)\n",
    "\n",
    "regret_metric = tf_bandit_metrics.RegretMetric(optimal_reward_oracle)\n",
    "\n",
    "class ShowProgress:\n",
    "    def __init__(self, total, interval=50):\n",
    "        self.counter = 0\n",
    "        self.total = total\n",
    "        self.interval = interval\n",
    "    def __call__(self, trajectory):\n",
    "        if not trajectory.is_boundary():\n",
    "            self.counter += 1\n",
    "        if self.counter % self.interval == 0:\n",
    "            print(\"\\r{}/{} Reward: {}\".format(self.counter, self.total, np.round(trajectory.reward.numpy()[0], 6)), end=\"\")\n",
    "\n",
    "class RewardCollector():\n",
    "    def __init__(self):\n",
    "        self._rewards = []\n",
    "    def __call__(self, trajectory):\n",
    "        self._rewards.append(trajectory.reward[0])\n",
    "    @property\n",
    "    def rewards(self):\n",
    "        return np.array(self._rewards)\n",
    "\n",
    "# 5. Setup Driver\n",
    "def train_step(trajectory):\n",
    "    if not trajectory.is_last():\n",
    "        time_axised_trajectory = tf.nest.map_structure(lambda t: tf.expand_dims(t, 1), trajectory)\n",
    "        agent.train(time_axised_trajectory)\n",
    "        \n",
    "num_steps = NUM_TRAINING_STEPS - CONTEXT_LENGTH - 5\n",
    "\n",
    "reward_collector = RewardCollector()\n",
    "\n",
    "driver = dynamic_step_driver.DynamicStepDriver(\n",
    "    env=tf_env,\n",
    "    policy=agent.policy,\n",
    "    num_steps=num_steps,\n",
    "    observers=[train_step, regret_metric, ShowProgress(num_steps), reward_collector]\n",
    ")\n",
    "\n",
    "# 6. Run Training\n",
    "print(f\"\\nStarting training for {driver._num_steps} steps...\")\n",
    "driver.run()\n",
    "print(\"\\nTraining finished.\")\n",
    "\n",
    "# 7. Save Policy\n",
    "print(f\"\\nSaving the trained policy to: {POLICY_SAVE_PATH}\")\n",
    "saver = policy_saver.PolicySaver(agent.policy)\n",
    "saver.save(POLICY_SAVE_PATH)\n",
    "print(\"Policy saved successfully.\")\n",
    "\n",
    "# 8. Report Results\n",
    "cumulative_regret = regret_metric.result().numpy()\n",
    "print(f\"\\nCumulative Regret vs. Perfect Foresight Oracle: {cumulative_regret:.4f}\")"
   ]
  },
  {
   "cell_type": "code",
   "execution_count": 2,
   "metadata": {},
   "outputs": [
    {
     "data": {
      "text/plain": [
       "Text(0.5, 0, 'Number of Iterations')"
      ]
     },
     "execution_count": 2,
     "metadata": {},
     "output_type": "execute_result"
    },
    {
     "data": {
      "image/png": "[encoded data removed]",
      "text/plain": [
       "<Figure size 640x480 with 1 Axes>"
      ]
     },
     "metadata": {},
     "output_type": "display_data"
    }
   ],
   "source": [
    "import matplotlib.pyplot as plt\n",
    "\n",
    "rewards = reward_collector.rewards\n",
    "average_reward = rewards.mean()\n",
    "\n",
    "plt.axhline(y=average_reward, color='r', linestyle='-')\n",
    "plt.plot(rewards)\n",
    "plt.ylabel('Rewards')\n",
    "plt.xlabel('Number of Iterations')"
   ]
  }
 ],
 "metadata": {
  "kernelspec": {
   "display_name": "Python 3 (ipykernel)",
   "language": "python",
   "name": "python3"
  },
  "language_info": {
   "codemirror_mode": {
    "name": "ipython",
    "version": 3
   },
   "file_extension": ".py",
   "mimetype": "text/x-python",
   "name": "python",
   "nbconvert_exporter": "python",
   "pygments_lexer": "ipython3",
   "version": "3.11.0rc1"
  }
 },
 "nbformat": 4,
 "nbformat_minor": 4
}
