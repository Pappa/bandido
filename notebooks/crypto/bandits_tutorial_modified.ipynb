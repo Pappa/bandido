{
 "cells": [
  {
   "cell_type": "markdown",
   "metadata": {
    "id": "HqslkUeyEJFg"
   },
   "source": [
    "# Tutorial on Multi Armed Bandits in TF-Agents"
   ]
  },
  {
   "cell_type": "code",
   "execution_count": 1,
   "metadata": {
    "id": "WPuD0bMEY9Iz"
   },
   "outputs": [],
   "source": [
    "import os\n",
    "# Keep using keras-2 (tf-keras) rather than keras-3 (keras).\n",
    "os.environ['TF_USE_LEGACY_KERAS'] = '1'"
   ]
  },
  {
   "cell_type": "code",
   "execution_count": 2,
   "metadata": {},
   "outputs": [
    {
     "name": "stderr",
     "output_type": "stream",
     "text": [
      "2025-07-13 11:08:23.757552: I tensorflow/core/util/port.cc:113] oneDNN custom operations are on. You may see slightly different numerical results due to floating-point round-off errors from different computation orders. To turn them off, set the environment variable `TF_ENABLE_ONEDNN_OPTS=0`.\n",
      "2025-07-13 11:08:23.783790: E external/local_xla/xla/stream_executor/cuda/cuda_dnn.cc:9261] Unable to register cuDNN factory: Attempting to register factory for plugin cuDNN when one has already been registered\n",
      "2025-07-13 11:08:23.783808: E external/local_xla/xla/stream_executor/cuda/cuda_fft.cc:607] Unable to register cuFFT factory: Attempting to register factory for plugin cuFFT when one has already been registered\n",
      "2025-07-13 11:08:23.784537: E external/local_xla/xla/stream_executor/cuda/cuda_blas.cc:1515] Unable to register cuBLAS factory: Attempting to register factory for plugin cuBLAS when one has already been registered\n",
      "2025-07-13 11:08:23.789223: I tensorflow/core/platform/cpu_feature_guard.cc:182] This TensorFlow binary is optimized to use available CPU instructions in performance-critical operations.\n",
      "To enable the following instructions: AVX2 AVX512F AVX512_VNNI FMA, in other operations, rebuild TensorFlow with the appropriate compiler flags.\n"
     ]
    },
    {
     "name": "stdout",
     "output_type": "stream",
     "text": [
      "gpus: [PhysicalDevice(name='/physical_device:GPU:0', device_type='GPU')]\n"
     ]
    },
    {
     "name": "stderr",
     "output_type": "stream",
     "text": [
      "2025-07-13 11:08:24.780823: I external/local_xla/xla/stream_executor/cuda/cuda_executor.cc:901] successful NUMA node read from SysFS had negative value (-1), but there must be at least one NUMA node, so returning NUMA node zero. See more at https://github.com/torvalds/linux/blob/v6.0/Documentation/ABI/testing/sysfs-bus-pci#L344-L355\n",
      "2025-07-13 11:08:24.787683: I external/local_xla/xla/stream_executor/cuda/cuda_executor.cc:901] successful NUMA node read from SysFS had negative value (-1), but there must be at least one NUMA node, so returning NUMA node zero. See more at https://github.com/torvalds/linux/blob/v6.0/Documentation/ABI/testing/sysfs-bus-pci#L344-L355\n",
      "2025-07-13 11:08:24.790880: I external/local_xla/xla/stream_executor/cuda/cuda_executor.cc:901] successful NUMA node read from SysFS had negative value (-1), but there must be at least one NUMA node, so returning NUMA node zero. See more at https://github.com/torvalds/linux/blob/v6.0/Documentation/ABI/testing/sysfs-bus-pci#L344-L355\n"
     ]
    },
    {
     "data": {
      "text/plain": [
       "True"
      ]
     },
     "execution_count": 2,
     "metadata": {},
     "output_type": "execute_result"
    }
   ],
   "source": [
    "import tensorflow as tf\n",
    "\n",
    "gpus = tf.config.list_physical_devices('GPU')\n",
    "print(f\"gpus: {gpus}\")\n",
    "\n",
    "tf.test.is_built_with_cuda()"
   ]
  },
  {
   "cell_type": "code",
   "execution_count": 3,
   "metadata": {
    "id": "3oCS94Z83Jo2"
   },
   "outputs": [],
   "source": [
    "import abc\n",
    "import numpy as np\n",
    "import tensorflow as tf\n",
    "\n",
    "from tf_agents.agents import tf_agent\n",
    "from tf_agents.drivers import driver\n",
    "from tf_agents.environments import py_environment\n",
    "from tf_agents.environments import tf_environment\n",
    "from tf_agents.environments import tf_py_environment\n",
    "from tf_agents.policies import tf_policy\n",
    "from tf_agents.specs import array_spec\n",
    "from tf_agents.specs import tensor_spec\n",
    "from tf_agents.trajectories import time_step as ts\n",
    "from tf_agents.trajectories import trajectory\n",
    "from tf_agents.trajectories import policy_step\n",
    "\n",
    "nest = tf.nest"
   ]
  },
  {
   "cell_type": "markdown",
   "metadata": {
    "id": "RCKyKEjOlOPE"
   },
   "source": [
    "# A Real Contextual Bandit Example"
   ]
  },
  {
   "cell_type": "code",
   "execution_count": 4,
   "metadata": {
    "id": "oEnXUwd-nZKl"
   },
   "outputs": [],
   "source": [
    "# Imports for example.\n",
    "from tf_agents.bandits.agents import lin_ucb_agent\n",
    "from tf_agents.bandits.environments import stationary_stochastic_py_environment as sspe\n",
    "from tf_agents.bandits.metrics import tf_metrics\n",
    "from tf_agents.drivers import dynamic_step_driver\n",
    "from tf_agents.replay_buffers import tf_uniform_replay_buffer\n",
    "\n",
    "import matplotlib.pyplot as plt"
   ]
  },
  {
   "cell_type": "markdown",
   "metadata": {
    "id": "37oy70dUmmie"
   },
   "source": [
    "## Stationary Stochastic Environment with Linear Payoff Functions"
   ]
  },
  {
   "cell_type": "markdown",
   "metadata": {
    "id": "euPPd8x1m7iG"
   },
   "source": [
    "The environment used in this example is the [StationaryStochasticPyEnvironment](https://github.com/tensorflow/agents/blob/master/tf_agents/bandits/environments/stationary_stochastic_py_environment.py). This environment takes as parameter a (usually noisy) function for giving observations (context), and for every arm takes an (also noisy) function that computes the reward based on the given observation. In our example, we sample the context uniformly from a d-dimensional cube, and the reward functions are linear functions of the context, plus some Gaussian noise."
   ]
  },
  {
   "cell_type": "code",
   "execution_count": 5,
   "metadata": {
    "id": "gVa0hmQrpe6w"
   },
   "outputs": [],
   "source": [
    "batch_size = 2 # @param\n",
    "arm0_param = [-3, 0, 1, -2] # @param\n",
    "arm1_param = [1, -2, 3, 0] # @param\n",
    "arm2_param = [0, 0, 1, 1] # @param\n",
    "def context_sampling_fn(batch_size):\n",
    "  \"\"\"Contexts from [-10, 10]^4.\"\"\"\n",
    "  def _context_sampling_fn():\n",
    "    return np.random.randint(-10, 10, [batch_size, 4]).astype(np.float32)\n",
    "  return _context_sampling_fn\n",
    "\n",
    "class LinearNormalReward(object):\n",
    "  \"\"\"A class that acts as linear reward function when called.\"\"\"\n",
    "  def __init__(self, theta, sigma):\n",
    "    self.theta = theta\n",
    "    self.sigma = sigma\n",
    "  def __call__(self, x):\n",
    "    mu = np.dot(x, self.theta)\n",
    "    return np.random.normal(mu, self.sigma)\n",
    "\n",
    "arm0_reward_fn = LinearNormalReward(arm0_param, 1)\n",
    "arm1_reward_fn = LinearNormalReward(arm1_param, 1)\n",
    "arm2_reward_fn = LinearNormalReward(arm2_param, 1)\n",
    "\n",
    "environment = tf_py_environment.TFPyEnvironment(\n",
    "    sspe.StationaryStochasticPyEnvironment(\n",
    "        context_sampling_fn(batch_size),\n",
    "        [arm0_reward_fn, arm1_reward_fn, arm2_reward_fn],\n",
    "        batch_size=batch_size))\n"
   ]
  },
  {
   "cell_type": "markdown",
   "metadata": {
    "id": "haID-SPgsLyY"
   },
   "source": [
    "## The LinUCB Agent"
   ]
  },
  {
   "cell_type": "markdown",
   "metadata": {
    "id": "298-1Q0bsQmR"
   },
   "source": [
    "The agent below implements the [LinUCB](http://rob.schapire.net/papers/www10.pdf) algorithm."
   ]
  },
  {
   "cell_type": "code",
   "execution_count": 6,
   "metadata": {
    "id": "p4XmGgIusj-K"
   },
   "outputs": [
    {
     "name": "stderr",
     "output_type": "stream",
     "text": [
      "2025-07-13 11:08:25.339740: I external/local_xla/xla/stream_executor/cuda/cuda_executor.cc:901] successful NUMA node read from SysFS had negative value (-1), but there must be at least one NUMA node, so returning NUMA node zero. See more at https://github.com/torvalds/linux/blob/v6.0/Documentation/ABI/testing/sysfs-bus-pci#L344-L355\n",
      "2025-07-13 11:08:25.348401: I external/local_xla/xla/stream_executor/cuda/cuda_executor.cc:901] successful NUMA node read from SysFS had negative value (-1), but there must be at least one NUMA node, so returning NUMA node zero. See more at https://github.com/torvalds/linux/blob/v6.0/Documentation/ABI/testing/sysfs-bus-pci#L344-L355\n",
      "2025-07-13 11:08:25.355386: I external/local_xla/xla/stream_executor/cuda/cuda_executor.cc:901] successful NUMA node read from SysFS had negative value (-1), but there must be at least one NUMA node, so returning NUMA node zero. See more at https://github.com/torvalds/linux/blob/v6.0/Documentation/ABI/testing/sysfs-bus-pci#L344-L355\n",
      "2025-07-13 11:08:25.454031: I external/local_xla/xla/stream_executor/cuda/cuda_executor.cc:901] successful NUMA node read from SysFS had negative value (-1), but there must be at least one NUMA node, so returning NUMA node zero. See more at https://github.com/torvalds/linux/blob/v6.0/Documentation/ABI/testing/sysfs-bus-pci#L344-L355\n",
      "2025-07-13 11:08:25.455352: I external/local_xla/xla/stream_executor/cuda/cuda_executor.cc:901] successful NUMA node read from SysFS had negative value (-1), but there must be at least one NUMA node, so returning NUMA node zero. See more at https://github.com/torvalds/linux/blob/v6.0/Documentation/ABI/testing/sysfs-bus-pci#L344-L355\n",
      "2025-07-13 11:08:25.456475: I external/local_xla/xla/stream_executor/cuda/cuda_executor.cc:901] successful NUMA node read from SysFS had negative value (-1), but there must be at least one NUMA node, so returning NUMA node zero. See more at https://github.com/torvalds/linux/blob/v6.0/Documentation/ABI/testing/sysfs-bus-pci#L344-L355\n",
      "2025-07-13 11:08:25.457602: I tensorflow/core/common_runtime/gpu/gpu_device.cc:1929] Created device /job:localhost/replica:0/task:0/device:GPU:0 with 1096 MB memory:  -> device: 0, name: NVIDIA GeForce RTX 3080 Laptop GPU, pci bus id: 0000:01:00.0, compute capability: 8.6\n"
     ]
    }
   ],
   "source": [
    "observation_spec = tensor_spec.TensorSpec([4], tf.float32)\n",
    "time_step_spec = ts.time_step_spec(observation_spec)\n",
    "action_spec = tensor_spec.BoundedTensorSpec(\n",
    "    dtype=tf.int32, shape=(), minimum=0, maximum=2)\n",
    "\n",
    "agent = lin_ucb_agent.LinearUCBAgent(time_step_spec=time_step_spec,\n",
    "                                     action_spec=action_spec)"
   ]
  },
  {
   "cell_type": "markdown",
   "metadata": {
    "id": "Eua_aC7Rt78G"
   },
   "source": [
    "## Regret Metric"
   ]
  },
  {
   "cell_type": "markdown",
   "metadata": {
    "id": "FBJDiJvEt-xC"
   },
   "source": [
    "Bandits' most important metric is *regret*, calculated as the difference between the reward collected by the agent and the expected reward of an oracle policy that has access to the reward functions of the environment. The [RegretMetric](https://github.com/tensorflow/agents/blob/master/tf_agents/bandits/metrics/tf_metrics.py) thus needs a *baseline_reward_fn* function that calculates the best achievable expected reward given an observation. For our example, we need to take the maximum of the no-noise equivalents of the reward functions that we already defined for the environment."
   ]
  },
  {
   "cell_type": "code",
   "execution_count": 7,
   "metadata": {
    "id": "cX7MiFhNu3_L"
   },
   "outputs": [],
   "source": [
    "def compute_optimal_reward(observation):\n",
    "  print(f\"observation: {type(observation)}\")\n",
    "  expected_reward_for_arms = [\n",
    "      tf.linalg.matvec(observation, tf.cast(arm0_param, dtype=tf.float32)),\n",
    "      tf.linalg.matvec(observation, tf.cast(arm1_param, dtype=tf.float32)),\n",
    "      tf.linalg.matvec(observation, tf.cast(arm2_param, dtype=tf.float32))]\n",
    "  optimal_action_reward = tf.reduce_max(expected_reward_for_arms, axis=0)\n",
    "  print(f\"optimal_action_reward: {optimal_action_reward}\")\n",
    "  return optimal_action_reward\n",
    "\n",
    "regret_metric = tf_metrics.RegretMetric(compute_optimal_reward)"
   ]
  },
  {
   "cell_type": "markdown",
   "metadata": {
    "id": "YRWz-Qeb13JC"
   },
   "source": [
    "## Training"
   ]
  },
  {
   "cell_type": "markdown",
   "metadata": {
    "id": "khdKjTs516Pg"
   },
   "source": [
    "Now we put together all the components that we introduced above: the environment, the policy, and the agent. We run the policy on the environment and output training data with the help of a *driver*, and train the agent on the data.\n",
    "\n",
    "Note that there are two parameters that together specify the number of steps taken. `num_iterations` specifies how many times we run the trainer loop, while the driver will take `steps_per_loop` steps per iteration. The main reason behind keeping both of these parameters is that some operations are done per iteration, while some are done by the driver in every step. For example, the agent's `train` function is only called once per iteration. The trade-off here is that if we train more often then our policy is \"fresher\", on the other hand, training in bigger batches might be more time efficient."
   ]
  },
  {
   "cell_type": "code",
   "execution_count": 8,
   "metadata": {
    "id": "4Ggn45g62DWx"
   },
   "outputs": [
    {
     "name": "stdout",
     "output_type": "stream",
     "text": [
      "observation: <class 'tensorflow.python.framework.ops.SymbolicTensor'>\n",
      "optimal_action_reward: Tensor(\"Max:0\", shape=(2,), dtype=float32)\n",
      "WARNING:tensorflow:From /tmp/ipykernel_6913/3138849230.py:21: ReplayBuffer.gather_all (from tf_agents.replay_buffers.replay_buffer) is deprecated and will be removed in a future version.\n",
      "Instructions for updating:\n",
      "Use `as_dataset(..., single_deterministic_pass=True)` instead.\n"
     ]
    },
    {
     "data": {
      "text/plain": [
       "Text(0.5, 0, 'Number of Iterations')"
      ]
     },
     "execution_count": 8,
     "metadata": {},
     "output_type": "execute_result"
    },
    {
     "data": {
      "image/png": "[encoded data removed]",
      "text/plain": [
       "<Figure size 640x480 with 1 Axes>"
      ]
     },
     "metadata": {},
     "output_type": "display_data"
    }
   ],
   "source": [
    "num_iterations = 90 # @param\n",
    "steps_per_loop = 1 # @param\n",
    "\n",
    "replay_buffer = tf_uniform_replay_buffer.TFUniformReplayBuffer(\n",
    "    data_spec=agent.policy.trajectory_spec,\n",
    "    batch_size=batch_size,\n",
    "    max_length=steps_per_loop)\n",
    "\n",
    "observers = [replay_buffer.add_batch, regret_metric]\n",
    "\n",
    "driver = dynamic_step_driver.DynamicStepDriver(\n",
    "    env=environment,\n",
    "    policy=agent.collect_policy,\n",
    "    num_steps=steps_per_loop * batch_size,\n",
    "    observers=observers)\n",
    "\n",
    "regret_values = []\n",
    "\n",
    "for _ in range(num_iterations):\n",
    "  driver.run()\n",
    "  loss_info = agent.train(replay_buffer.gather_all())\n",
    "  replay_buffer.clear()\n",
    "  regret_values.append(regret_metric.result())\n",
    "\n",
    "plt.plot(regret_values)\n",
    "plt.ylabel('Average Regret')\n",
    "plt.xlabel('Number of Iterations')print(regret_metric.result())"
   ]
  },
  {
   "cell_type": "markdown",
   "metadata": {
    "id": "J2diHS5IzLuo"
   },
   "source": [
    "After running the last code snippet, the resulting plot (hopefully) shows that the average regret is going down as the agent is trained and the policy gets better in figuring out what the right action is, given the observation."
   ]
  }
 ],
 "metadata": {
  "colab": {
   "collapsed_sections": [],
   "name": "bandits_tutorial.ipynb",
   "private_outputs": true,
   "provenance": [],
   "toc_visible": true
  },
  "kernelspec": {
   "display_name": "Python 3 (ipykernel)",
   "language": "python",
   "name": "python3"
  },
  "language_info": {
   "codemirror_mode": {
    "name": "ipython",
    "version": 3
   },
   "file_extension": ".py",
   "mimetype": "text/x-python",
   "name": "python",
   "nbconvert_exporter": "python",
   "pygments_lexer": "ipython3",
   "version": "3.11.0rc1"
  }
 },
 "nbformat": 4,
 "nbformat_minor": 4
}
