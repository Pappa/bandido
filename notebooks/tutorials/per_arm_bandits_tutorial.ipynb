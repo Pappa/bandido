{
 "cells": [
  {
   "cell_type": "markdown",
   "metadata": {
    "id": "GdBl31Dqwomt"
   },
   "source": [
    "# A Tutorial on Multi-Armed Bandits with Per-Arm Features"
   ]
  },
  {
   "cell_type": "markdown",
   "metadata": {
    "id": "ddRJNIiEwu9O"
   },
   "source": [
    "This tutorial is a step-by-step guide on how to use the TF-Agents library for contextual bandits problems where the actions (arms) have their own features, such as a list of movies represented by features (genre, year of release, ...)."
   ]
  },
  {
   "cell_type": "markdown",
   "metadata": {
    "id": "kscmAIA5xtJW"
   },
   "source": [
    "## Multi-Armed Bandits with Arm Features\n",
    "In the \"classic\" Contextual Multi-Armed Bandits setting, an agent receives a context vector (aka observation) at every time step and has to choose from a finite set of numbered actions (arms) so as to maximize its cumulative reward."
   ]
  },
  {
   "cell_type": "markdown",
   "metadata": {
    "id": "BDkno4bQ1vPE"
   },
   "source": [
    "\n",
    "Now consider the scenario where an agent recommends to a user the next movie to watch. Every time a decision has to be made, the agent receives as context some information about the user (watch history, genre preference, etc...), as well as the list of movies to choose from.\n",
    "\n",
    "We could try to formulate this problem by having the user information as the context and the arms would be `movie_1, movie_2, ..., movie_K`, but this approach has multiple shortcomings:\n",
    "\n",
    "\n",
    "*   The number of actions would have to be all the movies in the system and it is cumbersome to add a new movie.\n",
    "*   The agent has to learn a model for every single movie.\n",
    "*   Similarity between movies is not taken into account.\n",
    "\n",
    "Instead of numbering the movies, we can do something more intuitive: we can represent movies with a set of features including genre, length, cast, rating, year, etc. The advantages of this approach are manifold:\n",
    "\n",
    "*   Generalisation across movies.\n",
    "*   The agent learns just one reward function that models reward with user and movie features.\n",
    "*   Easy to remove from, or introduce new movies to the system.\n",
    "\n",
    "In this new setting, the number of actions does not even have to be the same in every time step.\n",
    "\n"
   ]
  },
  {
   "cell_type": "markdown",
   "metadata": {
    "id": "hMXxIHXNRP5_"
   },
   "source": [
    "## Per-Arm Bandits in TF-Agents\n",
    "The TF-Agents Bandit suite is developed so that one can use it for the per-arm case as well. There are per-arm environments, and also most of the policies and agents can operate in per-arm mode.\n",
    "\n",
    "Before we dive into coding an example, we need the necessery imports."
   ]
  },
  {
   "cell_type": "code",
   "execution_count": 2,
   "metadata": {},
   "outputs": [],
   "source": [
    "# !pip install tf-agents\n",
    "# !pip install tf-keras"
   ]
  },
  {
   "cell_type": "code",
   "execution_count": 3,
   "metadata": {
    "id": "WPuD0bMEY9Iz"
   },
   "outputs": [],
   "source": [
    "import os\n",
    "# Keep using keras-2 (tf-keras) rather than keras-3 (keras).\n",
    "os.environ['TF_USE_LEGACY_KERAS'] = '1'"
   ]
  },
  {
   "cell_type": "markdown",
   "metadata": {
    "id": "EDKNu5JTSDmf"
   },
   "source": [
    "### Imports"
   ]
  },
  {
   "cell_type": "code",
   "execution_count": 4,
   "metadata": {
    "id": "BbQXsoeKR2ui"
   },
   "outputs": [],
   "source": [
    "import matplotlib.pyplot as plt\n",
    "import numpy as np\n",
    "import tensorflow as tf\n",
    "\n",
    "from tf_agents.bandits.agents import lin_ucb_agent\n",
    "from tf_agents.bandits.environments import stationary_stochastic_per_arm_py_environment as p_a_env\n",
    "from tf_agents.bandits.metrics import tf_metrics as tf_bandit_metrics\n",
    "from tf_agents.drivers import dynamic_step_driver\n",
    "from tf_agents.environments import tf_py_environment\n",
    "from tf_agents.replay_buffers import tf_uniform_replay_buffer\n",
    "from tf_agents.specs import tensor_spec\n",
    "from tf_agents.trajectories import time_step as ts\n",
    "\n",
    "nest = tf.nest"
   ]
  },
  {
   "cell_type": "code",
   "execution_count": 5,
   "metadata": {},
   "outputs": [
    {
     "name": "stdout",
     "output_type": "stream",
     "text": [
      "gpus: [PhysicalDevice(name='/physical_device:GPU:0', device_type='GPU')]\n"
     ]
    },
    {
     "data": {
      "text/plain": [
       "True"
      ]
     },
     "execution_count": 5,
     "metadata": {},
     "output_type": "execute_result"
    }
   ],
   "source": [
    "import tensorflow as tf\n",
    "\n",
    "gpus = tf.config.list_physical_devices('GPU')\n",
    "print(f\"gpus: {gpus}\")\n",
    "\n",
    "tf.test.is_built_with_cuda()"
   ]
  },
  {
   "cell_type": "code",
   "execution_count": 6,
   "metadata": {},
   "outputs": [
    {
     "data": {
      "text/plain": [
       "('2.15.0', '0.19.0', '2.15.0', '1.26.2')"
      ]
     },
     "execution_count": 6,
     "metadata": {},
     "output_type": "execute_result"
    }
   ],
   "source": [
    "import tf_agents\n",
    "import tf_keras\n",
    "\n",
    "tf.__version__, tf_agents.__version__, tf_keras.__version__, np.__version__"
   ]
  },
  {
   "cell_type": "markdown",
   "metadata": {
    "id": "Q4cVyq3JMM7Z"
   },
   "source": [
    "### Parameters -- Feel Free to Play Around"
   ]
  },
  {
   "cell_type": "code",
   "execution_count": 7,
   "metadata": {
    "id": "bfna8xm0MSCn"
   },
   "outputs": [],
   "source": [
    "# The dimension of the global features.\n",
    "GLOBAL_DIM = 40  #@param {type:\"integer\"}\n",
    "# The elements of the global feature will be integers in [-GLOBAL_BOUND, GLOBAL_BOUND).\n",
    "GLOBAL_BOUND = 10  #@param {type:\"integer\"}\n",
    "# The dimension of the per-arm features.\n",
    "PER_ARM_DIM = 50  #@param {type:\"integer\"}\n",
    "# The elements of the PER-ARM feature will be integers in [-PER_ARM_BOUND, PER_ARM_BOUND).\n",
    "PER_ARM_BOUND = 6  #@param {type:\"integer\"}\n",
    "# The variance of the Gaussian distribution that generates the rewards.\n",
    "VARIANCE = 100.0  #@param {type: \"number\"}\n",
    "# The elements of the linear reward parameter will be integers in [-PARAM_BOUND, PARAM_BOUND).\n",
    "PARAM_BOUND = 10  #@param {type: \"integer\"}\n",
    "\n",
    "NUM_ACTIONS = 70  #@param {type:\"integer\"}\n",
    "BATCH_SIZE = 20  #@param {type:\"integer\"}\n",
    "\n",
    "# Parameter for linear reward function acting on the\n",
    "# concatenation of global and per-arm features.\n",
    "reward_param = list(np.random.randint(\n",
    "      -PARAM_BOUND, PARAM_BOUND, [GLOBAL_DIM + PER_ARM_DIM]))"
   ]
  },
  {
   "cell_type": "markdown",
   "metadata": {
    "id": "N-mEz1HvRIBC"
   },
   "source": [
    "### A Simple Per-Arm Environment\n",
    "\n",
    "The stationary stochastic environment, explained in the other [tutorial](https://github.com/tensorflow/agents/tree/master/docs/tutorials/bandits_tutorial.ipynb), has a per-arm counterpart.\n",
    "\n",
    "To initialize the per-arm environment, one has to define functions that generate\n",
    "*   *global and per-arm features*: These functions have no input parameters and generate a single (global or per-arm) feature vector when called.\n",
    "*   *rewards*: This function takes as parameter the concatenation of a global and a per-arm feature vector, and generates a reward. Basically this is the function that the agent will have to \"guess\". It is worth noting here that in the per-arm case the reward function is identical for every arm. This is a fundamental difference from the classic bandit case, where the agent has to estimate reward functions for each arm independently.\n"
   ]
  },
  {
   "cell_type": "code",
   "execution_count": 8,
   "metadata": {
    "id": "kfTa5Y4ZYjhO"
   },
   "outputs": [],
   "source": [
    "def global_context_sampling_fn():\n",
    "  \"\"\"This function generates a single global observation vector.\"\"\"\n",
    "  return np.random.randint(\n",
    "      -GLOBAL_BOUND, GLOBAL_BOUND, [GLOBAL_DIM]).astype(np.float32)\n",
    "\n",
    "def per_arm_context_sampling_fn():\n",
    "  \"\"\"\"This function generates a single per-arm observation vector.\"\"\"\n",
    "  return np.random.randint(\n",
    "      -PER_ARM_BOUND, PER_ARM_BOUND, [PER_ARM_DIM]).astype(np.float32)\n",
    "\n",
    "def linear_normal_reward_fn(x):\n",
    "  \"\"\"This function generates a reward from the concatenated global and per-arm observations.\"\"\"\n",
    "  mu = np.dot(x, reward_param)\n",
    "  return np.random.normal(mu, VARIANCE)"
   ]
  },
  {
   "cell_type": "markdown",
   "metadata": {
    "id": "P2vpRPhheTo5"
   },
   "source": [
    "Now we are equipped to initialize our environment."
   ]
  },
  {
   "cell_type": "code",
   "execution_count": 9,
   "metadata": {
    "id": "Ny-yikfQQi9l"
   },
   "outputs": [],
   "source": [
    "per_arm_py_env = p_a_env.StationaryStochasticPerArmPyEnvironment(\n",
    "    global_context_sampling_fn,\n",
    "    per_arm_context_sampling_fn,\n",
    "    NUM_ACTIONS,\n",
    "    linear_normal_reward_fn,\n",
    "    batch_size=BATCH_SIZE\n",
    ")\n",
    "per_arm_tf_env = tf_py_environment.TFPyEnvironment(per_arm_py_env)"
   ]
  },
  {
   "cell_type": "markdown",
   "metadata": {
    "id": "iIzFl8HiAIxg"
   },
   "source": [
    "Below we can check what this environment produces."
   ]
  },
  {
   "cell_type": "code",
   "execution_count": 10,
   "metadata": {
    "id": "J8ZVqMU5AOzs"
   },
   "outputs": [
    {
     "name": "stdout",
     "output_type": "stream",
     "text": [
      "observation spec:  {'global': TensorSpec(shape=(40,), dtype=tf.float32, name=None), 'per_arm': TensorSpec(shape=(70, 50), dtype=tf.float32, name=None)}\n",
      "\n",
      "An observation:  {'global': <tf.Tensor: shape=(20, 40), dtype=float32, numpy=\n",
      "array([[  5.,  -8.,  -9.,   1.,  -4.,  -4.,   9.,   2.,   6.,   5.,  -6.,\n",
      "          9.,   6.,   7.,  -9.,   9.,   2., -10.,   0.,  -1.,   5.,  -4.,\n",
      "         -9.,  -1.,   3., -10.,  -6.,  -4.,   0.,   2.,   1.,   8.,   8.,\n",
      "          2.,  -9.,   4.,   2.,   1.,   8.,  -6.],\n",
      "       [  5.,   6.,  -3.,   1.,  -8.,   3.,   7.,   7.,   7.,  -8.,   4.,\n",
      "          1.,  -9.,  -7.,   0., -10.,  -1.,  -9.,   0.,   0.,  -9.,   1.,\n",
      "         -2.,  -8.,   2., -10.,   0.,  -9.,  -4.,  -8.,   3.,   8.,  -2.,\n",
      "         -6.,   6.,   7.,  -5.,  -4.,  -1.,   5.],\n",
      "       [ -8.,   3.,   0.,   4.,  -5.,  -6.,   0., -10.,   5.,   1.,  -6.,\n",
      "          4.,  -9.,   0.,  -8.,   9.,   6.,   6.,  -9.,  -3.,   6.,   4.,\n",
      "          0.,  -6.,  -8., -10.,  -9.,   1.,   5.,  -7.,   3.,   7.,   1.,\n",
      "         -1.,  -5.,  -8.,   1.,   4.,   0.,   8.],\n",
      "       [ -2.,   0.,  -5.,  -6.,   9.,   2.,   1.,  -1.,   3.,  -5.,   1.,\n",
      "         -1.,   4.,  -9.,  -9.,   3.,   8.,  -1.,  -2.,   1.,  -5.,   2.,\n",
      "          5.,   7.,  -8.,  -6.,   7.,   6., -10.,  -9.,  -4.,   4.,  -8.,\n",
      "         -7.,  -6.,   3.,   7.,   8.,  -5., -10.],\n",
      "       [  4.,   6.,  -4., -10.,  -8.,  -5.,   2.,   7.,   3.,   4.,   7.,\n",
      "         -2.,   4., -10.,   2.,  -8.,   0.,  -5.,   2.,   8.,   8.,  -7.,\n",
      "          8.,   1.,   8.,   8.,   7.,  -1.,  -7.,  -6.,  -1.,   4.,   7.,\n",
      "         -9.,   6.,  -6.,   4.,   2.,   6.,   4.],\n",
      "       [  6.,   8.,  -5.,  -5.,   3.,  -8.,  -4.,  -2.,   2.,  -2.,  -3.,\n",
      "         -6.,   1.,  -3.,   3.,   4.,   4.,  -4.,  -1.,   9.,  -4.,   8.,\n",
      "          6.,   2.,  -3.,  -7.,   2.,   8.,   2.,  -2.,   9.,  -1.,  -9.,\n",
      "        -10.,   2.,  -4.,   2.,   3., -10.,   0.],\n",
      "       [  3., -10.,   3., -10.,  -7.,   3.,  -6.,  -7.,   8.,  -8.,  -2.,\n",
      "         -6.,   9.,  -2.,   5.,   3.,   1.,  -1.,   4.,   8.,   8.,   6.,\n",
      "         -2.,   2.,   8.,   2.,  -7.,   6.,  -4.,  -9., -10.,   8.,   1.,\n",
      "         -1.,  -9., -10.,  -6.,  -1.,  -9.,  -3.],\n",
      "       [ -5.,  -5.,   7.,  -7.,  -3.,  -5.,  -8.,   5.,   2.,   5.,   4.,\n",
      "          4.,  -4.,  -8.,   4.,  -8.,   6.,   1.,   1., -10.,   3.,  -9.,\n",
      "         -2.,   1.,   1.,   0.,  -7.,  -6.,   4.,   2.,   0.,  -4.,  -1.,\n",
      "         -2.,  -2.,   0.,  -7.,  -5.,  -9.,  -3.],\n",
      "       [  6.,   4.,  -6.,   6.,   0.,  -6.,  -5.,   2.,   0.,   7.,   4.,\n",
      "         -5.,  -4.,   1.,   4.,   2.,   5.,   0.,  -2., -10.,   2.,   5.,\n",
      "         -3.,  -4.,  -1., -10.,   9.,  -3.,   7.,  -2.,   5.,   6.,  -3.,\n",
      "          0.,   2.,   8.,  -1.,   0.,   7.,  -6.],\n",
      "       [ -2.,  -9.,   2.,   6.,  -5.,   2., -10.,   5.,  -2.,   8.,   5.,\n",
      "          7., -10.,  -4.,   7.,   6.,  -4.,  -7.,   7.,   2.,  -7.,  -8.,\n",
      "         -4.,   2.,  -1.,  -8.,  -1.,   5.,   4.,   3.,  -1.,   6.,  -3.,\n",
      "         -3.,  -7.,   2.,  -3., -10.,   9.,   4.],\n",
      "       [-10.,  -5.,  -6.,   9.,  -6.,   0.,  -9.,   0.,   0.,  -8.,   1.,\n",
      "         -6.,  -8.,   4.,   8.,   5.,   8.,   7.,  -2.,  -3.,   3.,   5.,\n",
      "         -9.,  -6.,  -4.,  -3.,   6.,  -2.,   4.,  -1.,   5.,  -8.,   1.,\n",
      "          6.,  -5.,   2.,   8.,  -8.,   3.,   0.],\n",
      "       [ -2.,   8.,  -4.,  -2.,  -4.,  -5.,   4.,   4.,   2., -10.,   9.,\n",
      "        -10.,  -3.,   1.,   4.,  -3.,   0., -10.,   9.,   8.,   3.,   3.,\n",
      "         -3.,   7.,  -1.,   1.,   0., -10., -10.,  -9.,  -8.,   0.,  -3.,\n",
      "          1.,  -5.,  -2.,   4.,   2.,  -3.,   0.],\n",
      "       [  1.,   4.,  -3.,  -5.,   7.,  -6.,  -4.,  -7.,  -5.,   4.,  -3.,\n",
      "        -10., -10.,  -2.,  -8.,   1.,   6.,   8.,  -1.,  -3.,  -4.,  -3.,\n",
      "          2.,   2.,   4.,  -6.,   1.,  -6.,   2.,   7., -10.,  -7.,  -3.,\n",
      "         -5.,  -1.,  -6.,   2.,  -3.,   9.,  -8.],\n",
      "       [  4.,  -2.,   6.,   4.,   3.,  -7.,  -6.,   2.,  -7.,  -4.,  -7.,\n",
      "          0.,   3.,   0.,   6.,  -2.,   9.,   4.,   2.,  -9.,  -2.,  -8.,\n",
      "          4.,  -9.,   3.,  -6.,   8.,   7., -10.,  -8.,   1.,  -5.,  -9.,\n",
      "         -4.,   3.,  -9.,  -2.,   0.,   7.,   8.],\n",
      "       [  8.,  -8.,   9.,   8.,   9.,  -7.,   4.,   0.,  -1.,   0.,   0.,\n",
      "          3.,   3.,   7.,  -3.,  -7.,  -5.,  -5.,   5.,   8.,  -2.,   9.,\n",
      "          1.,  -8.,  -6.,   5.,   3.,   2.,  -9., -10.,  -3.,  -3.,  -8.,\n",
      "         -5.,   0.,   8.,  -5.,  -4.,   2.,  -6.],\n",
      "       [ -2.,   1.,   9.,   9.,   3., -10.,   0.,  -8.,  -1.,  -3.,  -1.,\n",
      "          8.,   1.,   6.,  -7.,  -2.,   5.,   7.,   9.,   6.,  -5.,   3.,\n",
      "          0.,   1.,  -9.,  -8.,   5.,   5.,  -9.,   0.,  -7.,  -6.,   3.,\n",
      "          6.,   6.,   1.,  -3.,   7.,   1.,  -4.],\n",
      "       [  4.,   5.,  -5.,   1.,   5.,  -3.,   7.,  -3.,   1., -10.,   9.,\n",
      "          8.,  -4.,  -6.,   3.,  -2.,  -6.,   0.,  -2.,  -2., -10., -10.,\n",
      "          6.,   0., -10.,  -8.,   6.,  -2.,   1.,   5.,   1.,  -3.,   6.,\n",
      "        -10.,   5.,  -1., -10.,   0.,  -7.,  -5.],\n",
      "       [ -9.,  -7., -10.,   5.,  -1.,   6.,   6.,   5.,   4.,  -6.,  -6.,\n",
      "         -2.,   2.,   7.,  -1., -10.,   3.,   8.,   0.,   7.,   9., -10.,\n",
      "         -5.,   1.,  -8.,   6.,  -8.,   3.,  -7.,   2.,  -8.,   8.,   4.,\n",
      "         -9.,   5.,  -2., -10.,   1.,  -9.,  -5.],\n",
      "       [  7.,  -9.,   1.,   6.,   8.,   1.,  -7.,   3.,  -1.,  -2.,   6.,\n",
      "          3.,   1.,   2., -10.,  -4.,  -6.,  -8.,   1.,   1.,   8.,  -8.,\n",
      "         -1.,   2.,   9.,   1.,   2.,   4.,   2., -10.,  -3.,  -2.,   9.,\n",
      "        -10.,   1.,  -8.,  -8.,  -4.,  -3.,  -3.],\n",
      "       [  3., -10.,   4.,   8.,   1.,   3.,   1.,   8.,   8.,   7.,  -8.,\n",
      "          9.,   2.,  -5.,   7.,   8.,   6.,  -4.,   4.,   0.,  -2.,   7.,\n",
      "          0.,   4.,  -6.,   5.,  -6.,  -5.,  -3.,   6.,   4.,   5.,  -9.,\n",
      "          2.,  -6.,   1.,   6., -10.,   4.,   6.]], dtype=float32)>, 'per_arm': <tf.Tensor: shape=(20, 70, 50), dtype=float32, numpy=\n",
      "array([[[-3.,  4., -4., ...,  3., -5.,  5.],\n",
      "        [-1., -3., -1., ...,  3.,  0.,  5.],\n",
      "        [-2.,  3.,  2., ...,  0., -6.,  4.],\n",
      "        ...,\n",
      "        [-1., -1., -3., ..., -5., -4.,  1.],\n",
      "        [-5.,  1.,  5., ...,  3., -6., -4.],\n",
      "        [-6.,  1.,  5., ...,  0., -2.,  4.]],\n",
      "\n",
      "       [[-4., -5., -2., ...,  3.,  1.,  2.],\n",
      "        [-1.,  5., -3., ..., -6., -2., -5.],\n",
      "        [ 4., -1.,  5., ...,  4., -4., -3.],\n",
      "        ...,\n",
      "        [-5.,  5., -5., ...,  3., -2., -1.],\n",
      "        [-2., -2.,  3., ...,  1.,  4.,  5.],\n",
      "        [ 0.,  3., -2., ..., -5.,  1.,  1.]],\n",
      "\n",
      "       [[-2.,  3.,  4., ...,  0., -4., -1.],\n",
      "        [ 2.,  5.,  1., ..., -2., -2.,  5.],\n",
      "        [ 3., -1.,  4., ..., -2., -4.,  1.],\n",
      "        ...,\n",
      "        [-2.,  3.,  4., ..., -6., -6.,  1.],\n",
      "        [ 2.,  2., -3., ...,  1.,  4., -4.],\n",
      "        [ 5.,  0., -5., ..., -6.,  4., -1.]],\n",
      "\n",
      "       ...,\n",
      "\n",
      "       [[-5., -4., -3., ..., -5.,  2.,  0.],\n",
      "        [ 1., -5.,  0., ...,  1.,  2.,  4.],\n",
      "        [ 0.,  1., -6., ...,  4., -1., -6.],\n",
      "        ...,\n",
      "        [-5., -3.,  3., ...,  2., -2., -3.],\n",
      "        [-2.,  1.,  4., ..., -5., -2.,  1.],\n",
      "        [ 2., -1.,  1., ..., -5.,  3., -5.]],\n",
      "\n",
      "       [[ 5., -3., -3., ..., -4.,  0.,  1.],\n",
      "        [-1.,  3., -6., ..., -4., -1., -6.],\n",
      "        [-4., -2., -3., ..., -2., -5.,  1.],\n",
      "        ...,\n",
      "        [ 5.,  4., -4., ...,  3., -6.,  2.],\n",
      "        [ 4.,  2.,  1., ..., -4.,  5.,  1.],\n",
      "        [-5.,  4., -4., ..., -4.,  4., -5.]],\n",
      "\n",
      "       [[-4., -1., -2., ..., -4., -1., -5.],\n",
      "        [-3.,  2.,  3., ..., -2., -4.,  0.],\n",
      "        [ 2.,  3., -5., ...,  3.,  1.,  0.],\n",
      "        ...,\n",
      "        [-1., -1., -5., ..., -6.,  4., -6.],\n",
      "        [ 1.,  5., -2., ...,  1.,  0.,  0.],\n",
      "        [ 1.,  5.,  5., ..., -5., -4.,  0.]]], dtype=float32)>}\n",
      "\n",
      "Rewards after taking an action:  tf.Tensor(\n",
      "[ -36.996456  -22.418388  -62.406284  -97.22994   360.9226     64.394035\n",
      "   99.00421   141.04745    40.128586  325.60992  -298.97592   -55.456528\n",
      "   43.099174 -267.3283   -151.84     -383.4878    231.5488     52.483173\n",
      "  153.8044   -107.64868 ], shape=(20,), dtype=float32)\n"
     ]
    },
    {
     "name": "stderr",
     "output_type": "stream",
     "text": [
      "2025-07-08 19:24:08.833350: I external/local_xla/xla/stream_executor/cuda/cuda_executor.cc:901] successful NUMA node read from SysFS had negative value (-1), but there must be at least one NUMA node, so returning NUMA node zero. See more at https://github.com/torvalds/linux/blob/v6.0/Documentation/ABI/testing/sysfs-bus-pci#L344-L355\n",
      "2025-07-08 19:24:08.854529: I external/local_xla/xla/stream_executor/cuda/cuda_executor.cc:901] successful NUMA node read from SysFS had negative value (-1), but there must be at least one NUMA node, so returning NUMA node zero. See more at https://github.com/torvalds/linux/blob/v6.0/Documentation/ABI/testing/sysfs-bus-pci#L344-L355\n",
      "2025-07-08 19:24:08.857740: I external/local_xla/xla/stream_executor/cuda/cuda_executor.cc:901] successful NUMA node read from SysFS had negative value (-1), but there must be at least one NUMA node, so returning NUMA node zero. See more at https://github.com/torvalds/linux/blob/v6.0/Documentation/ABI/testing/sysfs-bus-pci#L344-L355\n",
      "2025-07-08 19:24:08.966122: I external/local_xla/xla/stream_executor/cuda/cuda_executor.cc:901] successful NUMA node read from SysFS had negative value (-1), but there must be at least one NUMA node, so returning NUMA node zero. See more at https://github.com/torvalds/linux/blob/v6.0/Documentation/ABI/testing/sysfs-bus-pci#L344-L355\n",
      "2025-07-08 19:24:08.967771: I external/local_xla/xla/stream_executor/cuda/cuda_executor.cc:901] successful NUMA node read from SysFS had negative value (-1), but there must be at least one NUMA node, so returning NUMA node zero. See more at https://github.com/torvalds/linux/blob/v6.0/Documentation/ABI/testing/sysfs-bus-pci#L344-L355\n",
      "2025-07-08 19:24:08.969050: I external/local_xla/xla/stream_executor/cuda/cuda_executor.cc:901] successful NUMA node read from SysFS had negative value (-1), but there must be at least one NUMA node, so returning NUMA node zero. See more at https://github.com/torvalds/linux/blob/v6.0/Documentation/ABI/testing/sysfs-bus-pci#L344-L355\n",
      "2025-07-08 19:24:08.970176: I tensorflow/core/common_runtime/gpu/gpu_device.cc:1929] Created device /job:localhost/replica:0/task:0/device:GPU:0 with 5768 MB memory:  -> device: 0, name: NVIDIA GeForce RTX 3080 Laptop GPU, pci bus id: 0000:01:00.0, compute capability: 8.6\n"
     ]
    }
   ],
   "source": [
    "print('observation spec: ', per_arm_tf_env.observation_spec())\n",
    "print('\\nAn observation: ', per_arm_tf_env.reset().observation)\n",
    "\n",
    "action = tf.zeros(BATCH_SIZE, dtype=tf.int32)\n",
    "time_step = per_arm_tf_env.step(action)\n",
    "print('\\nRewards after taking an action: ', time_step.reward)"
   ]
  },
  {
   "cell_type": "markdown",
   "metadata": {
    "id": "eIlCGssRAzIr"
   },
   "source": [
    "We see that the observation spec is a dictionary with two elements:\n",
    "\n",
    "\n",
    "*   One with key `'global'`: this is the global context part, with shape matching the parameter `GLOBAL_DIM`.\n",
    "*   One with key `'per_arm'`: this is the per-arm context, and its shape is `[NUM_ACTIONS, PER_ARM_DIM]`. This part is the placeholder for the arm features for every arm in a time step.\n",
    "\n"
   ]
  },
  {
   "cell_type": "markdown",
   "metadata": {
    "id": "eTpWbNVeS6ci"
   },
   "source": [
    "### The LinUCB Agent"
   ]
  },
  {
   "cell_type": "markdown",
   "metadata": {
    "id": "q83tgZR9LLUx"
   },
   "source": [
    "The LinUCB agent implements the identically named Bandit algorithm, which estimates the parameter of the linear reward function while also maintains a confidence ellipsoid around the estimate. The agent chooses the arm that has the highest estimated expected reward, assuming that the parameter lies within the confidence ellipsoid.\n",
    "\n",
    "Creating an agent requires the knowledge of the observation and the action specification. When defining the agent, we set the boolean parameter `accepts_per_arm_features` set to `True`."
   ]
  },
  {
   "cell_type": "code",
   "execution_count": 11,
   "metadata": {
    "id": "MqzA9Zi0Q2No"
   },
   "outputs": [],
   "source": [
    "observation_spec = per_arm_tf_env.observation_spec()\n",
    "time_step_spec = ts.time_step_spec(observation_spec)\n",
    "action_spec = tensor_spec.BoundedTensorSpec(\n",
    "    dtype=tf.int32, shape=(), minimum=0, maximum=NUM_ACTIONS - 1)\n",
    "\n",
    "agent = lin_ucb_agent.LinearUCBAgent(time_step_spec=time_step_spec,\n",
    "                                     action_spec=action_spec,\n",
    "                                     accepts_per_arm_features=True)"
   ]
  },
  {
   "cell_type": "markdown",
   "metadata": {
    "id": "MaQlv1lpC-oc"
   },
   "source": [
    "### The Flow of Training Data\n",
    "\n",
    "This section gives a sneak peek into the mechanics of how per-arm features go from the policy to training. Feel free to jump to the next section (Defining the Regret Metric) and come back here later if interested."
   ]
  },
  {
   "cell_type": "markdown",
   "metadata": {
    "id": "gUSy2IFK5NpU"
   },
   "source": [
    "First, let us have a look at the data specification in the agent. The `training_data_spec` attribute of the agent specifies what elements and structure the training data should have."
   ]
  },
  {
   "cell_type": "code",
   "execution_count": 12,
   "metadata": {
    "id": "YQRZd43o5M0j"
   },
   "outputs": [
    {
     "name": "stdout",
     "output_type": "stream",
     "text": [
      "training data spec:  Trajectory(\n",
      "{'step_type': TensorSpec(shape=(), dtype=tf.int32, name='step_type'),\n",
      " 'observation': DictWrapper({'global': TensorSpec(shape=(40,), dtype=tf.float32, name=None)}),\n",
      " 'action': BoundedTensorSpec(shape=(), dtype=tf.int32, name=None, minimum=array(0, dtype=int32), maximum=array(69, dtype=int32)),\n",
      " 'policy_info': PerArmPolicyInfo(log_probability=(), predicted_rewards_mean=(), multiobjective_scalarized_predicted_rewards_mean=(), predicted_rewards_optimistic=(), predicted_rewards_sampled=(), bandit_policy_type=(), chosen_arm_features=TensorSpec(shape=(50,), dtype=tf.float32, name=None)),\n",
      " 'next_step_type': TensorSpec(shape=(), dtype=tf.int32, name='step_type'),\n",
      " 'reward': TensorSpec(shape=(), dtype=tf.float32, name='reward'),\n",
      " 'discount': BoundedTensorSpec(shape=(), dtype=tf.float32, name='discount', minimum=array(0., dtype=float32), maximum=array(1., dtype=float32))})\n"
     ]
    }
   ],
   "source": [
    "print('training data spec: ', agent.training_data_spec)"
   ]
  },
  {
   "cell_type": "markdown",
   "metadata": {
    "id": "UyEFAHUg-m9V"
   },
   "source": [
    "If we have a closer look to the `observation` part of the spec, we see that it does not contain per-arm features!"
   ]
  },
  {
   "cell_type": "code",
   "execution_count": 13,
   "metadata": {
    "id": "lTBR1vgG-2AM"
   },
   "outputs": [
    {
     "name": "stdout",
     "output_type": "stream",
     "text": [
      "observation spec in training:  {'global': TensorSpec(shape=(40,), dtype=tf.float32, name=None)}\n"
     ]
    }
   ],
   "source": [
    "print('observation spec in training: ', agent.training_data_spec.observation)"
   ]
  },
  {
   "cell_type": "markdown",
   "metadata": {
    "id": "eDtmUgeJA_DN"
   },
   "source": [
    "What happened to the per-arm features? To answer this question, first we note that when the LinUCB agent trains, it does not need the per-arm features of **all** arms, it only needs those of the **chosen** arm. Hence, it makes sense to drop the tensor of shape `[BATCH_SIZE, NUM_ACTIONS, PER_ARM_DIM]`, as it is very wasteful, especially if the number of actions is large.\n",
    "\n",
    "But still, the per-arm features of the chosen arm must be somewhere! To this end, we make sure that the LinUCB policy stores the features of the chosen arm within the `policy_info` field of the training data:"
   ]
  },
  {
   "cell_type": "code",
   "execution_count": 14,
   "metadata": {
    "id": "C0fHvLm0Cpq9"
   },
   "outputs": [
    {
     "name": "stdout",
     "output_type": "stream",
     "text": [
      "chosen arm features:  TensorSpec(shape=(50,), dtype=tf.float32, name=None)\n"
     ]
    }
   ],
   "source": [
    "print('chosen arm features: ', agent.training_data_spec.policy_info.chosen_arm_features)"
   ]
  },
  {
   "cell_type": "markdown",
   "metadata": {
    "id": "4psGJKGIDVgN"
   },
   "source": [
    "We see from the shape that the `chosen_arm_features` field has only the feature vector of one arm, and that will be the chosen arm. Note that the `policy_info`, and with it the `chosen_arm_features`, is part of the training data, as we saw from inspecting the training data spec, and thus it is available at training time."
   ]
  },
  {
   "cell_type": "markdown",
   "metadata": {
    "id": "ancYxxEHc-6Q"
   },
   "source": [
    "### Defining the Regret Metric"
   ]
  },
  {
   "cell_type": "markdown",
   "metadata": {
    "id": "4j2RTrBfzVJQ"
   },
   "source": [
    "Before starting the training loop, we define some utility functions that help calculate the regret of our agent. These functions help determining the optimal expected reward given the set of actions (given by their arm features) and the linear parameter that is hidden from the agent."
   ]
  },
  {
   "cell_type": "code",
   "execution_count": 15,
   "metadata": {
    "id": "N1_kJAOS6VPo"
   },
   "outputs": [],
   "source": [
    "def _all_rewards(observation, hidden_param):\n",
    "  \"\"\"Outputs rewards for all actions, given an observation.\"\"\"\n",
    "  hidden_param = tf.cast(hidden_param, dtype=tf.float32)\n",
    "  global_obs = observation['global']\n",
    "  per_arm_obs = observation['per_arm']\n",
    "  num_actions = tf.shape(per_arm_obs)[1]\n",
    "  tiled_global = tf.tile(\n",
    "      tf.expand_dims(global_obs, axis=1), [1, num_actions, 1])\n",
    "  concatenated = tf.concat([tiled_global, per_arm_obs], axis=-1)\n",
    "  rewards = tf.linalg.matvec(concatenated, hidden_param)\n",
    "  return rewards\n",
    "\n",
    "def optimal_reward(observation):\n",
    "  \"\"\"Outputs the maximum expected reward for every element in the batch.\"\"\"\n",
    "  return tf.reduce_max(_all_rewards(observation, reward_param), axis=1)\n",
    "\n",
    "regret_metric = tf_bandit_metrics.RegretMetric(optimal_reward)"
   ]
  },
  {
   "cell_type": "markdown",
   "metadata": {
    "id": "i06WDbjrUSog"
   },
   "source": [
    "Now we are all set for starting our bandit training loop. The driver below takes care of choosing actions using the policy, storing rewards of chosen actions in the replay buffer, calculating the predefined regret metric, and executing the training step of the agent."
   ]
  },
  {
   "cell_type": "code",
   "execution_count": 16,
   "metadata": {
    "id": "j2Iimtmkzs0-"
   },
   "outputs": [
    {
     "name": "stdout",
     "output_type": "stream",
     "text": [
      "WARNING:tensorflow:From /tmp/ipykernel_27/1190294793.py:21: ReplayBuffer.gather_all (from tf_agents.replay_buffers.replay_buffer) is deprecated and will be removed in a future version.\n",
      "Instructions for updating:\n",
      "Use `as_dataset(..., single_deterministic_pass=True)` instead.\n"
     ]
    }
   ],
   "source": [
    "num_iterations = 20 # @param\n",
    "steps_per_loop = 1 # @param\n",
    "\n",
    "replay_buffer = tf_uniform_replay_buffer.TFUniformReplayBuffer(\n",
    "    data_spec=agent.policy.trajectory_spec,\n",
    "    batch_size=BATCH_SIZE,\n",
    "    max_length=steps_per_loop)\n",
    "\n",
    "observers = [replay_buffer.add_batch, regret_metric]\n",
    "\n",
    "driver = dynamic_step_driver.DynamicStepDriver(\n",
    "    env=per_arm_tf_env,\n",
    "    policy=agent.collect_policy,\n",
    "    num_steps=steps_per_loop * BATCH_SIZE,\n",
    "    observers=observers)\n",
    "\n",
    "regret_values = []\n",
    "\n",
    "for _ in range(num_iterations):\n",
    "  driver.run()\n",
    "  loss_info = agent.train(replay_buffer.gather_all())\n",
    "  replay_buffer.clear()\n",
    "  regret_values.append(regret_metric.result())\n"
   ]
  },
  {
   "cell_type": "markdown",
   "metadata": {
    "id": "yG5VMgSlUqYS"
   },
   "source": [
    " Now let's see the result. If we did everything right, the agent is able to estimate the linear reward function well, and thus the policy can pick actions whose expected reward is close to that of the optimal. This is indicated by our above defined regret metric, which goes down and approaches zero."
   ]
  },
  {
   "cell_type": "code",
   "execution_count": 17,
   "metadata": {
    "id": "p4DOYwhMSUVh"
   },
   "outputs": [
    {
     "data": {
      "image/png": "[encoded data removed]",
      "text/plain": [
       "<Figure size 640x480 with 1 Axes>"
      ]
     },
     "metadata": {},
     "output_type": "display_data"
    }
   ],
   "source": [
    "plt.plot(regret_values)\n",
    "plt.title('Regret of LinUCB on the Linear per-arm environment')\n",
    "plt.xlabel('Number of Iterations')\n",
    "_ = plt.ylabel('Average Regret')"
   ]
  },
  {
   "cell_type": "markdown",
   "metadata": {
    "id": "t7ZgHgOx5Ojq"
   },
   "source": [
    "### What's Next?\n",
    "The above example is [implemented](https://github.com/tensorflow/agents/blob/master/tf_agents/bandits/agents/examples/v2/train_eval_per_arm_stationary_linear.py) in our codebase where you can choose from other agents as well, including the [Neural epsilon-Greedy agent](https://github.com/tensorflow/agents/blob/master/tf_agents/bandits/agents/neural_epsilon_greedy_agent.py)."
   ]
  }
 ],
 "metadata": {
  "colab": {
   "collapsed_sections": [
    "t7ZgHgOx5Ojq"
   ],
   "name": "per_arm_tutorial.ipynb",
   "provenance": [
    {
     "file_id": "1FGIvkvTjJ_yQ4sthnCKxMDtDyQjhn9GF",
     "timestamp": 1600257099961
    }
   ],
   "toc_visible": true
  },
  "kernelspec": {
   "display_name": "Python 3 (ipykernel)",
   "language": "python",
   "name": "python3"
  },
  "language_info": {
   "codemirror_mode": {
    "name": "ipython",
    "version": 3
   },
   "file_extension": ".py",
   "mimetype": "text/x-python",
   "name": "python",
   "nbconvert_exporter": "python",
   "pygments_lexer": "ipython3",
   "version": "3.11.0rc1"
  }
 },
 "nbformat": 4,
 "nbformat_minor": 4
}
